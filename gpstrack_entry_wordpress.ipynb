{
 "cells": [
  {
   "cell_type": "code",
   "execution_count": 34,
   "metadata": {},
   "outputs": [],
   "source": [
    "wikiloc_id = '52972944'\n",
    "insta_id = '17874450628759541' #False\n",
    "description_file_name = 'input/track_description.txt'\n",
    "photoslinks_file_name = 'input/photos_links.txt'\n",
    "with_photos = True\n",
    "title = ''"
   ]
  },
  {
   "cell_type": "code",
   "execution_count": 35,
   "metadata": {},
   "outputs": [],
   "source": [
    "f = open(description_file_name, 'r')\n",
    "text = f.read()\n",
    "f.close()\n",
    "\n",
    "text = text.split('\\n')\n",
    "text = ['<p style=\"text-align: justify;\">' + t + '</p>' for t in text]"
   ]
  },
  {
   "cell_type": "code",
   "execution_count": 36,
   "metadata": {},
   "outputs": [],
   "source": [
    "map_text = '<figure>\\n<p align=\"center\"><iframe src=\"https://www.wikiloc.com/wikiloc/spatialArtifacts.do?event=view&amp;id={}&amp;measures=off&amp;title=off&amp;near=off&amp;images=off&amp;maptype=H\" width=\"80%\" height=\"375\" frameborder=\"0\" scrolling=\"no\"></iframe></p>\\n</figure>'.format(wikiloc_id)"
   ]
  },
  {
   "cell_type": "code",
   "execution_count": 37,
   "metadata": {},
   "outputs": [],
   "source": [
    "#https://www.publicalbum.org/blog/embed-photos-slideshow-carousel-widget\n",
    "\n",
    "if with_photos:\n",
    "\n",
    "    f = open(photoslinks_file_name, 'r')\n",
    "    links = f.read()\n",
    "    f.close()\n",
    "\n",
    "    photos_text = '<p><script src=\"https://cdn.jsdelivr.net/npm/publicalbum@latest/embed-ui.min.js\" async=\"\"></script></p>\\n<div class=\"pa-carousel-widget\" style=\"width: 80%; height: 444px; display: none; margin: 0 auto;\" data-link=\"\" data-show-link-button=\"true\" data-delay=\"3\">'\n",
    "\n",
    "    links = links.replace(' ','')\n",
    "    links = links.replace('<objectdata=','<img data-src=')\n",
    "    links = links.replace('</object>','')\n",
    "\n",
    "    photos_text = photos_text + '\\n' + links + '\\n</div>'\n",
    "\n",
    "else: photos_text = 'None'"
   ]
  },
  {
   "cell_type": "code",
   "execution_count": 38,
   "metadata": {
    "tags": []
   },
   "outputs": [],
   "source": [
    "if(insta_id): insta_story = '<p align=\"center\"><a href=\"https://www.instagram.com/stories/highlights/{}/\" target=\"_blank\">&gt;&gt; Historia de Instagram &lt;&lt;</a></p>'.format(insta_id)\n",
    "else: insta_story = 'None'"
   ]
  },
  {
   "cell_type": "code",
   "execution_count": 39,
   "metadata": {
    "tags": []
   },
   "outputs": [
    {
     "output_type": "stream",
     "name": "stdout",
     "text": "<p style=\"text-align: justify;\">Ruta de ida y vuelta corriendo por la montaña de 19km y 450m de desnivel acumulado que partiendo del centro de Sant Cugat del Vallès asciende hasta el pico del Tibidabo y desciende por el mismo camino. Es una ruta bastante directa hasta su destino que se limita a subir y bajar de la forma más progresiva posible en cuanto a pendiente se refiere. Para ello, la ruta discurre mayormente por un sendero que los ciclistas de montaña lo suelen llamar el Acueducto. El sendero presenta abundantes escalones de roca natural que habrá que ir sorteando con cuidado.</p>\n<figure>\n<p align=\"center\"><iframe src=\"https://www.wikiloc.com/wikiloc/spatialArtifacts.do?event=view&amp;id=52972944&amp;measures=off&amp;title=off&amp;near=off&amp;images=off&amp;maptype=H\" width=\"80%\" height=\"375\" frameborder=\"0\" scrolling=\"no\"></iframe></p>\n</figure>\n<p><script src=\"https://cdn.jsdelivr.net/npm/publicalbum@latest/embed-ui.min.js\" async=\"\"></script></p>\n<div class=\"pa-carousel-widget\" style=\"width: 80%; height: 444px; display: none; margin: 0 auto;\" data-link=\"\" data-show-link-button=\"true\" data-delay=\"3\">\n<img data-src=\"https://lh3.googleusercontent.com/eAc7VrVDNdAe_rw_Z08Sbhw8LJ_zuQ9tEMhN9UkA-Q_gHa64tUtsnx_XBTZ40ohIUHohiFd8k1gYUBKT8UFa9uhdOYn3jGd2V6q_QbcdoCYRSoV5HJzCItpfJvaruxw3hmk9_CUwXPs=w1920-h1080\">\n<img data-src=\"https://lh3.googleusercontent.com/GeJ3efrmrUPFpQvDB0BOBcBT6YC-Vyq3bBNsLlUkxPxDbdjo8dzm7flKHn7U7zNke3XUhuy7uL0NJq8LuZJWDhFZIrNeUcNeRhz3cU_p7riQg9PLEE-vYdEps0hgB1PFnEsckw_foH8=w1920-h1080\">\n<img data-src=\"https://lh3.googleusercontent.com/-598IeHE9QrloHE9_uEmgOycdDLTGl_6bpN79zjf33l2LOXh-IB6pxluHtT-8z3E9ooEl10rlJcGT8QxApd3O5D-2oNVUA5pqIZaz2ScjSQyDUTwdgSzne_hJTeFgy6UYOqzcO0uSoA=w1920-h1080\">\n</div>\n<p align=\"center\"><a href=\"https://www.instagram.com/stories/highlights/17874450628759541/\" target=\"_blank\">&gt;&gt; Historia de Instagram &lt;&lt;</a></p>\n<p style=\"text-align: justify;\">Partimos del centro de Sant Cugat del Vallès y bajamos la Rambla del Celler para luego desviarnos a la derecha por la avenida de les Corts Catalanes hasta la rotonda de Rotary Internacional. A partir de allí, seguimos la pista que se dirige a Can Borrell (GR-6) pasando por delante del Pi d’en Xandri.</p>\n<p><!--more--></p>\n<p style=\"text-align: justify;\">Una vez lleguemos a Can Borrell avanzamos unos 100m por la misma pista que se dirige a Sant Medir y luego salimos de ella a la derecha por un sendero que se mete dentro del bosque. El inicio del sendero queda muy claro gracias a la presencia de un palo con un cartel con indicaciones. Subimos por el sendero que básicamente recorre la sierra de la Rabassada. El trazado es muy claro pero es sobre roca que forma escalones naturales y que pueden ocasionar algún tropiezo. Por suerte el pendiente no es muy alto y se puede hacer corriendo en casi todos los tramos. Al final el sendero se convierte en una estrecha pista y sabremos que la estamos acabando cuando pasemos por encima del Viaducto de piedra de Can Ribes (una especie de puente). Acto seguido pasaremos por delante de la masía de Can Ribes y saldremos a la carretera de la Arrabassada.</p>\n<p style=\"text-align: justify;\">Hay que seguir unos metros la carretera hacia la izquierda. Lo podemos hacer por un sendero que hay en el margen izquierdo paralelo a la calzada. Rápidamente veremos a nuestra derecha que al cruzar la calzada hay un camino que sube por la ladera de lo que se conoce como colina del Turó de Miralluna y acaba llegando a la pista del Camí de Sant Cugat que viene de la urbanización del Tibidabo. Justo al llegar a la pista hay una fuente de agua donde podemos aprovechar para beber.</p>\n<p style=\"text-align: justify;\">Ya solo queda el último tramo de montaña. Desde la misma pista, justo enfrente de la fuente, parte otro sendero bastante pronunciado que nos llevará justo a la carretera de Vallvidrera al Tibidabo por donde está el hotel La Florida. Ahora solo nos queda seguir esta carretera hacia arriba y acabaremos llegando delante del templo del Sagrat Cor y al mirador del Tibidabo delante de la noria del parque de atracciones.</p>\n<p style=\"text-align: justify;\">El descenso se hace exactamente por el mismo camino. Cardiovascularmente no es tan exigente al ser bajada pero hay que tener mucho cuidado de no lesionarse bajando por la trialera del Acueducto. El último tramo desde Can Borrell a Sant Cugat es el clásico por pista y permite relajarse bastante.</p>\n"
    }
   ],
   "source": [
    "text = [text[0], map_text, photos_text, insta_story, text[1], '<p><!--more--></p>'] + text[2:]\n",
    "text = [x for x in text if x != 'None']\n",
    "#if with_photos: text = [text[0], map_text, photos_text, text[1], '<p><!--more--></p>'] + text[2:]\n",
    "#else: text = [text[0], map_text, text[1], '<p><!--more--></p>'] + text[2:]\n",
    "print('\\n'.join(text))"
   ]
  },
  {
   "cell_type": "code",
   "execution_count": null,
   "metadata": {},
   "outputs": [],
   "source": []
  }
 ],
 "metadata": {
  "language_info": {
   "codemirror_mode": {
    "name": "ipython",
    "version": 3
   },
   "file_extension": ".py",
   "mimetype": "text/x-python",
   "name": "python",
   "nbconvert_exporter": "python",
   "pygments_lexer": "ipython3",
   "version": 3
  },
  "orig_nbformat": 2,
  "kernelspec": {
   "name": "python_defaultSpec_1595153036923",
   "display_name": "Python 3.7.7 64-bit ('base': conda)"
  }
 },
 "nbformat": 4,
 "nbformat_minor": 2
}