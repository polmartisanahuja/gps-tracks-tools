{
 "cells": [
  {
   "cell_type": "code",
   "execution_count": 1,
   "metadata": {},
   "outputs": [],
   "source": [
    "import os\n",
    "import re\n",
    "import pandas as pd\n",
    "import numpy as np\n",
    "import matplotlib"
   ]
  },
  {
   "cell_type": "code",
   "execution_count": 2,
   "metadata": {},
   "outputs": [],
   "source": [
    "activity_dic = {\n",
    "'20101214_192332_biking_garmin_tcx': 'running',\n",
    "'20110521_180044_biking_garmin_tcx': 'hiking',\n",
    "'20100527_171448_biking_garmin_tcx': 'motorcycling', \n",
    "'20110219_093542_biking_garmin_tcx': 'motorcycling',\n",
    "'20130502_153934_undefined_mytracks_kml': 'running',\n",
    "'20130513_174345_undefined_mytracks_kml': 'running',\n",
    "'20130521_171346_undefined_mytracks_kml': 'running',\n",
    "'20130523_173418_undefined_mytracks_kml': 'running',\n",
    "'20130526_181024_undefined_mytracks_kml': 'running',\n",
    "'20130530_172356_undefined_mytracks_kml': 'running',\n",
    "'20130604_170950_undefined_mytracks_kml': 'running',\n",
    "'20130606_175817_undefined_mytracks_kml': 'running',\n",
    "'20130610_161931_undefined_mytracks_kml': 'running',\n",
    "'20130612_174235_undefined_mytracks_kml': 'running',\n",
    "'20130613_165340_undefined_mytracks_kml': 'running',\n",
    "'20130616_185128_undefined_mytracks_kml': 'running',\n",
    "'20130618_185954_undefined_mytracks_kml': 'running',\n",
    "'20130620_175427_undefined_mytracks_kml': 'running',\n",
    "'20130624_184358_undefined_mytracks_kml': 'running',\n",
    "'20130626_183247_undefined_mytracks_kml': 'running',\n",
    "'20130628_172259_undefined_mytracks_kml': 'running',\n",
    "'20130812_181641_undefined_mytracks_kml': 'running',\n",
    "'20130814_173219_undefined_mytracks_kml': 'running',\n",
    "'20130816_180021_undefined_mytracks_kml': 'running',\n",
    "'20130818_183813_undefined_mytracks_kml': 'running',\n",
    "'20140115_192312_undefined_mytracks_kml': 'running',\n",
    "'20140117_181320_undefined_mytracks_kml': 'running',\n",
    "'20140126_090025_undefined_mytracks_kml': 'running',\n",
    "'20140130_185104_undefined_mytracks_kml': 'running',\n",
    "'20140203_184139_undefined_mytracks_kml': 'running',\n",
    "'20140315_084554_undefined_mytracks_kml': 'running',\n",
    "'20130330_170226_undefined_mytracks_kml': 'hiking',\n",
    "'20130331_093008_undefined_mytracks_kml': 'hiking',\n",
    "'20130630_080523_undefined_mytracks_kml': 'hiking',\n",
    "'20140207_175614_undefined_mytracks_kml': 'hiking',\n",
    "'20140209_180628_undefined_mytracks_kml': 'hiking',\n",
    "'20140301_101656_undefined_mytracks_kml': 'hiking',\n",
    "'20140304_180022_undefined_mytracks_kml': 'hiking',\n",
    "'20140918_182839_undefined_oruxmaps_gpx': 'running',\n",
    "'20120220_182704_undefined_oruxmaps_gpx': 'biking',\n",
    "'20121115_180700_undefined_oruxmaps_kml': 'biking',\n",
    "'20121222_104600_undefined_oruxmaps_kml': 'biking',\n",
    "'20140614_095800_undefined_oruxmaps_kml': 'hiking',\n",
    "'20120812_154831_undefined_oziexplorer_gpx': 'hiking',\n",
    "'20120811_050855_undefined_oziexplorer_plt': 'hiking',\n",
    "'20120814_164745_undefined_oziexplorer_plt': 'rowing',\n",
    "'20120908_081000_undefined_oziexplorer_plt': 'hiking',\n",
    "'20120812_154831_undefined_oziexplorer_plt': 'hiking',\n",
    "'20120819_045021_biking_strava_gpx': 'hiking',\n",
    "'20091004_120154_biking_strava_tcx': 'hiking',\n",
    "'20090927_082238_biking_strava_tcx': 'hiking',\n",
    "'20171025_173030_biking_strava_tcx': 'hiking',\n",
    "'20140921_064417_running_strava_gpx': 'hiking',\n",
    "'20120229_183531_running_strava_gpx': 'biking',\n",
    "'20090325_075150_biking_garmin_tcx': 'driving',\n",
    "'20090325_210549_biking_garmin_tcx': 'driving',\n",
    "'20090328_174522_biking_garmin_tcx': 'driving',\n",
    "'20090512_050557_biking_garmin_tcx': 'train',\n",
    "'20090819_092005_biking_garmin_tcx': 'driving',\n",
    "'20090819_142116_biking_garmin_tcx': 'driving',\n",
    "'20090821_175705_biking_garmin_tcx': 'driving',\n",
    "'20090925_073416_biking_garmin_tcx': 'driving',\n",
    "'20091010_092412_biking_garmin_tcx': 'mushrooms',\n",
    "'20091010_221532_biking_garmin_tcx': 'driving',\n",
    "'20091122_065306_biking_garmin_tcx': 'flying',\n",
    "'20091128_142834_biking_garmin_tcx': 'flying',\n",
    "'20091207_130518_biking_garmin_tcx': 'driving',\n",
    "'20091227_130918_biking_garmin_tcx': 'skiing',\n",
    "'20091229_114847_biking_garmin_tcx': 'driving',\n",
    "'20100131_111600_biking_garmin_tcx': 'flying',\n",
    "'20100204_101537_biking_garmin_tcx': 'bus',\n",
    "'20100206_150543_biking_garmin_tcx': 'flying',\n",
    "'20101016_103631_undefined_mytracks_gpx': 'mushrooms',\n",
    "'20101121_095609_undefined_mytracks_gpx': 'flying',\n",
    "'20110114_163153_biking_garmin_tcx': 'flying',\n",
    "'20110115_085602_biking_garmin_tcx': 'driving',\n",
    "'20110116_110017_biking_garmin_tcx': 'driving',\n",
    "'20110116_183852_biking_garmin_tcx': 'flying',\n",
    "'20110214_182637_biking_garmin_tcx': 'train',\n",
    "'20110313_145610_undefined_mytracks_gpx': 'driving',\n",
    "'20110627_091457_biking_garmin_tcx': 'flying',\n",
    "'20111206_113716_undefined_oruxmaps_gpx': 'driving',\n",
    "'20120123_175321_undefined_oruxmaps_gpx': 'train',\n",
    "'20120211_092429_undefined_oruxmaps_gpx': 'skiing',\n",
    "'20130922_114903_undefined_mytracks_kml': 'canyoning',\n",
    "'20140326_120049_undefined_mytracks_kml': 'skiing',\n",
    "'20140517_144424_undefined_mytracks_kml': 'touristictrain'\n",
    "}"
   ]
  },
  {
   "cell_type": "markdown",
   "metadata": {},
   "source": [
    "# Formating track name"
   ]
  },
  {
   "cell_type": "code",
   "execution_count": 3,
   "metadata": {},
   "outputs": [],
   "source": [
    "os.mkdir('/Volumes/Media/Tracks/Library_clean/')"
   ]
  },
  {
   "cell_type": "code",
   "execution_count": 4,
   "metadata": {},
   "outputs": [],
   "source": [
    "os.mkdir('/Volumes/Media/Tracks/Library_clean/other/')\n",
    "os.mkdir('/Volumes/Media/Tracks/Library_clean/to_delete/')\n",
    "os.mkdir('/Volumes/Media/Tracks/Library_clean/to_repair/')\n",
    "os.mkdir('/Volumes/Media/Tracks/Library_clean/repeated/')\n",
    "\n",
    "os.mkdir('/Volumes/Media/Tracks/Library_clean/polmartisanahuja/')\n",
    "os.mkdir('/Volumes/Media/Tracks/Library_clean/polmartisanahuja/biking')\n",
    "os.mkdir('/Volumes/Media/Tracks/Library_clean/polmartisanahuja/hiking')\n",
    "os.mkdir('/Volumes/Media/Tracks/Library_clean/polmartisanahuja/motorcycling')\n",
    "os.mkdir('/Volumes/Media/Tracks/Library_clean/polmartisanahuja/running')\n",
    "\n",
    "os.mkdir('/Volumes/Media/Tracks/Library_clean/lostrackers/')\n",
    "os.mkdir('/Volumes/Media/Tracks/Library_clean/lostrackers/hiking/')\n",
    "os.mkdir('/Volumes/Media/Tracks/Library_clean/lostrackers/motorcycling/')"
   ]
  },
  {
   "cell_type": "markdown",
   "metadata": {},
   "source": [
    "## GARMIN_TCX"
   ]
  },
  {
   "cell_type": "code",
   "execution_count": 5,
   "metadata": {},
   "outputs": [],
   "source": [
    "folder_path_in = '/Volumes/Media/Tracks/Library/GARMIN_TCX'\n",
    "folder_path_out = '/Volumes/Media/Tracks/Library_clean/other/'\n",
    "\n",
    "file_list = [f for f in os.listdir(folder_path_in) if f.endswith('.tcx')]\n",
    "#file_list"
   ]
  },
  {
   "cell_type": "code",
   "execution_count": 6,
   "metadata": {},
   "outputs": [
    {
     "output_type": "stream",
     "name": "stdout",
     "text": "2009-03-25-07-51-50.tcx\n2009-03-25-21-05-49.tcx\n2009-03-26-08-40-06.tcx\n2009-03-28-17-45-22.tcx\n2009-04-05-13-57-38.tcx\n2009-04-05-15-00-44.tcx\n2009-05-02-07-11-31.tcx\n2009-05-12-05-05-57.tcx\n2009-05-16-06-45-17.tcx\n2009-06-07-06-18-07.tcx\n2009-08-07-07-35-20.tcx\n2009-08-16-09-13-48.tcx\n2009-08-19-09-20-05.tcx\n2009-08-19-14-21-16.tcx\n2009-08-20-09-47-23.tcx\n2009-08-21-17-57-05.tcx\n2009-08-22-11-00-29.tcx\n2009-09-05-10-08-19.tcx\n2009-09-11-10-25-06.tcx\n2009-09-19-10-28-02.tcx\n2009-09-25-07-34-16.tcx\n2009-09-27-08-22-38.tcx\n2009-10-04-12-01-54.tcx\n2009-10-10-09-24-12.tcx\n2009-10-10-22-15-32.tcx\n2009-10-11-10-32-50.tcx\n2009-10-12-10-19-02.tcx\n2009-10-17-15-24-48.tcx\n2009-10-24-07-28-44.tcx\n2009-10-25-08-16-18.tcx\n2009-10-25-10-47-13.tcx\n2009-11-21-07-27-38.tcx\n2009-11-22-06-53-06.tcx\n2009-11-28-14-28-34.tcx\n2009-12-07-11-07-43.tcx\n2009-12-07-13-05-18.tcx\n2009-12-20-09-57-56.tcx\n2009-12-27-13-09-18.tcx\n2009-12-29-11-48-47.tcx\n2010-01-10-07-42-18.tcx\n2010-01-30-08-57-53.tcx\n2010-01-31-11-16-00.tcx\n2010-02-04-10-15-37.tcx\n2010-02-05-10-52-13.tcx\n2010-02-06-15-05-43.tcx\n2010-02-14-08-31-34.tcx\n2010-02-28-12-30-12.tcx\n2010-03-07-11-21-18.tcx\n2010-03-13-08-53-38.tcx\n2010-03-28-07-45-27.tcx\n2010-03-28-10-27-08.tcx\n2010-03-30-08-02-29.tcx\n2010-04-03-10-28-51.tcx\n2010-04-04-10-19-31.tcx\n2010-04-10-07-41-17.tcx\n2010-04-24-07-19-48.tcx\n2010-05-15-16-02-17.tcx\n2010-05-15-17-29-15.tcx\n2010-05-27-17-14-48.tcx\n2010-05-31-06-01-10.tcx\n2010-05-31-16-17-06.tcx\n2010-06-13-07-09-01.tcx\n2010-07-26-05-53-55.tcx\n2010-07-26-16-20-34.tcx\n2010-07-28-06-06-33.tcx\n2010-07-28-16-33-01.tcx\n2010-09-02-09-27-43.tcx\n2010-09-02-15-58-43.tcx\n2010-09-04-10-33-42.tcx\n2010-09-14-07-09-41.tcx\n2010-09-14-17-04-13.tcx\n2010-09-16-08-10-31.tcx\n2010-09-16-17-12-11.tcx\n2010-09-22-07-02-19.tcx\n2010-09-22-17-04-54.tcx\n2010-09-25-08-30-27.tcx\n2010-09-25-11-43-32.tcx\n2010-09-30-07-29-32.tcx\n2010-09-30-16-47-22.tcx\n2010-10-02-08-20-52.tcx\n2010-10-03-06-00-36.tcx\n2010-10-06-07-02-37.tcx\n2010-10-06-16-18-08.tcx\n2010-10-08-07-23-12.tcx\n2010-10-08-15-53-30.tcx\n2010-10-14-06-22-09.tcx\n2010-12-11-08-07-30.tcx\n2010-12-14-19-23-32.tcx\n2010-12-18-07-57-05.tcx\n2011-01-14-16-31-53.tcx\n2011-01-15-08-56-02.tcx\n2011-01-15-12-28-18.tcx\n2011-01-16-11-00-17.tcx\n2011-01-16-18-38-52.tcx\n2011-01-22-08-57-05.tcx\n2011-02-12-09-14-49.tcx\n2011-02-14-18-26-37.tcx\n2011-02-19-09-35-42.tcx\n2011-03-19-08-02-08.tcx\n2011-04-02-09-22-59.tcx\n2011-05-01-09-05-23.tcx\n2011-05-07-05-24-39.tcx\n2011-05-21-18-00-44.tcx\n2011-06-11-07-33-34.tcx\n2011-06-27-09-14-57.tcx\n2011-07-23-06-20-11.tcx\n"
    }
   ],
   "source": [
    "for l in file_list:\n",
    "    print(l)\n",
    "\n",
    "    doc = open(folder_path_in + '/' + l, \"r\").read()\n",
    "    activity_name = re.search('<Activity Sport=\"(.*?)\"><Id>', doc).group(1)\n",
    "\n",
    "    timestamp = re.search('<Lap StartTime=\"(.*?)\"><TotalTimeSeconds>',doc).group(1)\n",
    "    new_name = timestamp[0:4] + timestamp[5:7] + timestamp[8:10] + '_' + timestamp[11:13] + timestamp[14:16] + timestamp[17:19]\n",
    "    new_name = new_name + '_' + activity_name.lower() + '_garmin_tcx'\n",
    "    if(new_name in list(activity_dic.keys())): new_name = new_name.replace(new_name.split('_')[2], activity_dic[new_name])\n",
    "\n",
    "    doc = doc.replace('<Id>' + timestamp + '</Id>', '<Id>' + new_name + '</Id>')\n",
    "\n",
    "    text_file = open(folder_path_out + '/' + new_name + '.tcx', \"w\")\n",
    "    text_file.write(doc)\n",
    "    text_file.close()"
   ]
  },
  {
   "cell_type": "markdown",
   "metadata": {},
   "source": [
    "## ORUXMAPS_GPX"
   ]
  },
  {
   "cell_type": "code",
   "execution_count": 7,
   "metadata": {},
   "outputs": [],
   "source": [
    "folder_path_in = '/Volumes/Media/Tracks/Library/ORUXMAPS_GPX'\n",
    "folder_path_out = '/Volumes/Media/Tracks/Library_clean/other/'\n",
    "\n",
    "file_list = [f for f in os.listdir(folder_path_in) if f.endswith('.gpx')]\n",
    "#file_list"
   ]
  },
  {
   "cell_type": "code",
   "execution_count": 8,
   "metadata": {},
   "outputs": [
    {
     "output_type": "stream",
     "name": "stdout",
     "text": "2011-05-14 0817__20110514_0817.gpx\n2011-05-15 1234__20110515_1234.gpx\n2011-07-09 0935__20110709_0935.gpx\n2011-07-16 1116__20110716_1116.gpx\n2011-07-21 2047__20110721_2047.gpx\n2011-09-17 2019__20110917_2019.gpx\n2011-10-15 1119__20111015_1119.gpx\n2011-10-16 1136__20111016_1136.gpx\n2011-10-29 1116__20111029_1116.gpx\n2011-11-13 1104__20111113_1104.gpx\n2011-12-06 1236__20111206_1236.gpx\n2011-12-10 1212__20111210_1212.gpx\n2012-01-15 1049__20120115_1049.gpx\n2012-01-23 1852__20120123_1853.gpx\n2012-01-26 0851__20120126_0851.gpx\n2012-01-26 1902__20120126_1902.gpx\n2012-01-29 0917__20120129_0917.gpx\n2012-01-29 1358__20120129_1358.gpx\n2012-02-01 0918__20120201_0918.gpx\n2012-02-01 1821__20120201_1821.gpx\n2012-02-05 0957__20120205_0957.gpx\n2012-02-07 0911__20120207_0911.gpx\n2012-02-07 0911__20120207_0914.gpx\n2012-02-07 1848__20120207_1848.gpx\n2012-02-07 1848__20120207_1849.gpx\n2012-02-08 0957__20120208_0957.gpx\n2012-02-08 0957__20120208_0959.gpx\n2012-02-09 0907__20120209_0907.gpx\n2012-02-09 0907__20120209_0908.gpx\n2012-02-09 1849__20120209_1849.gpx\n2012-02-11 1024__20120211_1024.gpx\n2012-02-13 0929__20120213_0929.gpx\n2012-02-13 1933__20120213_1933.gpx\n2012-02-15 0933__20120215_0933.gpx\n2012-02-15 1524__20120215_1524.gpx\n2012-02-16 0907__20120216_0907.gpx\n2012-02-16 1908__20120216_1908.gpx\n2012-02-18 0939__20120218_0939.gpx\n2012-02-18 0939__20120218_0941.gpx\n2012-02-20 1926__20120220_1926.gpx\n2012-02-28 0949__20120228_0950.gpx\n2012-02-28 1944__20120228_1944.gpx\n2012-02-29 0927__20120229_0928.gpx\n2012-02-29 1933__20120229_1933.gpx\n2012-03-01 1058__20120301_1100.gpx\n2012-03-01 1828__20120301_1828.gpx\n2012-03-02 1009__20120302_1010.gpx\n2012-03-02 1835__20120302_1835.gpx\n2012-03-04 0839__20120304_0839.gpx\n2012-03-11 1038__20120311_1039.gpx\n2012-03-17 1014__20120317_1014.gpx\n2012-03-20 0952__20120320_0952.gpx\n2012-03-20 1843__20120320_1843.gpx\n2012-03-21 0848__20120321_0848.gpx\n2012-03-25 0906__20120325_0906.gpx\n2012-03-27 0950__20120327_0950.gpx\n2012-03-27 1858__20120327_1858.gpx\n2012-03-29 0801__20120329_0801.gpx\n2012-03-29 1737__20120329_1737.gpx\n2012-04-06 1149__20120406_1149.gpx\n2012-04-07 1134__20120407_1134.gpx\n2012-07-01 0827__20120701_0827.gpx\n2012-07-21 0939__20120721_0939.gpx\n2012-07-28 1045__20120728_1045.gpx\n2012-08-05 1125__20120805_1125.gpx\n2012-08-07 1139__20120807_1139.gpx\n2012-08-11 0708__20120811_0708.gpx\n2012-08-19 0650__20120819_0650.gpx\n2012-09-08 1007__20120908_1007.gpx\n2012-09-15 0913__20120915_0913.gpx\n2012-10-07 0729__20121007_0729.gpx\n2012-11-10 0933__20121110_0933.gpx\n2012-11-24 0938__20121124_0938.gpx\n2012-12-16 1123__20121216_1123.gpx\n2012-12-22 1046__20121222_1046.gpx\n2013-03-10 1005__20130310_1005.gpx\n2013-11-02 1136__20131102_1136.gpx\n2014-06-01 1124__20140601_1124.gpx\n2014-06-14 0958__20140614_0958.gpx\n2014-06-21 1025__20140621_1025.gpx\n2014-06-22 1145__20140622_1145.gpx\n2014-06-23 1111__20140623_1111.gpx\n2014-08-10 0949__20140810_0949.gpx\n2014-09-06 1038__20140906_1038.gpx\n2014-09-18 1944__20140918_1944.gpx\n2014-09-21 0844__20140921_0844.gpx\n"
    }
   ],
   "source": [
    "for l in file_list:\n",
    "    print(l)\n",
    "\n",
    "    doc = open(folder_path_in + '/' + l, \"r\").read()\n",
    "    activity_name = re.search('</desc>\\\\n<type>(.*)</type>\\\\n<(trkseg|extensions)>', doc).group(1)\n",
    "    if(activity_name == 'Indefinido'): activity_name = 'Undefined'\n",
    "    #print(activity_name)\n",
    "\n",
    "    timestamp = re.search('<time>(.*)</time>\\\\n</trkpt>',doc).group(1)\n",
    "    new_name = timestamp[0:4] + timestamp[5:7] + timestamp[8:10] + '_' + timestamp[11:13] + timestamp[14:16] + timestamp[17:19]\n",
    "    old_name = re.search('<trk>\\\\n<name>(.*)</name>',doc).group(1)\n",
    "    new_name = new_name + '_' + activity_name.lower() + '_oruxmaps_gpx'\n",
    "    if(new_name in list(activity_dic.keys())): new_name = new_name.replace(new_name.split('_')[2], activity_dic[new_name])\n",
    "\n",
    "    doc = doc.replace('<trk>\\n<name>' + old_name + '</name>', '<trk>\\n<name>' + new_name + '</name>')\n",
    "\n",
    "    text_file = open(folder_path_out + '/' + new_name + '.gpx', \"w\")\n",
    "    text_file.write(doc)\n",
    "    text_file.close()"
   ]
  },
  {
   "cell_type": "markdown",
   "metadata": {},
   "source": [
    "## STRAVA GPX"
   ]
  },
  {
   "cell_type": "code",
   "execution_count": 9,
   "metadata": {},
   "outputs": [],
   "source": [
    "folder_path_in = '/Volumes/Media/Tracks/Library/Strava200506_GPX'\n",
    "folder_path_out = '/Volumes/Media/Tracks/Library_clean/other/'\n",
    "\n",
    "file_list = [f for f in os.listdir(folder_path_in) if f.endswith('.gpx')]\n",
    "#file_list"
   ]
  },
  {
   "cell_type": "code",
   "execution_count": 10,
   "metadata": {},
   "outputs": [],
   "source": [
    "strava_activities = pd.read_csv('/Volumes/Media/Tracks/Library/other/activities200506.csv')[['Tipo de actividad','Nombre del archivo']]"
   ]
  },
  {
   "cell_type": "code",
   "execution_count": 11,
   "metadata": {},
   "outputs": [],
   "source": [
    "strava_activities['Nombre del archivo'] = strava_activities['Nombre del archivo'].str.replace('.gz','').str.extract('/(.*)')[0]"
   ]
  },
  {
   "cell_type": "code",
   "execution_count": 12,
   "metadata": {},
   "outputs": [
    {
     "output_type": "execute_result",
     "data": {
      "text/plain": "array(['Carrera', 'Bicicleta', 'Caminata', 'Senderismo', 'Esquí nórdico'],\n      dtype=object)"
     },
     "metadata": {},
     "execution_count": 12
    }
   ],
   "source": [
    "strava_activities['Tipo de actividad'].unique()"
   ]
  },
  {
   "cell_type": "code",
   "execution_count": 13,
   "metadata": {},
   "outputs": [],
   "source": [
    "strava_activities.loc[strava_activities['Tipo de actividad'] == 'Bicicleta', 'Tipo de actividad'] = 'biking'\n",
    "strava_activities.loc[strava_activities['Tipo de actividad'] == 'Caminata', 'Tipo de actividad'] = 'hiking'\n",
    "strava_activities.loc[strava_activities['Tipo de actividad'] == 'Senderismo', 'Tipo de actividad'] = 'hiking'\n",
    "strava_activities.loc[strava_activities['Tipo de actividad'] == 'Esquí nórdico', 'Tipo de actividad'] = 'skiing'\n",
    "strava_activities.loc[strava_activities['Tipo de actividad'] == 'Carrera', 'Tipo de actividad'] = 'running'"
   ]
  },
  {
   "cell_type": "code",
   "execution_count": 14,
   "metadata": {},
   "outputs": [
    {
     "output_type": "execute_result",
     "data": {
      "text/plain": "    Tipo de actividad Nombre del archivo\n0             running     2642049695.gpx\n1             running     2651251823.gpx\n2             running     2659689271.gpx\n3             running     2671556327.gpx\n4             running     2755028611.gpx\n..                ...                ...\n509           running     3641864772.gpx\n510           running     3641864781.gpx\n511           running     3641864750.gpx\n512           running     3641864613.gpx\n513           running     3641864739.gpx\n\n[514 rows x 2 columns]",
      "text/html": "<div>\n<style scoped>\n    .dataframe tbody tr th:only-of-type {\n        vertical-align: middle;\n    }\n\n    .dataframe tbody tr th {\n        vertical-align: top;\n    }\n\n    .dataframe thead th {\n        text-align: right;\n    }\n</style>\n<table border=\"1\" class=\"dataframe\">\n  <thead>\n    <tr style=\"text-align: right;\">\n      <th></th>\n      <th>Tipo de actividad</th>\n      <th>Nombre del archivo</th>\n    </tr>\n  </thead>\n  <tbody>\n    <tr>\n      <th>0</th>\n      <td>running</td>\n      <td>2642049695.gpx</td>\n    </tr>\n    <tr>\n      <th>1</th>\n      <td>running</td>\n      <td>2651251823.gpx</td>\n    </tr>\n    <tr>\n      <th>2</th>\n      <td>running</td>\n      <td>2659689271.gpx</td>\n    </tr>\n    <tr>\n      <th>3</th>\n      <td>running</td>\n      <td>2671556327.gpx</td>\n    </tr>\n    <tr>\n      <th>4</th>\n      <td>running</td>\n      <td>2755028611.gpx</td>\n    </tr>\n    <tr>\n      <th>...</th>\n      <td>...</td>\n      <td>...</td>\n    </tr>\n    <tr>\n      <th>509</th>\n      <td>running</td>\n      <td>3641864772.gpx</td>\n    </tr>\n    <tr>\n      <th>510</th>\n      <td>running</td>\n      <td>3641864781.gpx</td>\n    </tr>\n    <tr>\n      <th>511</th>\n      <td>running</td>\n      <td>3641864750.gpx</td>\n    </tr>\n    <tr>\n      <th>512</th>\n      <td>running</td>\n      <td>3641864613.gpx</td>\n    </tr>\n    <tr>\n      <th>513</th>\n      <td>running</td>\n      <td>3641864739.gpx</td>\n    </tr>\n  </tbody>\n</table>\n<p>514 rows × 2 columns</p>\n</div>"
     },
     "metadata": {},
     "execution_count": 14
    }
   ],
   "source": [
    "strava_activities"
   ]
  },
  {
   "cell_type": "code",
   "execution_count": 15,
   "metadata": {},
   "outputs": [
    {
     "output_type": "stream",
     "name": "stdout",
     "text": "2642049695.gpx\n2651251823.gpx\n2659689271.gpx\n2671556327.gpx\n2755028611.gpx\n2786512923.gpx\n2796473372.gpx\n2809246367.gpx\n2932072098.gpx\n2932072449.gpx\n2957018075.gpx\n2972559127.gpx\n3104736227.gpx\n3121019983.gpx\n3200598015.gpx\n3269143198.gpx\n3269158317.gpx\n3313171496.gpx\n3313171515.gpx\n3313171544.gpx\n3313171551.gpx\n3313171569.gpx\n3313171577.gpx\n3313171599.gpx\n3313171613.gpx\n3313171618.gpx\n3313171632.gpx\n3313171640.gpx\n3313171662.gpx\n3313171679.gpx\n3313171689.gpx\n3313171692.gpx\n3313176892.gpx\n3313176901.gpx\n3313182671.gpx\n3313182700.gpx\n3313182707.gpx\n3313182716.gpx\n3313182729.gpx\n3313182740.gpx\n3313182764.gpx\n3313182769.gpx\n3313182801.gpx\n3313182811.gpx\n3313182817.gpx\n3313182820.gpx\n3313182838.gpx\n3313182843.gpx\n3313182849.gpx\n3313182850.gpx\n3313188430.gpx\n3313188500.gpx\n3313188513.gpx\n3313188541.gpx\n3313188548.gpx\n3313188561.gpx\n3313188580.gpx\n3313188587.gpx\n3313188601.gpx\n3313188606.gpx\n3313188628.gpx\n3313188632.gpx\n3313188636.gpx\n3313188641.gpx\n3313188649.gpx\n3313188657.gpx\n3313205779.gpx\n3313205783.gpx\n3313205788.gpx\n3313205797.gpx\n3313205814.gpx\n3313205821.gpx\n3313205831.gpx\n3313205839.gpx\n3313205846.gpx\n3313205854.gpx\n3313205857.gpx\n3313205865.gpx\n3313205868.gpx\n3313205873.gpx\n3313205883.gpx\n3313205893.gpx\n3313205940.gpx\n3313214325.gpx\n3313214354.gpx\n3313214362.gpx\n3313214376.gpx\n3313214392.gpx\n3313214421.gpx\n3313214442.gpx\n3313214451.gpx\n3313214536.gpx\n3313214556.gpx\n3313214561.gpx\n3313218371.gpx\n3313218375.gpx\n3313218409.gpx\n3313218427.gpx\n3339012848.gpx\n3388904121.gpx\n3403546175.gpx\n3641329603.gpx\n3641353265.gpx\n3641353284.gpx\n3641353308.gpx\n3641353336.gpx\n3641353358.gpx\n3641353373.gpx\n3641353398.gpx\n3641353501.gpx\n3641353535.gpx\n3641353551.gpx\n3641353576.gpx\n3641353588.gpx\n3641353606.gpx\n3641353630.gpx\n3641353647.gpx\n3641353655.gpx\n3641353676.gpx\n3641353686.gpx\n3641353704.gpx\n3641353727.gpx\n3641353791.gpx\n3641353811.gpx\n3641467077.gpx\n3641467102.gpx\n3641467120.gpx\n3641467135.gpx\n3641467162.gpx\n3641467205.gpx\n3641467215.gpx\n3641467231.gpx\n3641467244.gpx\n3641467262.gpx\n3641467281.gpx\n3641467298.gpx\n3641467319.gpx\n3641467334.gpx\n3641467354.gpx\n3641864613.gpx\n3641864638.gpx\n3641864668.gpx\n3641864697.gpx\n3641864708.gpx\n3641864733.gpx\n3641864739.gpx\n3641864750.gpx\n3641864772.gpx\n3641864781.gpx\n"
    }
   ],
   "source": [
    "for l in file_list:\n",
    "\n",
    "    print(l)\n",
    "    \n",
    "    doc = open(folder_path_in + '/' + l, \"r\").read()\n",
    "\n",
    "    activity_name = strava_activities.loc[strava_activities['Nombre del archivo'] == l]['Tipo de actividad'].values[0]\n",
    "\n",
    "    if('StravaGPX' in doc):\n",
    "\n",
    "        timestamp = re.search('<metadata>\\\\n  <time>(.*)</time>',doc).group(1)\n",
    "        new_name = timestamp[0:4] + timestamp[5:7] + timestamp[8:10] + '_' + timestamp[11:13] + timestamp[14:16] + timestamp[17:19]\n",
    "        old_name = re.search('<name>(.*)</name>',doc).group(1)\n",
    "        new_name = new_name + '_' + activity_name.lower() + '_strava_gpx'\n",
    "\n",
    "        if(new_name in list(activity_dic.keys())): new_name = new_name.replace(new_name.split('_')[2], activity_dic[new_name])\n",
    "        doc = doc.replace('<name>' + old_name + '</name>', '<name>' + new_name + '</name>')\n",
    "\n",
    "        text_file = open(folder_path_out + '/' + new_name + '.gpx', \"w\")\n",
    "        text_file.write(doc)\n",
    "        text_file.close()\n",
    "\n",
    "    elif('Wikiloc' in doc):\n",
    "        \n",
    "        timestamp = re.search('<time>(.*)</time>\\\\n      </trkpt>',doc).group(1)\n",
    "        new_name = timestamp[0:4] + timestamp[5:7] + timestamp[8:10] + '_' + timestamp[11:13] + timestamp[14:16] + timestamp[17:19]\n",
    "        old_name = re.search('<trk>\\\\n    <name>(.*)</name>',doc).group(1)\n",
    "        new_name = new_name + '_' + activity_name.lower() + '_strava_gpx'\n",
    "\n",
    "        if(new_name in list(activity_dic.keys())): new_name = new_name.replace(new_name.split('_')[2], activity_dic[new_name])\n",
    "        doc = doc.replace('<trk>\\n    <name>' + old_name + '</name>', '<trk>\\n    <name>' + new_name + '</name>')\n",
    "\n",
    "        text_file = open(folder_path_out + '/' + new_name + '.gpx', \"w\")\n",
    "        text_file.write(doc)\n",
    "        text_file.close()\n",
    "\n",
    "    elif('My Tracks' in doc):\n",
    "\n",
    "        timestamp = re.search('<time>(.*?)</time>\\\\n</trkpt>',doc).group(1)\n",
    "        new_name = timestamp[0:4] + timestamp[5:7] + timestamp[8:10] + '_' + timestamp[11:13] + timestamp[14:16] + timestamp[17:19]\n",
    "        old_name = re.search('<trk>\\n<name>(.*?)</name>',doc).group(1)\n",
    "        new_name = new_name + '_' + activity_name.lower() + '_strava_gpx'\n",
    "\n",
    "        if(new_name in list(activity_dic.keys())): new_name = new_name.replace(new_name.split('_')[2], activity_dic[new_name])\n",
    "        doc = doc.replace('<trk>\\n<name>' + old_name + '</name>', '<trk>\\n<name>' + new_name + '</name>')\n",
    "\n",
    "        text_file = open(folder_path_out + '/' + new_name + '.gpx', \"w\")\n",
    "        text_file.write(doc)\n",
    "        text_file.close()\n",
    "\n",
    "    elif('<text>OruxMaps</text>' in doc): \n",
    "\n",
    "        timestamp = re.search('<time>(.*)</time>\\\\n</trkpt>',doc).group(1)\n",
    "        new_name = timestamp[0:4] + timestamp[5:7] + timestamp[8:10] + '_' + timestamp[11:13] + timestamp[14:16] + timestamp[17:19]\n",
    "        old_name = re.search('<trk>\\\\n<name>(.*)</name>',doc).group(1)\n",
    "        new_name = new_name + '_' + activity_name.lower() + '_strava_gpx'\n",
    "\n",
    "        if(new_name in list(activity_dic.keys())): new_name = new_name.replace(new_name.split('_')[2], activity_dic[new_name])\n",
    "        doc = doc.replace('<trk>\\n<name>' + old_name + '</name>', '<trk>\\n<name>' + new_name + '</name>')\n",
    "\n",
    "        text_file = open(folder_path_out + '/' + new_name + '.gpx', \"w\")\n",
    "        text_file.write(doc)\n",
    "        text_file.close()\n",
    "\n",
    "    elif('OziExplorer' in doc):\n",
    "\n",
    "        timestamp = re.search('<time>(.*?)</time>\\n</trkpt>',doc).group(1)\n",
    "        new_name = timestamp[0:4] + timestamp[5:7] + timestamp[8:10] + '_' + timestamp[11:13] + timestamp[14:16] + timestamp[17:19]\n",
    "        old_name = re.search('<trk>\\n <name>(.*?)</name>',doc).group(1)\n",
    "        new_name = new_name + '_' + activity_name.lower() + '_strava_gpx'\n",
    "\n",
    "        if(new_name in list(activity_dic.keys())): new_name = new_name.replace(new_name.split('_')[2], activity_dic[new_name])\n",
    "        doc = doc.replace('<trk>\\n <name>' + old_name + '</name>', '<trk>\\n <name>' + new_name + '</name>')\n",
    "\n",
    "        text_file = open(folder_path_out + '/' + new_name + '.gpx', \"w\")\n",
    "        text_file.write(doc)\n",
    "        text_file.close()\n",
    "\n",
    "    elif('GpsiesTrack' in doc):\n",
    "\n",
    "        timestamp = re.search('<time>(.*?)</time>\\n      </trkpt>',doc).group(1)\n",
    "        new_name = timestamp[0:4] + timestamp[5:7] + timestamp[8:10] + '_' + timestamp[11:13] + timestamp[14:16] + timestamp[17:19]\n",
    "        old_name = re.search('<trk>\\n    <name>(.*?)</name>',doc).group(1)\n",
    "        new_name = new_name + '_' + activity_name.lower() + '_strava_gpx'\n",
    "\n",
    "        if(new_name in list(activity_dic.keys())): new_name = new_name.replace(new_name.split('_')[2], activity_dic[new_name])\n",
    "        doc = doc.replace('<trk>\\n    <name>' + old_name + '</name>', '<trk>\\n    <name>' + new_name + '</name>')\n",
    "\n",
    "        text_file = open(folder_path_out + '/' + new_name + '.gpx', \"w\")\n",
    "        text_file.write(doc)\n",
    "        text_file.close()\n",
    "\n",
    "    elif('GPSBabel' in doc):\n",
    "\n",
    "        timestamp = re.search('<time>(.*?)</time>\\n      </trkpt>',doc).group(1)\n",
    "        new_name = timestamp[0:4] + timestamp[5:7] + timestamp[8:10] + '_' + timestamp[11:13] + timestamp[14:16] + timestamp[17:19]\n",
    "        old_name = re.search('<trk>\\n    <name>(.*?)</name>',doc).group(1)\n",
    "        new_name = new_name + '_' + activity_name.lower() + '_strava_gpx'\n",
    "\n",
    "        if(new_name in list(activity_dic.keys())): new_name = new_name.replace(new_name.split('_')[2], activity_dic[new_name])\n",
    "        doc = doc.replace('\\n    </trkseg>\\n  </trk>\\n  <trk>\\n    <name>' + old_name + '</name>\\n    <trkseg>\\n      ', '')\n",
    "        doc = doc.replace('<trk>\\n    <name>' + old_name + '</name>', '<trk>\\n    <name>' + new_name + '</name>')\n",
    "\n",
    "        text_file = open(folder_path_out + '/' + new_name + '.gpx', \"w\")\n",
    "        text_file.write(doc)\n",
    "        text_file.close()\n",
    "\n",
    "    else: print('Error')\n"
   ]
  },
  {
   "cell_type": "markdown",
   "metadata": {},
   "source": [
    "## STRAVA TCX"
   ]
  },
  {
   "cell_type": "code",
   "execution_count": 16,
   "metadata": {},
   "outputs": [],
   "source": [
    "##### Strava TCX Correction #####\n",
    "\n",
    "# folder_path = '/Volumes/Media/Tracks/Library/Strava200506_TCX'\n",
    "\n",
    "# file_list = [f for f in os.listdir(folder_path) if f.endswith('.tcx')]\n",
    "\n",
    "# for l in file_list:\n",
    "    \n",
    "#     print(l)\n",
    "    \n",
    "#     input_file = open(folder_path + '/' + l, \"r\")\n",
    "#     f = input_file.read()\n",
    "#     input_file.close()\n",
    "\n",
    "#     f = f.lstrip(' ').rstrip(' ')\n",
    "#     f = f.replace('<Notes/>','')\n",
    "\n",
    "#     if f.find('<Track>') == -1:\n",
    "#         trackpoint_pos = [m.start() for m in re.finditer('Trackpoint', f)]\n",
    "#         f = f[:(trackpoint_pos[0]-1)] + '<Track>' + f[(trackpoint_pos[0]-1):(trackpoint_pos[-1]+11)] + '</Track>' + f[(trackpoint_pos[-1]+11):]\n",
    "\n",
    "#     text_file = open(folder_path + '/' + l, \"w\")\n",
    "#     text_file.write(f)\n",
    "#     text_file.close()"
   ]
  },
  {
   "cell_type": "code",
   "execution_count": 17,
   "metadata": {},
   "outputs": [],
   "source": [
    "folder_path_in = '/Volumes/Media/Tracks/Library/Strava200506_TCX'\n",
    "folder_path_out = '/Volumes/Media/Tracks/Library_clean/other/'\n",
    "\n",
    "file_list = [f for f in os.listdir(folder_path_in) if f.endswith('.tcx')]\n",
    "#file_list"
   ]
  },
  {
   "cell_type": "code",
   "execution_count": 18,
   "metadata": {},
   "outputs": [
    {
     "output_type": "stream",
     "name": "stdout",
     "text": "3171252320.tcx\n3171252327.tcx\n3171252337.tcx\n3171252343.tcx\n3171252355.tcx\n3171252363.tcx\n3171252372.tcx\n3171252377.tcx\n3171252385.tcx\n3171252388.tcx\n3171252395.tcx\n3171252403.tcx\n3171252411.tcx\n3171252416.tcx\n3171252423.tcx\n3171252429.tcx\n3171252433.tcx\n3171252442.tcx\n3171252449.tcx\n3171252459.tcx\n3171252463.tcx\n3171252469.tcx\n3171252473.tcx\n3171252478.tcx\n3171252487.tcx\n3171264308.tcx\n3171264318.tcx\n3171264322.tcx\n3171264327.tcx\n3171264339.tcx\n3171264344.tcx\n3171264350.tcx\n3171264355.tcx\n3171264361.tcx\n3171264378.tcx\n3171264383.tcx\n3171264384.tcx\n3171264391.tcx\n3171264401.tcx\n3171264413.tcx\n3171264427.tcx\n3171264431.tcx\n3171264436.tcx\n3171264442.tcx\n3171264446.tcx\n3171264452.tcx\n3171264460.tcx\n3171264467.tcx\n3171264477.tcx\n3171264485.tcx\n3171271578.tcx\n3171271586.tcx\n3171271589.tcx\n3171271597.tcx\n3171271604.tcx\n3171271612.tcx\n3171271623.tcx\n3171271628.tcx\n3171271631.tcx\n3171271645.tcx\n3171271648.tcx\n3171271678.tcx\n3171271687.tcx\n3171271692.tcx\n3171271718.tcx\n3171271722.tcx\n3171271726.tcx\n3171271732.tcx\n3171271750.tcx\n3171271760.tcx\n3171271767.tcx\n3171271773.tcx\n3171271787.tcx\n3171279549.tcx\n3171279563.tcx\n3171279567.tcx\n3171279571.tcx\n3171279578.tcx\n3171279582.tcx\n3171279600.tcx\n3171279606.tcx\n3171279609.tcx\n3171279621.tcx\n3171279623.tcx\n3171279631.tcx\n3171279641.tcx\n3171279646.tcx\n3171279659.tcx\n3171279669.tcx\n3171279679.tcx\n3171279684.tcx\n3171279690.tcx\n3171279697.tcx\n3171279706.tcx\n3171279710.tcx\n3171279712.tcx\n3171279722.tcx\n3171291971.tcx\n3171291976.tcx\n3171292006.tcx\n3171292015.tcx\n3171292029.tcx\n3171292041.tcx\n3171292048.tcx\n3171292052.tcx\n3171292060.tcx\n3171292066.tcx\n3171292070.tcx\n3171292076.tcx\n3171292083.tcx\n3171292089.tcx\n3171292097.tcx\n3171292107.tcx\n3171292115.tcx\n3171292121.tcx\n3171292126.tcx\n3171292133.tcx\n3171292144.tcx\n3171292152.tcx\n3171292157.tcx\n3171292168.tcx\n3171297209.tcx\n3171297217.tcx\n3171297223.tcx\n3171297330.tcx\n3171297334.tcx\n3171297356.tcx\n3171297361.tcx\n3171297368.tcx\n3171297377.tcx\n3171297380.tcx\n3171302490.tcx\n3171302497.tcx\n3171302507.tcx\n3171302517.tcx\n3171302527.tcx\n3171302532.tcx\n3171302545.tcx\n3171302556.tcx\n3171302576.tcx\n3171302585.tcx\n3171302593.tcx\n3171302608.tcx\n3171302620.tcx\n3171302630.tcx\n3171302637.tcx\n3171302649.tcx\n3171302655.tcx\n3171302663.tcx\n3171302666.tcx\n3171302673.tcx\n3171302679.tcx\n3171302690.tcx\n3171302727.tcx\n3171302780.tcx\n3171302812.tcx\n3171311683.tcx\n3171311689.tcx\n3171311695.tcx\n3171311699.tcx\n3171311707.tcx\n3171311712.tcx\n3171311722.tcx\n3171311727.tcx\n3171311731.tcx\n3171311750.tcx\n3171311755.tcx\n3171311761.tcx\n3171311768.tcx\n3171311774.tcx\n3171311782.tcx\n3171311790.tcx\n3171311795.tcx\n3171311803.tcx\n3171311805.tcx\n3171311808.tcx\n3171311823.tcx\n3171311832.tcx\n3171311835.tcx\n3171311843.tcx\n3171311849.tcx\n3171316485.tcx\n3171316493.tcx\n3171316500.tcx\n3171316505.tcx\n3171316510.tcx\n3171316517.tcx\n3171316523.tcx\n3171316526.tcx\n3171316532.tcx\n3171316546.tcx\n3171316550.tcx\n3171316553.tcx\n3171316558.tcx\n3171316565.tcx\n3171316575.tcx\n3171316586.tcx\n3171316610.tcx\n3171316620.tcx\n3171316624.tcx\n3171316642.tcx\n3171316650.tcx\n3171316655.tcx\n3171316658.tcx\n3171316662.tcx\n3171325293.tcx\n3171325302.tcx\n3171325305.tcx\n3171325309.tcx\n3171325311.tcx\n3171325314.tcx\n3171325321.tcx\n3171325327.tcx\n3171325329.tcx\n3171325336.tcx\n3171325339.tcx\n3171325342.tcx\n3171325346.tcx\n3171325349.tcx\n3171325359.tcx\n3171325363.tcx\n3171325367.tcx\n3171325368.tcx\n3171325378.tcx\n3171325380.tcx\n3171325385.tcx\n3171325392.tcx\n3171325401.tcx\n3171330474.tcx\n3171330490.tcx\n3171330496.tcx\n3171330502.tcx\n3171330510.tcx\n3171330517.tcx\n3171330532.tcx\n3171330566.tcx\n3171330570.tcx\n3171330578.tcx\n3171330585.tcx\n3171330595.tcx\n3171330598.tcx\n3171330604.tcx\n3171330608.tcx\n3171330616.tcx\n3171330624.tcx\n3171330633.tcx\n3171330644.tcx\n3171330655.tcx\n3171330662.tcx\n3171330675.tcx\n3171330686.tcx\n3171330702.tcx\n3171330705.tcx\n3171334730.tcx\n3171334740.tcx\n3171334760.tcx\n3171334772.tcx\n3171334780.tcx\n3171334788.tcx\n3171334795.tcx\n3171334800.tcx\n3171334804.tcx\n3171334815.tcx\n3171334825.tcx\n3171334828.tcx\n3171334832.tcx\n3171334837.tcx\n3171334849.tcx\n3171334854.tcx\n3171334886.tcx\n3171334890.tcx\n3171334901.tcx\n3171334909.tcx\n3171334917.tcx\n3171334922.tcx\n3171334938.tcx\n3171334945.tcx\n3171334954.tcx\n3171341454.tcx\n3171341458.tcx\n3171341462.tcx\n3171341472.tcx\n3171341478.tcx\n3171341486.tcx\n3171341493.tcx\n3171341497.tcx\n3171341514.tcx\n3171341523.tcx\n3171341538.tcx\n3171341542.tcx\n3171341550.tcx\n3171341566.tcx\n3171341570.tcx\n3171341574.tcx\n3171341581.tcx\n3171341586.tcx\n3171341597.tcx\n3171341608.tcx\n3171341614.tcx\n3171341617.tcx\n3171341623.tcx\n3171341630.tcx\n3171344243.tcx\n3171344246.tcx\n3171344250.tcx\n3171344257.tcx\n3171344265.tcx\n3171344268.tcx\n3171344272.tcx\n3171344277.tcx\n3312837781.tcx\n3312837799.tcx\n3312837809.tcx\n3312837826.tcx\n3312837880.tcx\n3312837895.tcx\n3312837908.tcx\n3312838007.tcx\n3312838033.tcx\n3312838055.tcx\n3312870166.tcx\n3312870219.tcx\n3312870221.tcx\n3312870232.tcx\n3312870276.tcx\n3312870349.tcx\n3312870388.tcx\n3312870402.tcx\n3312874210.tcx\n3312874229.tcx\n3312874238.tcx\n3312874257.tcx\n3312874284.tcx\n3312874328.tcx\n3312874346.tcx\n3312874359.tcx\n3312874363.tcx\n3312874379.tcx\n3312874397.tcx\n3312874411.tcx\n3312874421.tcx\n3312874427.tcx\n3312874430.tcx\n3312882087.tcx\n3312882092.tcx\n3312882098.tcx\n3312882108.tcx\n3312882135.tcx\n3312882148.tcx\n3312882151.tcx\n3312882158.tcx\n3312882163.tcx\n3312882170.tcx\n3312882182.tcx\n3312882186.tcx\n3312882191.tcx\n3312882196.tcx\n3312882201.tcx\n3312882213.tcx\n3312882219.tcx\n3312882226.tcx\n3312882232.tcx\n3312885789.tcx\n3312885853.tcx\n3641157551.tcx\n"
    }
   ],
   "source": [
    "for l in file_list:\n",
    "\n",
    "    print(l)\n",
    "\n",
    "    doc = open(folder_path_in + '/' + l, \"r\").read()\n",
    "\n",
    "    activity_name = strava_activities.loc[strava_activities['Nombre del archivo'] == l]['Tipo de actividad'].values[0]\n",
    "\n",
    "    if('</Id>\\n' in doc):\n",
    "\n",
    "        timestamp = re.search('<Lap StartTime=\"(.*)\">\\\\n',doc).group(1)\n",
    "        new_name = timestamp[0:4] + timestamp[5:7] + timestamp[8:10] + '_' + timestamp[11:13] + timestamp[14:16] + timestamp[17:19]\n",
    "        new_name = new_name + '_' + activity_name.lower() + '_strava_tcx'\n",
    "\n",
    "        if(new_name in list(activity_dic.keys())): new_name = new_name.replace(new_name.split('_')[2], activity_dic[new_name])\n",
    "        doc = doc.replace('<Id>' + timestamp + '</Id>', '<Id>' + new_name + '</Id>')\n",
    "\n",
    "        text_file = open(folder_path_out + '/' + new_name + '.tcx', \"w\")\n",
    "        text_file.write(doc)\n",
    "        text_file.close()\n",
    "    else:\n",
    "\n",
    "        timestamp = re.search('<Lap StartTime=\"(.*?)\"><TotalTimeSeconds>',doc).group(1)\n",
    "        new_name = timestamp[0:4] + timestamp[5:7] + timestamp[8:10] + '_' + timestamp[11:13] + timestamp[14:16] + timestamp[17:19]\n",
    "        new_name = new_name + '_' + activity_name.lower() + '_strava_tcx'\n",
    "\n",
    "        if(new_name in list(activity_dic.keys())): new_name = new_name.replace(new_name.split('_')[2], activity_dic[new_name])\n",
    "        doc = doc.replace('<Id>' + timestamp + '</Id>', '<Id>' + new_name + '</Id>')\n",
    "\n",
    "        text_file = open(folder_path_out + new_name + '.tcx', \"w\")\n",
    "        text_file.write(doc)\n",
    "        text_file.close()\n"
   ]
  },
  {
   "cell_type": "markdown",
   "metadata": {},
   "source": [
    "## ENDOMONDO WORKOUTS"
   ]
  },
  {
   "cell_type": "code",
   "execution_count": 19,
   "metadata": {},
   "outputs": [],
   "source": [
    "folder_path_in = '/Volumes/Media/Tracks/Library/endomondo-2020-05-09/Workouts/'\n",
    "folder_path_out = '/Volumes/Media/Tracks/Library_clean/other/'\n",
    "\n",
    "file_list = [f for f in os.listdir(folder_path_in) if f.endswith('.tcx')]\n",
    "#file_list"
   ]
  },
  {
   "cell_type": "code",
   "execution_count": 20,
   "metadata": {},
   "outputs": [
    {
     "output_type": "stream",
     "name": "stdout",
     "text": "2013-08-20 18:08:21.0.tcx\n2013-08-22 17:20:36.0.tcx\n2013-08-24 18:35:44.0.tcx\n2013-08-26 18:12:52.0.tcx\n2013-08-28 17:49:06.0.tcx\n2013-08-30 18:07:11.0.tcx\n2013-09-01 09:01:58.0.tcx\n2013-09-02 17:16:55.0.tcx\n2013-09-04 18:21:47.0.tcx\n2013-09-06 17:17:56.0.tcx\n2013-09-09 16:48:19.0.tcx\n2013-09-11 17:03:55.0.tcx\n2013-09-13 17:33:35.0.tcx\n2013-09-16 17:03:43.0.tcx\n2013-09-18 17:05:01.0.tcx\n2013-09-19 17:33:13.0.tcx\n2013-09-20 17:35:50.0.tcx\n2013-09-22 06:35:57.0.tcx\n2013-09-23 16:16:12.0.tcx\n2013-09-25 17:37:16.0.tcx\n2013-09-26 19:06:46.0.tcx\n2013-09-27 17:07:20.0.tcx\n2013-09-30 17:17:07.0.tcx\n2013-10-02 17:06:54.0.tcx\n2013-10-04 18:05:45.0.tcx\n2013-10-06 18:48:40.0.tcx\n2013-10-07 17:18:12.0.tcx\n2013-10-08 17:38:56.0.tcx\n2013-10-09 17:10:47.0.tcx\n2013-10-10 16:56:44.0.tcx\n2013-10-14 17:19:34.0.tcx\n2013-10-17 17:01:27.0.tcx\n2013-10-18 17:38:13.0.tcx\n2013-10-19 09:53:26.0.tcx\n2013-10-21 15:52:02.0.tcx\n2013-10-27 08:16:18.0.tcx\n2013-10-30 17:22:29.0.tcx\n2013-11-01 18:10:28.0.tcx\n2013-11-06 17:50:27.0.tcx\n2013-11-08 18:33:14.0.tcx\n2013-11-10 19:34:47.0.tcx\n2013-11-13 18:34:57.0.tcx\n2013-11-15 18:37:27.0.tcx\n2013-11-16 18:21:23.0.tcx\n2013-11-19 18:50:39.0.tcx\n2013-11-21 16:34:26.0.tcx\n2013-11-23 10:25:41.0.tcx\n2013-11-25 19:43:30.0.tcx\n2013-11-27 20:01:42.0.tcx\n2013-11-30 15:03:57.0.tcx\n2013-12-02 18:51:11.0.tcx\n2013-12-04 18:53:17.0.tcx\n2013-12-07 09:37:12.0.tcx\n2013-12-15 08:01:33.0.tcx\n2013-12-17 18:25:41.0.tcx\n2013-12-19 18:10:15.0.tcx\n2013-12-26 09:16:41.0.tcx\n2014-01-09 18:31:27.0.tcx\n2014-01-12 10:13:00.0.tcx\n2014-03-26 10:57:41.0.tcx\n2014-05-25 17:20:29.0.tcx\n2014-09-18 21:48:58.0.tcx\n2014-09-23 17:03:10.0.tcx\n2014-10-02 17:11:07.0.tcx\n2014-10-09 17:15:54.0.tcx\n2014-10-11 08:06:28.0.tcx\n2014-10-11 13:15:53.0.tcx\n2014-10-14 15:55:00.0.tcx\n2014-10-16 15:48:48.0.tcx\n2014-10-19 08:24:00.0.tcx\n2014-10-23 15:53:09.0.tcx\n2014-10-26 07:04:48.0.tcx\n2015-01-11 08:34:42.0.tcx\n2015-01-17 08:23:51.0.tcx\n2015-01-23 10:27:48.0.tcx\n2015-02-09 12:13:55.0.tcx\n2015-02-09 12:15:16.0.tcx\n2015-02-15 08:43:01.0.tcx\n2015-02-18 10:54:52.0.tcx\n2015-02-22 17:06:07.0.tcx\n2015-03-01 09:14:23.0.tcx\n2015-03-07 10:25:54.0.tcx\n2015-03-07 12:52:04.0.tcx\n2015-03-15 07:46:47.0.tcx\n2015-03-29 08:56:15.0.tcx\n2015-05-23 08:04:44.0.tcx\n2015-06-14 18:16:34.0.tcx\n2015-06-20 08:35:37.0.tcx\n2015-06-28 18:17:48.0.tcx\n2015-07-04 17:33:37.0.tcx\n2015-07-05 16:22:19.0.tcx\n2015-07-12 17:27:51.0.tcx\n2015-07-18 08:08:38.0.tcx\n2015-08-09 08:37:05.0.tcx\n2015-08-10 08:18:37.0.tcx\n2015-08-11 07:20:41.0.tcx\n2015-08-12 07:31:22.0.tcx\n2015-08-13 09:05:01.0.tcx\n2015-08-14 07:51:29.0.tcx\n2015-08-16 09:46:38.0.tcx\n2015-08-17 08:58:11.0.tcx\n2015-08-18 16:40:37.0.tcx\n2015-08-19 09:01:27.0.tcx\n2015-08-23 17:05:21.0.tcx\n2015-08-24 15:55:06.0.tcx\n2015-08-25 17:50:07.0.tcx\n2015-08-31 17:20:16.0.tcx\n2015-09-05 14:44:29.0.tcx\n2015-09-09 18:31:17.0.tcx\n2015-09-13 09:51:03.0.tcx\n2015-09-15 18:26:52.0.tcx\n2015-09-26 08:12:34.0.tcx\n2015-10-18 08:20:24.0.tcx\n2015-10-23 17:01:58.0.tcx\n2015-11-01 11:46:08.0.tcx\n2015-11-06 18:53:47.0.tcx\n2015-11-13 18:13:34.0.tcx\n2015-11-21 10:27:06.0.tcx\n2015-11-26 19:01:02.0.tcx\n2015-11-29 18:35:32.0.tcx\n2015-12-04 19:21:32.0.tcx\n2015-12-06 08:35:04.0.tcx\n2015-12-08 08:42:42.0.tcx\n2015-12-20 11:28:16.0.tcx\n2015-12-31 18:00:06.0.tcx\n2016-01-03 10:38:47.0.tcx\n2016-01-10 09:35:23.0.tcx\n2016-01-23 09:24:37.0.tcx\n2016-01-28 18:56:06.0.tcx\n2016-01-31 09:23:40.0.tcx\n2016-02-06 10:06:17.0.tcx\n2016-02-06 10:41:06.0.tcx\n2016-02-06 12:36:41.0.tcx\n2016-02-08 18:20:26.0.tcx\n2016-02-08 18:54:15.0.tcx\n2016-02-08 21:12:09.0.tcx\n2016-02-10 18:11:13.0.tcx\n2016-02-10 18:29:10.0.tcx\n2016-02-10 18:52:54.0.tcx\n2016-02-16 18:30:15.0.tcx\n2016-02-16 19:04:24.0.tcx\n2016-02-21 08:56:13.0.tcx\n2016-03-09 19:21:23.0.tcx\n2016-03-14 22:53:28.0.tcx\n2016-03-14 22:54:19.0.tcx\n2016-04-03 15:37:46.0.tcx\n2016-04-06 18:05:39.0.tcx\n2016-04-09 10:05:46.0.tcx\n2016-04-10 16:42:39.0.tcx\n2016-04-16 17:41:55.0.tcx\n2016-04-22 18:19:02.0.tcx\n2016-05-02 18:15:33.0.tcx\n2016-05-16 16:28:27.0.tcx\n2016-05-23 19:04:31.0.tcx\n2016-05-26 18:18:09.0.tcx\n2016-05-29 18:34:10.0.tcx\n2016-06-03 05:41:44.0.tcx\n2016-06-05 07:00:30.0.tcx\n2016-06-07 18:43:58.0.tcx\n2016-06-14 18:41:43.0.tcx\n2016-06-19 07:07:12.0.tcx\n2016-06-20 18:33:28.0.tcx\n2016-06-24 06:41:35.0.tcx\n2016-06-26 06:31:14.0.tcx\n2016-06-28 18:51:20.0.tcx\n2016-06-30 17:33:54.0.tcx\n2016-07-02 18:30:14.0.tcx\n2016-07-04 05:27:14.0.tcx\n2016-07-09 07:33:55.0.tcx\n2016-07-11 17:48:45.0.tcx\n2016-07-16 07:16:33.0.tcx\n2016-07-30 06:08:25.0.tcx\n2016-08-21 18:22:59.0.tcx\n2016-08-27 16:35:42.0.tcx\n2016-09-05 17:52:55.0.tcx\n2016-09-11 07:02:32.0.tcx\n2016-09-21 17:48:42.0.tcx\n2016-09-25 07:31:24.0.tcx\n2016-10-03 17:19:04.0.tcx\n2016-11-01 11:43:29.0.tcx\n2016-11-13 09:42:39.0.tcx\n2016-11-24 19:01:16.0.tcx\n2016-12-09 11:03:46.0.tcx\n2016-12-18 15:26:17.0.tcx\n2016-12-26 10:42:45.0.tcx\n2016-12-29 11:20:20.0.tcx\n2016-12-31 16:46:16.0.tcx\n2017-02-25 10:32:00.0.tcx\n2017-02-26 13:46:16.0.tcx\n2017-02-26 16:06:46.0.tcx\n2017-03-02 18:47:45.0.tcx\n2017-03-05 15:56:32.0.tcx\n2017-03-18 14:09:19.0.tcx\n2017-04-09 12:06:55.0.tcx\n2017-04-24 15:49:25.0.tcx\n2017-04-30 07:27:44.0.tcx\n2017-05-04 17:39:08.0.tcx\n2017-05-07 11:53:38.0.tcx\n2017-05-09 08:54:34.0.tcx\n2017-05-11 16:41:15.0.tcx\n2017-05-14 08:28:49.0.tcx\n2017-05-21 09:56:08.0.tcx\n2017-05-23 17:32:38.0.tcx\n2017-05-26 05:58:42.0.tcx\n2017-05-28 06:31:55.0.tcx\n2017-06-02 13:49:12.0.tcx\n2017-06-04 22:10:24.0.tcx\n2017-06-06 17:58:10.0.tcx\n2017-06-09 05:41:22.0.tcx\n2017-06-10 15:43:39.0.tcx\n2017-06-13 17:18:57.0.tcx\n2017-06-17 16:58:37.0.tcx\n2017-06-18 06:33:30.0.tcx\n2017-06-25 08:40:03.0.tcx\n2017-06-27 05:45:58.0.tcx\n2017-06-29 05:40:56.0.tcx\n2017-07-01 18:12:44.0.tcx\n2017-07-03 17:58:53.0.tcx\n2017-07-06 18:19:21.0.tcx\n2017-07-11 17:43:30.0.tcx\n2017-07-14 14:55:30.0.tcx\n2017-07-16 07:00:56.0.tcx\n2017-07-19 08:10:45.0.tcx\n2017-07-21 18:00:37.0.tcx\n2017-07-24 05:52:12.0.tcx\n2017-07-26 18:05:51.0.tcx\n2017-07-28 15:32:38.0.tcx\n2017-07-29 18:03:13.0.tcx\n2017-08-02 17:46:57.0.tcx\n2017-08-04 16:17:28.0.tcx\n2017-08-07 08:11:47.0.tcx\n2017-08-09 08:02:38.0.tcx\n2017-08-10 18:35:38.0.tcx\n2017-08-12 10:07:32.0.tcx\n2017-08-12 13:51:20.0.tcx\n2017-08-15 07:35:33.0.tcx\n2017-08-17 18:28:01.0.tcx\n2017-08-18 18:01:26.0.tcx\n2017-08-20 11:19:22.0.tcx\n2017-08-21 18:42:18.0.tcx\n2017-08-24 19:49:00.0.tcx\n2017-08-27 17:32:19.0.tcx\n2017-08-29 17:59:21.0.tcx\n2017-08-31 18:13:55.0.tcx\n2017-09-02 16:34:59.0.tcx\n2017-09-10 18:42:36.0.tcx\n2017-09-11 10:55:04.0.tcx\n2017-09-16 07:14:12.0.tcx\n2017-09-21 06:10:48.0.tcx\n2017-09-22 06:04:11.0.tcx\n2017-10-03 06:09:45.0.tcx\n2017-10-06 17:40:59.0.tcx\n2017-10-08 10:22:57.0.tcx\n2017-10-25 17:30:35.0.tcx\n2017-10-28 08:15:07.0.tcx\n2017-11-01 18:03:18.0.tcx\n2017-11-04 09:42:04.0.tcx\n2017-11-09 19:22:03.0.tcx\n2017-11-15 19:22:59.0.tcx\n2017-11-19 07:34:57.0.tcx\n2017-12-02 15:05:49.0.tcx\n2017-12-19 19:18:23.0.tcx\n2017-12-23 11:52:42.0.tcx\n2017-12-28 11:32:32.0.tcx\n2017-12-31 16:29:35.0.tcx\n2018-01-06 10:27:42.0.tcx\n2018-01-14 11:28:47.0.tcx\n2018-01-21 09:02:23.0.tcx\n2018-01-28 07:08:07.0.tcx\n2018-01-31 19:24:45.0.tcx\n2018-02-03 11:22:51.0.tcx\n2018-02-07 19:26:01.0.tcx\n2018-02-11 07:49:33.0.tcx\n2018-02-22 19:12:27.0.tcx\n2018-02-25 09:40:51.0.tcx\n2018-02-27 19:19:10.0.tcx\n2018-03-01 19:36:37.0.tcx\n2018-03-04 09:05:26.0.tcx\n2018-04-06 17:35:24.0.tcx\n2018-04-10 18:06:53.0.tcx\n2018-04-18 10:14:58.0.tcx\n2018-04-21 11:00:13.0.tcx\n2018-04-24 17:32:33.0.tcx\n2018-04-26 18:30:01.0.tcx\n2018-04-29 07:59:45.0.tcx\n2018-05-08 06:06:05.0.tcx\n2018-05-20 10:54:06.0.tcx\n2018-05-21 10:40:09.0.tcx\n2018-05-24 17:53:03.0.tcx\n2018-05-30 18:00:41.0.tcx\n2018-06-01 15:22:34.0.tcx\n2018-06-06 17:44:36.0.tcx\n2018-06-08 17:46:59.0.tcx\n2018-06-10 09:16:43.0.tcx\n2018-06-10 14:02:26.0.tcx\n2018-06-12 17:57:30.0.tcx\n2018-06-15 14:32:30.0.tcx\n2018-06-16 15:17:43.0.tcx\n2018-06-23 08:22:23.0.tcx\n2018-06-26 05:49:23.0.tcx\n2018-06-29 17:27:15.0.tcx\n2018-07-02 18:02:24.0.tcx\n2018-07-04 18:04:58.0.tcx\n2018-07-07 09:19:52.0.tcx\n2018-07-09 16:07:21.0.tcx\n2018-07-11 18:03:14.0.tcx\n2018-07-14 18:42:32.0.tcx\n2018-07-21 18:08:58.0.tcx\n2018-07-23 18:07:05.0.tcx\n2018-07-26 18:26:13.0.tcx\n2018-07-28 18:17:37.0.tcx\n2018-08-17 10:07:29.0.tcx\n2018-08-18 17:33:16.0.tcx\n2018-08-24 17:53:43.0.tcx\n2018-08-26 18:12:21.0.tcx\n2018-08-30 18:26:48.0.tcx\n2018-09-15 07:20:39.0.tcx\n2018-09-28 16:47:39.0.tcx\n2018-10-05 18:00:11.0.tcx\n2018-10-10 17:15:33.0.tcx\n2018-10-15 18:16:29.0.tcx\n2018-10-21 07:30:10.0.tcx\n2018-10-25 18:09:28.0.tcx\n2018-11-02 09:02:19.0.tcx\n2018-11-24 16:01:24.0.tcx\n2018-12-17 16:05:10.0.tcx\n2018-12-20 11:52:51.0.tcx\n2018-12-22 09:05:20.0.tcx\n2018-12-24 16:00:55.0.tcx\n2019-01-13 12:12:33.0.tcx\n2019-02-16 11:22:08.0.tcx\n2019-03-27 18:52:14.0.tcx\n2019-08-14 17:33:55.0.tcx\n"
    }
   ],
   "source": [
    "for l in file_list:\n",
    "\n",
    "    print(l)\n",
    "\n",
    "    doc = open(folder_path_in + l, \"r\").read()\n",
    "\n",
    "    activity_name = re.search('<Activity Sport=\"(.*?)\">', doc).group(1).lower()\n",
    "    if(activity_name == 'other'): activity_name = 'undefined'\n",
    "    \n",
    "    timestamp = re.search('<Lap StartTime=\"(.*?)\">',doc).group(1)\n",
    "\n",
    "    new_name = timestamp[0:4] + timestamp[5:7] + timestamp[8:10] + '_' + timestamp[11:13] + timestamp[14:16] + timestamp[17:19]\n",
    "    \n",
    "    new_name = new_name + '_' + activity_name + '_endomondo_tcx'\n",
    "    old_name = re.search('<Id>(.*?)</Id>',doc).group(1)\n",
    "    \n",
    "    doc = doc.replace('<Id>' + old_name + '</Id>', '<Id>' + new_name + '</Id>')\n",
    "\n",
    "    text_file = open(folder_path_out + new_name + '.tcx', \"w\")\n",
    "    text_file.write(doc)\n",
    "    text_file.close()"
   ]
  },
  {
   "cell_type": "markdown",
   "metadata": {},
   "source": [
    "## ENDOMONDO ROUTES"
   ]
  },
  {
   "cell_type": "code",
   "execution_count": 21,
   "metadata": {},
   "outputs": [],
   "source": [
    "folder_path_in = '/Volumes/Media/Tracks/Library/endomondo-2020-05-09/Routes/'\n",
    "folder_path_out = '/Volumes/Media/Tracks/Library_clean/other/'\n",
    "\n",
    "file_list = [f for f in os.listdir(folder_path_in) if f.endswith('.gpx')]\n",
    "#file_list"
   ]
  },
  {
   "cell_type": "code",
   "execution_count": 22,
   "metadata": {},
   "outputs": [
    {
     "output_type": "stream",
     "name": "stdout",
     "text": "236857905.gpx\n236860801.gpx\n239592661.gpx\n250274680.gpx\n250274860.gpx\n252634493.gpx\n260019760.gpx\n262857849.gpx\n273526919.gpx\n275335118.gpx\n277306430.gpx\n"
    }
   ],
   "source": [
    "for l in file_list:\n",
    "\n",
    "    print(l)\n",
    "\n",
    "    doc = open(folder_path_in + '/' + l, \"r\").read()\n",
    "\n",
    "    activity_name = re.search('<type>(.*?)</type>', doc).group(1).lower()\n",
    "    if(activity_name == 'walking'): activity_name = 'hiking'\n",
    "    \n",
    "    timestamp = re.search('<time>(.*?)</time>',doc).group(1)\n",
    "\n",
    "    new_name = timestamp[0:4] + timestamp[5:7] + timestamp[8:10] + '_' + timestamp[11:13] + timestamp[14:16] + timestamp[17:19]\n",
    "    new_name = new_name + '_' + activity_name.lower() + '_endomondo_gpx'\n",
    "\n",
    "    old_name = re.search('<trk>    <name>(.*?)</name>',doc).group(1)\n",
    "    \n",
    "    doc = doc.replace('<trk>    <name>' + old_name + '</name>', '<trk>    <name>' + new_name + '</name>')\n",
    "\n",
    "    text_file = open(folder_path_out + '/' + new_name + '.gpx', \"w\")\n",
    "    text_file.write(doc)\n",
    "    text_file.close()"
   ]
  },
  {
   "cell_type": "markdown",
   "metadata": {},
   "source": [
    "## WIKILOC GPX"
   ]
  },
  {
   "cell_type": "code",
   "execution_count": 23,
   "metadata": {},
   "outputs": [],
   "source": [
    "folder_path_in = '/Volumes/Media/Tracks/Library/Wikiloc200222_GPX'\n",
    "folder_path_out = '/Volumes/Media/Tracks/Library_clean/other/'\n",
    "\n",
    "file_list = [f for f in os.listdir(folder_path_in) if f.endswith('.gpx')]\n",
    "#file_list"
   ]
  },
  {
   "cell_type": "code",
   "execution_count": 24,
   "metadata": {},
   "outputs": [
    {
     "output_type": "stream",
     "name": "stdout",
     "text": "1a-bicicletada-popular-canyamars.gpx\n2019-trekking-prades-montsant.gpx\n2na-ronda-nocturna-canyamars-2011.gpx\n6a-caminada-popular-cims-dels-tres-turons.gpx\nabocador-de-coll-cardus.gpx\narenys-de-mar-terrassa.gpx\narrabassada-carretera-de-cerdanyola-a-horta.gpx\nbaixada-del-ripoll-besos.gpx\nbaixada-perdiguero.gpx\nbarcelona-can-coll-can-borrell-sant-medir.gpx\nbenasque-cerler-benasque.gpx\nbolvir-refugi-de-malniu.gpx\ncal-codonyers-y-can-castello.gpx\ncami-de-cavalls-ciutadella-mao-part-sud.gpx\ncami-de-ronda-sant-feliu-de-guixols-lescala.gpx\ncami-moliner-2012-matadepera.gpx\ncaminada-canalda-2014.gpx\ncasa-de-lobac-amb-baixada-per-la-pineda.gpx\ncasa-ifae-en-fgc.gpx\ncasa-ifae-en-moto.gpx\ncasa-st-pol.gpx\ncastell-de-fantova-amb-tornada-per-isabena.gpx\ncastellar-del-valles-sant-llorenc-savall-calders-moia-caldes.gpx\ncastellar-gallifa-sant-feliu-caldes-castellar.gpx\ncastellar-montserrat.gpx\ncastellsapera-coll-del-correu-coll-de-tres-creus.gpx\ncaus-casa-de-lobac-pedritxes-versio-curta.gpx\ncaus-casa-de-lobac-pedritxes-versio-llarga.gpx\ncircular-coll-destenalles-mura.gpx\ncoll-destenalles-moncau-la-mola.gpx\ncollserola-oeste-desde-sant-cugat-del-valles.gpx\ncollserola-per-torre-baro.gpx\ncongost-de-mont-rebei.gpx\ncursa-de-muntanya-de-terrassa-2013.gpx\ncursa-de-st-jaume-2013.gpx\ngorges-de-caranca.gpx\ngraus-ermita-de-los-templarios.gpx\ngraus-ermita-de-san-pedro.gpx\ngraus-ermita-de-st-pedro.gpx\ngraus-grustan-pano.gpx\ngraus-pantano-de-barasona.gpx\ngraus-vilas-del-turbon.gpx\nhemisferio-norte-de-sant-cugat-del-valles.gpx\nhospital-de-sang-serra-de-lobac.gpx\nla-mola-per-morral-del-drac-i-baixada-per-la-canal-del-mico.gpx\nla-mola-sant-llorenc-del-munt.gpx\nla-morera-de-montsant-ulldemolins.gpx\nla-ruta-prohibida-sant-cugat-castellbisbal-ullastrell-can-so.gpx\nla-vuelta-sincrotronica-sant-cugat-del-valles-sincrotron-alb.gpx\nlas-dos-laderas-de-vallvidrera-ft-el-tibidabo.gpx\nlausanne-berne-luzern.gpx\nmarato-de-collserola-desde-sant-cugat.gpx\nmontserrat-per-can-macana.gpx\nmura-el-puig-de-la-balma.gpx\nmura-turo-dels-ducs-puig-de-la-balma.gpx\npanta-de-sau-tavertet-cingles-de-tavertet.gpx\nparque-del-garraf-sitges.gpx\nperiferica-a-collserola.gpx\nperiferica-a-la-mola.gpx\nperiferica-a-montserrat.gpx\npisac.gpx\nprades-siurana.gpx\npujada-a-la-creu-de-pedracastell-canet.gpx\npujada-a-la-mola-per-la-cara-nord.gpx\npujada-a-miranda-de-santa-magdalena-de-montserrat.gpx\npujada-a-st-geroni-de-montserrat-des-de-monistrol.gpx\npujada-al-castell-dels-lladres.gpx\npujada-al-pic-del-canigo-des-del-refugi-dels-cortalets.gpx\npujada-tradicional-a-lamola.gpx\nqueralbs-nuria.gpx\nrafting-por-el-rio-esera.gpx\nrefugi-de-malniu-bolvir.gpx\nruta-de-les-masies-de-viladecavalls-versio-curta.gpx\nruta-de-les-masies-de-viladecavalls.gpx\nruta-de-los-3-pantanos-de-collserola-desde-sant-cugat-del-va.gpx\nruta-de-los-ibones.gpx\nruta-del-cares-picos-de-europa.gpx\nruta-dels-volcans.gpx\nruta-dentrenament-sant-miquel-de-gonteres.gpx\nruta-en-moto-desde-roma-a-barcelona.gpx\nruta-en-moto-por-andalucia-desde-barcelona.gpx\nsabadell-sant-llorenc-savall.gpx\nsant-cugat-del-valles-ca-la-iaia-coll-destenalles.gpx\nsant-cugat-del-valles-can-barata-sant-quirze-del-valles-bell.gpx\nsant-cugat-del-valles-can-codonyers-can-coll-tibidabo-can-ge.gpx\nsant-cugat-del-valles-can-coll-can-borrell.gpx\nsant-cugat-del-valles-can-coll-tibidabo.gpx\nsant-cugat-del-valles-can-jane.gpx\nsant-cugat-del-valles-cerdanyola-del-valles.gpx\nsant-cugat-del-valles-cerdanyola-vallvidrera-molins-de-rey.gpx\nsant-cugat-del-valles-la-del-cocodrilo.gpx\nsant-cugat-del-valles-molins-de-rei-tibidabo-horta-cerdanyol.gpx\nsant-cugat-del-valles-pi-den-xandri-hipica-severino-club-de-.gpx\nsant-cugat-del-valles-sant-medir-por-la-sierra-de-sant-medir.gpx\nsant-cugat-del-valles-sant-medir.gpx\nsant-cugat-del-valles-sierra-de-marina.gpx\nsant-cugat-del-valles-tibidabo-por-la-trialera-del-acueducto.gpx\nsant-cugat-del-valles-tibidabo.gpx\nsant-cugat-la-floresta-coll-de-can-mallol-molins-de-rei-papi.gpx\nsiurana-morera-de-montsant.gpx\nsta-maria-de-montnegre.gpx\nsubida-a-la-mola-por-cavall-bernat.gpx\nsubida-a-sant-jeroni-de-montserrat-desde-el-monasterio-y-vue.gpx\nsubida-al-ros-desde-el-castillo-de-san-lluis.gpx\nsubida-al-turbon-desde-vilas-del-turbon.gpx\nsubida-nocturna-a-la-mola-para-cenar-en-el-restaurante.gpx\nterrassa-benasque-en-moto.gpx\nterrassa-calders-manresa-montserrat-terrassa.gpx\nterrassa-castellar-balsareny-manresa-terrassa.gpx\nterrassa-gallifa.gpx\nterrassa-moia.gpx\nterrassa-mura.gpx\nterrassa-olesa.gpx\nterrassa-prats-de-llucanes.gpx\nterrassa-rellinars-terrassa.gpx\nterrassa-roda-de-bara.gpx\nterrassa-uab-per-can-barata-en-bici.gpx\nterrassa-uab-per-st-quirze-en-bici.gpx\ntobotronc.gpx\ntren-dels-llacs.gpx\ntrencacames-per-st-llorenc-i-lobac.gpx\nturo-de-la-barromina.gpx\nturons-de-la-serra-de-collcardus.gpx\nulldemolins-prades.gpx\nviladecavalls-mas-mimo.gpx\nvilafranca-del-penedes-mazinger-z.gpx\nvol-desde-liri-castejon-de-sos.gpx\nvol-sabadell-montserrat.gpx\nvolta-a-collserola.gpx\nvolta-al-moncau.gpx\nvolta-can-candi.gpx\nvolta-per-ca-namat.gpx\nvolta-per-can-bogunya.gpx\nvolta-per-la-carena-dels-emprius.gpx\nvolta-per-lobac.gpx\nvolta-terrassa-sabadell.gpx\nvuelta-a-collserola-version-1.gpx\nvuelta-a-la-caldera-de-taburiente-lapalma.gpx\nvuelta-a-traves-de-los-valles-de-benas-creguenya-corones-y-v.gpx\nvuelta-norte-a-sant-cugat-del-valles.gpx\nvuelta-por-collserola-75-senderos.gpx\nxxiv-marxa-popular-termes-darenys-de-munt.gpx\n"
    }
   ],
   "source": [
    "for l in file_list:\n",
    "    print(l)\n",
    "\n",
    "    doc = open(folder_path_in + '/' + l, \"r\").read()\n",
    "    activity_name = re.search('</author>\\\\n    <link href=\"https://www.wikiloc.com/(.*)/', doc).group(1)\n",
    "    if(activity_name == 'hiking-trails'): activity_name = 'hiking'\n",
    "    if(activity_name == 'mountain-biking-trails'): activity_name = 'biking'\n",
    "    if(activity_name == 'motorcycling-trails'): activity_name = 'motorcycling'\n",
    "    if(activity_name == 'trail-running-trails'): activity_name = 'running'\n",
    "    if(activity_name == 'running-trails'): activity_name = 'running'\n",
    "    if(activity_name == 'sledge-trails'): activity_name = 'sledge'\n",
    "    if(activity_name == 'flying-trails'): activity_name = 'flying'\n",
    "    if(activity_name == 'car-trails'): activity_name = 'driving'\n",
    "    if(activity_name == 'offroading-trails'): activity_name = 'driving'\n",
    "    if(activity_name == 'train-trails'): activity_name = 'train'\n",
    "    if(activity_name == 'paragliding-trails'): activity_name = 'paragliding'\n",
    "    if(activity_name == 'rowing-trails'): activity_name = 'rowing'\n",
    "    if(activity_name == 'kayaking-canoeing-trails'): activity_name = 'kayaking'\n",
    "    \n",
    "    timestamp = re.search('<time>(.*)</time>\\\\n      </trkpt>',doc).group(1)\n",
    "    new_name = timestamp[0:4] + timestamp[5:7] + timestamp[8:10] + '_' + timestamp[11:13] + timestamp[14:16] + timestamp[17:19]\n",
    "    old_name = re.search('<trk>\\\\n    <name>(.*)</name>',doc).group(1)\n",
    "    new_name = new_name + '_' + activity_name.lower() + '_wikiloc_gpx'\n",
    "    doc = doc.replace('<trk>\\n    <name>' + old_name + '</name>', '<trk>\\n    <name>' + new_name + '</name>')\n",
    "\n",
    "    text_file = open(folder_path_out + '/' + new_name + '.gpx', \"w\")\n",
    "    text_file.write(doc)\n",
    "    text_file.close()"
   ]
  },
  {
   "cell_type": "markdown",
   "metadata": {},
   "source": [
    "## WIKILOC GPX (BUDDIES)"
   ]
  },
  {
   "cell_type": "code",
   "execution_count": 25,
   "metadata": {},
   "outputs": [
    {
     "output_type": "execute_result",
     "data": {
      "text/plain": "['cavall-bernat-la-mola.gpx',\n 'collserola-nord-ii.gpx',\n 'collserola-nord.gpx',\n 'collserola-per-trialeres.gpx',\n 'collserola-sur.gpx',\n 'cursa-muntanya-terrassa.gpx',\n 'els-caus-ii.gpx',\n 'estany-de-sant-maurici-refugi-damitges-mirador.gpx',\n 'gran-volta-a-collserola-v1-0.gpx',\n 'gran-volta-a-collserola-v2-0.gpx',\n 'gran-volta-a-montserrat.gpx',\n 'gualba-montseny.gpx',\n 'la-mola-pel-pla-dels-escorpins.gpx',\n 'matadepera-sant-sebastia-de-montmajor.gpx',\n 'montnegre-des-de-sant-celoni.gpx',\n 'pla-de-lladres-des-de-planoles.gpx',\n 'sabadell-sant-llorenc-savall.gpx',\n 'sant-cugat-barcelona-por-los-3-pantanos.gpx',\n 'sant-cugat-del-valles-sant-pol-de-mar.gpx',\n 'sant-cugat-puig-madrona-tibidabo.gpx',\n 'sant-cugat-sant-pere-martir-panta-vallvidrera.gpx',\n 'sant-cugat-ullastrell.gpx',\n 'serralada-de-marina.gpx',\n 'terrassa-manresa.gpx',\n 'terrassa-masia-mas-mimo.gpx',\n 'terrassa-monistrol-de-montserrat.gpx',\n 'terrassa-mura.gpx',\n 'transcollserola-50km.gpx',\n 'transvalles-v1-0.gpx',\n 'transvalles-v2-0.gpx',\n 'transvalles-v3-0.gpx',\n 'viladecavalls-els-caus.gpx',\n 'viladecavalls-sitges.gpx',\n 'viles-de-la-vall-de-cardos.gpx',\n 'volta-per-serra-del-tronco.gpx',\n 'vuelo-por-el-penedes-el-bages-el-valles-y-el-moianes.gpx']"
     },
     "metadata": {},
     "execution_count": 25
    }
   ],
   "source": [
    "folder_path_in = '/Volumes/Media/Tracks/Library/WikilocBuddies200509_GPX'\n",
    "folder_path_out = '/Volumes/Media/Tracks/Library_clean/other/'\n",
    "\n",
    "file_list = [f for f in os.listdir(folder_path_in) if f.endswith('.gpx')]\n",
    "file_list"
   ]
  },
  {
   "cell_type": "code",
   "execution_count": 26,
   "metadata": {},
   "outputs": [
    {
     "output_type": "stream",
     "name": "stdout",
     "text": "cavall-bernat-la-mola.gpx\ncollserola-nord-ii.gpx\ncollserola-nord.gpx\ncollserola-per-trialeres.gpx\ncollserola-sur.gpx\ncursa-muntanya-terrassa.gpx\nels-caus-ii.gpx\nestany-de-sant-maurici-refugi-damitges-mirador.gpx\ngran-volta-a-collserola-v1-0.gpx\ngran-volta-a-collserola-v2-0.gpx\ngran-volta-a-montserrat.gpx\ngualba-montseny.gpx\nla-mola-pel-pla-dels-escorpins.gpx\nmatadepera-sant-sebastia-de-montmajor.gpx\nmontnegre-des-de-sant-celoni.gpx\npla-de-lladres-des-de-planoles.gpx\nsabadell-sant-llorenc-savall.gpx\nsant-cugat-barcelona-por-los-3-pantanos.gpx\nsant-cugat-del-valles-sant-pol-de-mar.gpx\nsant-cugat-puig-madrona-tibidabo.gpx\nsant-cugat-sant-pere-martir-panta-vallvidrera.gpx\nsant-cugat-ullastrell.gpx\nserralada-de-marina.gpx\nterrassa-manresa.gpx\nterrassa-masia-mas-mimo.gpx\nterrassa-monistrol-de-montserrat.gpx\nterrassa-mura.gpx\ntranscollserola-50km.gpx\ntransvalles-v1-0.gpx\ntransvalles-v2-0.gpx\ntransvalles-v3-0.gpx\nviladecavalls-els-caus.gpx\nviladecavalls-sitges.gpx\nviles-de-la-vall-de-cardos.gpx\nvolta-per-serra-del-tronco.gpx\nvuelo-por-el-penedes-el-bages-el-valles-y-el-moianes.gpx\n"
    }
   ],
   "source": [
    "for l in file_list:\n",
    "    print(l)\n",
    "\n",
    "    doc = open(folder_path_in + '/' + l, \"r\").read()\n",
    "    activity_name = re.search('</author><link href=\"https://www.wikiloc.com/(.*?)/', doc).group(1)\n",
    "    if(activity_name == 'hiking-trails'): activity_name = 'hiking'\n",
    "    if(activity_name == 'mountain-biking-trails'): activity_name = 'biking'\n",
    "    if(activity_name == 'motorcycling-trails'): activity_name = 'motorcycling'\n",
    "    if(activity_name == 'trail-running-trails'): activity_name = 'running'\n",
    "    if(activity_name == 'running-trails'): activity_name = 'running'\n",
    "    if(activity_name == 'sledge-trails'): activity_name = 'sledge'\n",
    "    if(activity_name == 'flying-trails'): activity_name = 'flying'\n",
    "    if(activity_name == 'car-trails'): activity_name = 'driving'\n",
    "    if(activity_name == 'offroading-trails'): activity_name = 'driving'\n",
    "    if(activity_name == 'train-trails'): activity_name = 'train'\n",
    "    if(activity_name == 'paragliding-trails'): activity_name = 'paragliding'\n",
    "    if(activity_name == 'rowing-trails'): activity_name = 'rowing'\n",
    "    if(activity_name == 'kayaking-canoeing-trails'): activity_name = 'kayaking'\n",
    "    if(activity_name == 'snowshoeing-trails'): activity_name = 'snowshoeing'\n",
    "    \n",
    "    timestamp = re.search('</ele><time>(.*?)</time></trkpt>',doc).group(1)\n",
    "    new_name = timestamp[0:4] + timestamp[5:7] + timestamp[8:10] + '_' + timestamp[11:13] + timestamp[14:16] + timestamp[17:19]\n",
    "    old_name = re.search('<trk><name>(.*?)</name>',doc).group(1)\n",
    "    new_name = new_name + '_' + activity_name.lower() + '_wikilocbuddies_gpx'\n",
    "    doc = doc.replace('<trk><name>' + old_name + '</name>', '<trk>\\n    <name>' + new_name + '</name>')\n",
    "\n",
    "    text_file = open(folder_path_out + '/' + new_name + '.gpx', \"w\")\n",
    "    text_file.write(doc)\n",
    "    text_file.close()"
   ]
  },
  {
   "cell_type": "markdown",
   "metadata": {},
   "source": [
    "## WIKILOC GPX (LOSTRACKERS)"
   ]
  },
  {
   "cell_type": "code",
   "execution_count": 27,
   "metadata": {},
   "outputs": [],
   "source": [
    "folder_path_in = '/Volumes/Media/Tracks/Library/WikilocLostrackers200508_GPX'\n",
    "folder_path_out = '/Volumes/Media/Tracks/Library_clean/other/'\n",
    "\n",
    "file_list = [f for f in os.listdir(folder_path_in) if f.endswith('.gpx')]\n",
    "#file_list"
   ]
  },
  {
   "cell_type": "code",
   "execution_count": 28,
   "metadata": {},
   "outputs": [
    {
     "output_type": "stream",
     "name": "stdout",
     "text": "2018-moto-andalucia.gpx\n2018-moto-cuenca.gpx\n2018-moto-pirineos.gpx\n2019-trekking-prades-montsant.gpx\nmoto-roma-barcelona-2018.gpx\ntrekking-cap-de-creus-2018.gpx\n"
    }
   ],
   "source": [
    "for l in file_list:\n",
    "    print(l)\n",
    "\n",
    "    doc = open(folder_path_in + '/' + l, \"r\").read()\n",
    "    activity_name = re.search('</author>\\\\n    <link href=\"https://www.wikiloc.com/(.*)/', doc).group(1)\n",
    "    if(activity_name == 'hiking-trails'): activity_name = 'hiking'\n",
    "    if(activity_name == 'mountain-biking-trails'): activity_name = 'biking'\n",
    "    if(activity_name == 'motorcycling-trails'): activity_name = 'motorcycling'\n",
    "    if(activity_name == 'trail-running-trails'): activity_name = 'running'\n",
    "    if(activity_name == 'running-trails'): activity_name = 'running'\n",
    "    if(activity_name == 'sledge-trails'): activity_name = 'sledge'\n",
    "    if(activity_name == 'flying-trails'): activity_name = 'flying'\n",
    "    if(activity_name == 'car-trails'): activity_name = 'driving'\n",
    "    if(activity_name == 'offroading-trails'): activity_name = 'driving'\n",
    "    if(activity_name == 'train-trails'): activity_name = 'train'\n",
    "    if(activity_name == 'paragliding-trails'): activity_name = 'paragliding'\n",
    "    if(activity_name == 'rowing-trails'): activity_name = 'rowing'\n",
    "    if(activity_name == 'kayaking-canoeing-trails'): activity_name = 'kayaking'\n",
    "    \n",
    "    timestamp = re.search('<time>(.*)</time>\\\\n      </trkpt>',doc).group(1)\n",
    "    new_name = timestamp[0:4] + timestamp[5:7] + timestamp[8:10] + '_' + timestamp[11:13] + timestamp[14:16] + timestamp[17:19]\n",
    "    old_name = re.search('<trk>\\\\n    <name>(.*)</name>',doc).group(1)\n",
    "    new_name = new_name + '_' + activity_name.lower() + '_wikiloclostrackers_gpx'\n",
    "    doc = doc.replace('<trk>\\n    <name>' + old_name + '</name>', '<trk>\\n    <name>' + new_name + '</name>')\n",
    "\n",
    "    text_file = open(folder_path_out + '/' + new_name + '.gpx', \"w\")\n",
    "    text_file.write(doc)\n",
    "    text_file.close()"
   ]
  },
  {
   "cell_type": "markdown",
   "metadata": {},
   "source": [
    "## MY TRACKS GPX"
   ]
  },
  {
   "cell_type": "code",
   "execution_count": 29,
   "metadata": {},
   "outputs": [],
   "source": [
    "folder_path_in = '/Volumes/Media/Tracks/Library/My_Tracks_GPX'\n",
    "folder_path_out = '/Volumes/Media/Tracks/Library_clean/other/'\n",
    "\n",
    "file_list = [f for f in os.listdir(folder_path_in) if f.endswith('.gpx')]\n",
    "#file_list"
   ]
  },
  {
   "cell_type": "code",
   "execution_count": 30,
   "metadata": {},
   "outputs": [
    {
     "output_type": "stream",
     "name": "stdout",
     "text": "2010-08-03 0908.gpx\n2010-08-10 0846.gpx\n2010-08-20 0931.gpx\n2010-10-16 1036.gpx\n2010-11-21 0956.gpx\n2010-12-05 1303.gpx\n2010-12-11 0908.gpx\n2010-12-18 0857.gpx\n2011-01-21 0956.gpx\n2011-02-14 1928.gpx\n2011-02-20 1002.gpx\n2011-02-27 1232.gpx\n2011-03-13 1225.gpx\n2011-03-13 1555.gpx\n2011-03-20 1145.gpx\n2011-04-02 1059.gpx\n2011-04-05 0938.gpx\n2011-04-05 1827.gpx\n2011-04-17 1310.gpx\n2011-04-20 0953.gpx\n2011-04-21 0903.gpx\n2011-04-30 1201.gpx\n2011-05-01 1102.gpx\n2013-02-08 1651.gpx\n"
    }
   ],
   "source": [
    "for l in file_list:\n",
    "    \n",
    "    print(l)\n",
    "\n",
    "    doc = open(folder_path_in + '/' + l, \"r\").read()\n",
    "\n",
    "    activity_name = 'undefined'\n",
    "\n",
    "    timestamp = re.search('<time>(.*?)</time>\\\\n</trkpt>',doc).group(1)\n",
    "    new_name = timestamp[0:4] + timestamp[5:7] + timestamp[8:10] + '_' + timestamp[11:13] + timestamp[14:16] + timestamp[17:19]\n",
    "    old_name = re.search('<trk>\\n<name>(.*?)</name>',doc).group(1)\n",
    "    new_name = new_name + '_' + activity_name.lower() + '_mytracks_gpx'\n",
    "\n",
    "    if(new_name in list(activity_dic.keys())): new_name = new_name.replace(new_name.split('_')[2], activity_dic[new_name])\n",
    "    doc = doc.replace('<trk>\\n<name>' + old_name + '</name>', '<trk>\\n<name>' + new_name + '</name>')\n",
    "\n",
    "    text_file = open(folder_path_out + '/' + new_name + '.gpx', \"w\")\n",
    "    text_file.write(doc)\n",
    "    text_file.close()"
   ]
  },
  {
   "cell_type": "markdown",
   "metadata": {},
   "source": [
    "## OZIEXPLORER GPX"
   ]
  },
  {
   "cell_type": "code",
   "execution_count": 31,
   "metadata": {},
   "outputs": [],
   "source": [
    "folder_path_in = '/Volumes/Media/Tracks/Library/Oziexplorer_GPX'\n",
    "folder_path_out = '/Volumes/Media/Tracks/Library_clean/other/'\n",
    "\n",
    "file_list = [f for f in os.listdir(folder_path_in) if f.endswith('.gpx')]\n",
    "#file_list"
   ]
  },
  {
   "cell_type": "code",
   "execution_count": 32,
   "metadata": {},
   "outputs": [
    {
     "output_type": "stream",
     "name": "stdout",
     "text": "120814_Rafting_esera.gpx\n120819_Pico Arguells.gpx\n2012-08-11 0708__20120811_0708.gpx\n2012-09-08 1007__20120908_1007_v1.gpx\nSubida_pico_baguenyola.gpx\nValle_Eriste_Estos.gpx\nVolta_Mola.gpx\n"
    }
   ],
   "source": [
    "for l in file_list:\n",
    "    \n",
    "    print(l)\n",
    "\n",
    "    doc = open(folder_path_in + '/' + l, \"r\").read()\n",
    "\n",
    "    activity_name = 'undefined'\n",
    "\n",
    "    timestamp = re.search('<time>(.*?)</time>\\n</trkpt>',doc).group(1)\n",
    "    new_name = timestamp[0:4] + timestamp[5:7] + timestamp[8:10] + '_' + timestamp[11:13] + timestamp[14:16] + timestamp[17:19]\n",
    "    old_name = re.search('<trk>\\n <name>(.*?)</name>',doc).group(1)\n",
    "    new_name = new_name + '_' + activity_name.lower() + '_oziexplorer_gpx'\n",
    "    if(new_name in list(activity_dic.keys())): new_name = new_name.replace(new_name.split('_')[2], activity_dic[new_name])\n",
    "\n",
    "    doc = doc.replace('<trk>\\n <name>' + old_name + '</name>', '<trk>\\n <name>' + new_name + '</name>')\n",
    "    #doc = doc.replace('</wpt>', '<sym>Waypoint</sym>\\n<type>Waypoint</type>\\n</wpt>')\n",
    "\n",
    "    text_file = open(folder_path_out + '/' + new_name + '.gpx', \"w\")\n",
    "    text_file.write(doc)\n",
    "    text_file.close()"
   ]
  },
  {
   "cell_type": "markdown",
   "metadata": {},
   "source": [
    "## OZIEXPLORER PLT"
   ]
  },
  {
   "cell_type": "code",
   "execution_count": 33,
   "metadata": {},
   "outputs": [],
   "source": [
    "folder_path_in = '/Volumes/Media/Tracks/Library/Oziexplorer_PLT'\n",
    "folder_path_out = '/Volumes/Media/Tracks/Library_clean/other/'\n",
    "\n",
    "file_list = [f for f in os.listdir(folder_path_in) if f.endswith('.gpx')]\n",
    "#file_list"
   ]
  },
  {
   "cell_type": "code",
   "execution_count": 34,
   "metadata": {},
   "outputs": [
    {
     "output_type": "stream",
     "name": "stdout",
     "text": "120811_Ruta_de_los_ibones.gpx\n120814_Baixada_Campo_StLiestra_rafting.gpx\nCanigo.gpx\nSubida_pico_baguenyola.gpx\n"
    }
   ],
   "source": [
    "for l in file_list:\n",
    "\n",
    "    print(l)\n",
    "    \n",
    "    doc = open(folder_path_in + '/' + l, \"r\").read()\n",
    "\n",
    "    activity_name = 'undefined'\n",
    "    \n",
    "    timestamp = re.search('<time>(.*?)</time>\\n      </trkpt>',doc).group(1)\n",
    "    new_name = timestamp[0:4] + timestamp[5:7] + timestamp[8:10] + '_' + timestamp[11:13] + timestamp[14:16] + timestamp[17:19]\n",
    "    old_name = re.search('<trk>\\n    <name>(.*?)</name>',doc).group(1)\n",
    "    new_name = new_name + '_' + activity_name.lower() + '_oziexplorer_plt'\n",
    "\n",
    "    if(new_name in list(activity_dic.keys())): new_name = new_name.replace(new_name.split('_')[2], activity_dic[new_name])\n",
    "    doc = doc.replace('\\n    </trkseg>\\n  </trk>\\n  <trk>\\n    <name>' + old_name + '</name>\\n    <trkseg>\\n      ', '')\n",
    "    doc = doc.replace('<trk>\\n    <name>' + old_name + '</name>', '<trk>\\n    <name>' + new_name + '</name>')\n",
    "\n",
    "    text_file = open(folder_path_out + '/' + new_name + '.gpx', \"w\")\n",
    "    text_file.write(doc)\n",
    "    text_file.close()"
   ]
  },
  {
   "cell_type": "markdown",
   "metadata": {},
   "source": [
    "## MY TRACKS KML"
   ]
  },
  {
   "cell_type": "code",
   "execution_count": 35,
   "metadata": {},
   "outputs": [],
   "source": [
    "##### Rename KML & KMZ original files ##### \n",
    "\n",
    "# folder_path_in = '/Volumes/Media/Tracks/Library/Other/My_tracks_KML_original'\n",
    "# folder_path_in = '/Volumes/Media/Tracks/Library/Other/My_tracks_KMZ_original'\n",
    "# folder_path_out = '/Volumes/Media/Tracks/Library/My_tracks_KML'\n",
    "# folder_path_out = '/Volumes/Media/Tracks/Library/My_tracks_KMZ'\n",
    "\n",
    "# file_list = [f for f in os.listdir(folder_path_in) if f.endswith('.kml')]\n",
    "\n",
    "# for l in file_list:\n",
    "#     print(l)\n",
    "\n",
    "#     doc = open(folder_path_in + '/' + l, \"r\").read()\n",
    "\n",
    "#     original_name = re.search('\\<name\\>\\<\\!\\[CDATA\\[(.*)\\]\\]\\>\\<\\/name\\>', doc).group(1)\n",
    "#     timestamp = re.search('\\<TimeStamp\\>\\<when\\>(.*)\\<\\/when\\>\\</TimeStamp\\>',doc).group(1)\n",
    "#     new_name = timestamp[0:4] + timestamp[5:7] + timestamp[8:10] + '_' + timestamp[11:13] + timestamp[14:16] + timestamp[17:19]\n",
    "\n",
    "#     doc = doc.replace(original_name, new_name)\n",
    "\n",
    "#     text_file = open(folder_path_out + '/' + new_name + '.kml', \"w\")\n",
    "#     text_file.write(doc)\n",
    "#     text_file.close()"
   ]
  },
  {
   "cell_type": "code",
   "execution_count": 36,
   "metadata": {},
   "outputs": [],
   "source": [
    "folder_path_in = '/Volumes/Media/Tracks/Library/My_Tracks_KML'\n",
    "folder_path_out = '/Volumes/Media/Tracks/Library_clean/other/'\n",
    "\n",
    "file_list = [f for f in os.listdir(folder_path_in) if f.endswith('.kml')]\n",
    "#file_list"
   ]
  },
  {
   "cell_type": "code",
   "execution_count": 37,
   "metadata": {},
   "outputs": [
    {
     "output_type": "stream",
     "name": "stdout",
     "text": "20130330_170226.kml\n20130331_093008.kml\n20130502_153934.kml\n20130513_174345.kml\n20130521_171346.kml\n20130523_173418.kml\n20130526_181024.kml\n20130528_173524.kml\n20130530_172356.kml\n20130604_170950.kml\n20130606_175817.kml\n20130610_161931.kml\n20130612_174235.kml\n20130613_165340.kml\n20130616_185128.kml\n20130618_185954.kml\n20130620_175427.kml\n20130624_184358.kml\n20130626_183247.kml\n20130628_172259.kml\n20130630_080523.kml\n20130722_090252.kml\n20130722_130640.kml\n20130731_181634.kml\n20130802_145208.kml\n20130803_161707.kml\n20130812_181641.kml\n20130814_173219.kml\n20130816_180021.kml\n20130818_183813.kml\n20130922_114903.kml\n20140115_192312.kml\n20140117_181320.kml\n20140126_090025.kml\n20140130_185104.kml\n20140203_184139.kml\n20140207_175614.kml\n20140209_180628.kml\n20140301_101656.kml\n20140304_180022.kml\n20140315_084554.kml\n20140326_120049.kml\n20140517_144424.kml\n20140605_141206.kml\n"
    }
   ],
   "source": [
    "for l in file_list:\n",
    "    print(l)\n",
    "    os.system(\"gpsbabel -i kml -f \" + folder_path_in + \"/\" + l + \" -x nuketypes,waypoints,routes -o gpx -F \" + folder_path_in + \"/\" + l.replace('.kml', '.gpx'))"
   ]
  },
  {
   "cell_type": "code",
   "execution_count": 38,
   "metadata": {},
   "outputs": [],
   "source": [
    "folder_path_in = '/Volumes/Media/Tracks/Library/My_Tracks_KML'\n",
    "folder_path_out = '/Volumes/Media/Tracks/Library_clean/other/'\n",
    "\n",
    "file_list = [f for f in os.listdir(folder_path_in) if f.endswith('.gpx')]\n",
    "#file_list"
   ]
  },
  {
   "cell_type": "code",
   "execution_count": 39,
   "metadata": {},
   "outputs": [
    {
     "output_type": "stream",
     "name": "stdout",
     "text": "20130330_170226.gpx\n20130331_093008.gpx\n20130502_153934.gpx\n20130513_174345.gpx\n20130521_171346.gpx\n20130523_173418.gpx\n20130526_181024.gpx\n20130528_173524.gpx\n20130530_172356.gpx\n20130604_170950.gpx\n20130606_175817.gpx\n20130610_161931.gpx\n20130612_174235.gpx\n20130613_165340.gpx\n20130616_185128.gpx\n20130618_185954.gpx\n20130620_175427.gpx\n20130624_184358.gpx\n20130626_183247.gpx\n20130628_172259.gpx\n20130630_080523.gpx\n20130722_090252.gpx\n20130722_130640.gpx\n20130731_181634.gpx\n20130802_145208.gpx\n20130803_161707.gpx\n20130812_181641.gpx\n20130814_173219.gpx\n20130816_180021.gpx\n20130818_183813.gpx\n20130922_114903.gpx\n20140115_192312.gpx\n20140117_181320.gpx\n20140126_090025.gpx\n20140130_185104.gpx\n20140203_184139.gpx\n20140207_175614.gpx\n20140209_180628.gpx\n20140301_101656.gpx\n20140304_180022.gpx\n20140315_084554.gpx\n20140326_120049.gpx\n20140517_144424.gpx\n20140605_141206.gpx\n"
    }
   ],
   "source": [
    "for l in file_list:\n",
    "    \n",
    "    print(l)\n",
    "\n",
    "    doc = open(folder_path_in + '/' + l, \"r\").read()\n",
    "\n",
    "    activity_name = 'undefined'\n",
    "\n",
    "    timestamp = re.search('<time>(.*?)</time>\\n      </trkpt>',doc).group(1)\n",
    "    new_name = timestamp[0:4] + timestamp[5:7] + timestamp[8:10] + '_' + timestamp[11:13] + timestamp[14:16] + timestamp[17:19]\n",
    "    old_name = re.search('<trk>\\n    <name>(.*?)</name>',doc).group(1)\n",
    "    new_name = new_name + '_' + activity_name.lower() + '_mytracks_kml'\n",
    "    if(new_name in list(activity_dic.keys())): new_name = new_name.replace(new_name.split('_')[2], activity_dic[new_name])\n",
    "\n",
    "    doc = doc.replace('\\n    </trkseg>\\n  </trk>\\n  <trk>\\n    <name>' + old_name + '</name>\\n    <trkseg>\\n      ', '')\n",
    "    doc = doc.replace('<trk>\\n    <name>' + old_name + '</name>', '<trk>\\n    <name>' + new_name + '</name>')\n",
    "\n",
    "    text_file = open(folder_path_out + '/' + new_name + '.gpx', \"w\")\n",
    "    text_file.write(doc)\n",
    "    text_file.close()"
   ]
  },
  {
   "cell_type": "markdown",
   "metadata": {},
   "source": [
    "## ORUXMAPS KML"
   ]
  },
  {
   "cell_type": "code",
   "execution_count": 40,
   "metadata": {},
   "outputs": [],
   "source": [
    "folder_path_in = '/Volumes/Media/Tracks/Library/Oruxmaps_KML'\n",
    "folder_path_out = '/Volumes/Media/Tracks/Library_clean/other/'\n",
    "\n",
    "file_list = [f for f in os.listdir(folder_path_in) if f.endswith('.kml')]\n",
    "#file_list"
   ]
  },
  {
   "cell_type": "code",
   "execution_count": 41,
   "metadata": {},
   "outputs": [
    {
     "output_type": "stream",
     "name": "stdout",
     "text": "2012-11-15 1807__20121115_1807.kml\n2012-11-24 0938__20121124_0938.kml\n2012-12-16 1123__20121216_1123.kml\n2012-12-22 1046__20121222_1046.kml\n2014-06-14 0958__20140614_0958.kml\n"
    }
   ],
   "source": [
    "for l in file_list:\n",
    "    print(l)\n",
    "    os.system(\"gpsbabel -i kml -f \" + folder_path_in + \"/\" + l.replace(' ', '\\ ') + \" -x nuketypes,waypoints,routes -o gpx -F \" + folder_path_in + \"/\" + l.replace(' ', '\\ ').replace('.kml', '.gpx'))"
   ]
  },
  {
   "cell_type": "code",
   "execution_count": 42,
   "metadata": {},
   "outputs": [],
   "source": [
    "folder_path_in = '/Volumes/Media/Tracks/Library/Oruxmaps_KML'\n",
    "folder_path_out = '/Volumes/Media/Tracks/Library_clean/other/'\n",
    "\n",
    "file_list = [f for f in os.listdir(folder_path_in) if f.endswith('.gpx')]\n",
    "#file_list"
   ]
  },
  {
   "cell_type": "code",
   "execution_count": 43,
   "metadata": {},
   "outputs": [
    {
     "output_type": "stream",
     "name": "stdout",
     "text": "2012-11-15 1807__20121115_1807.gpx\n2012-11-24 0938__20121124_0938.gpx\n2012-12-16 1123__20121216_1123.gpx\n2012-12-22 1046__20121222_1046.gpx\n2014-06-14 0958__20140614_0958.gpx\n"
    }
   ],
   "source": [
    "for l in file_list:\n",
    "    \n",
    "    print(l)\n",
    "\n",
    "    doc = open(folder_path_in + '/' + l, \"r\").read()\n",
    "\n",
    "    activity_name = 'undefined'\n",
    "\n",
    "    timestamp = l[0:15].replace('-','').replace(' ','_') + '00'\n",
    "    old_name = re.search('<trk>\\n    <name>(.*?)</name>',doc).group(1)\n",
    "    new_name = timestamp + '_' + activity_name.lower() + '_oruxmaps_kml'\n",
    "    if(new_name in list(activity_dic.keys())): new_name = new_name.replace(new_name.split('_')[2], activity_dic[new_name])\n",
    "    \n",
    "    doc = doc.replace('\\n    </trkseg>\\n  </trk>\\n  <trk>\\n    <name>' + old_name + '</name>\\n    <trkseg>\\n      ', '')\n",
    "    doc = doc.replace('<trk>\\n    <name>' + old_name + '</name>', '<trk>\\n    <name>' + new_name + '</name>')\n",
    "\n",
    "    text_file = open(folder_path_out + '/' + new_name + '.gpx', \"w\")\n",
    "    text_file.write(doc)\n",
    "    text_file.close()"
   ]
  },
  {
   "cell_type": "markdown",
   "metadata": {},
   "source": [
    "# Filtering"
   ]
  },
  {
   "cell_type": "code",
   "execution_count": 44,
   "metadata": {},
   "outputs": [],
   "source": [
    "folder_path_in = '/Volumes/Media/Tracks/Library_clean/other/'\n",
    "\n",
    "file_list = [f for f in os.listdir(folder_path_in) if not f.startswith('.')]"
   ]
  },
  {
   "cell_type": "code",
   "execution_count": 45,
   "metadata": {},
   "outputs": [],
   "source": [
    "df = pd.DataFrame({'file_name': file_list})"
   ]
  },
  {
   "cell_type": "code",
   "execution_count": 46,
   "metadata": {},
   "outputs": [],
   "source": [
    "df_ = df['file_name'].str.split('.', expand = True)\n",
    "df['name'] = df_[0]\n",
    "df['file_type'] = df_[1]"
   ]
  },
  {
   "cell_type": "code",
   "execution_count": 47,
   "metadata": {},
   "outputs": [],
   "source": [
    "df['date'] = df['name'].str[:11]"
   ]
  },
  {
   "cell_type": "code",
   "execution_count": 48,
   "metadata": {},
   "outputs": [],
   "source": [
    "df_ = df['name'].str.split('_',  expand = True)\n",
    "df['activity'] = df_[2]\n",
    "df['source'] = df_[3] + '_' + df_[4]"
   ]
  },
  {
   "cell_type": "code",
   "execution_count": 49,
   "metadata": {},
   "outputs": [],
   "source": [
    "df = df.sort_values('source')"
   ]
  },
  {
   "cell_type": "code",
   "execution_count": 50,
   "metadata": {},
   "outputs": [
    {
     "output_type": "execute_result",
     "data": {
      "text/plain": "697"
     },
     "metadata": {},
     "execution_count": 50
    }
   ],
   "source": [
    "df.date.nunique()"
   ]
  },
  {
   "cell_type": "code",
   "execution_count": 51,
   "metadata": {},
   "outputs": [
    {
     "output_type": "execute_result",
     "data": {
      "text/plain": "                                              file_name  \\\n1301          20200509_105517_running_endomondo_gpx.gpx   \n1300          20200509_105516_running_endomondo_gpx.gpx   \n1299           20200509_105516_hiking_endomondo_gpx.gpx   \n794         20151208_084242_undefined_endomondo_tcx.tcx   \n759           20150831_172016_running_endomondo_tcx.tcx   \n...                                                 ...   \n1180  20181011_063725_motorcycling_wikiloclostracker...   \n1275  20191030_120453_hiking_wikiloclostrackers_gpx.gpx   \n1296  20200402_155032_hiking_wikiloclostrackers_gpx.gpx   \n1264  20190831_173643_motorcycling_wikiloclostracker...   \n1094  20180324_085123_motorcycling_wikiloclostracker...   \n\n                                                   name file_type  \\\n1301              20200509_105517_running_endomondo_gpx       gpx   \n1300              20200509_105516_running_endomondo_gpx       gpx   \n1299               20200509_105516_hiking_endomondo_gpx       gpx   \n794             20151208_084242_undefined_endomondo_tcx       tcx   \n759               20150831_172016_running_endomondo_tcx       tcx   \n...                                                 ...       ...   \n1180  20181011_063725_motorcycling_wikiloclostracker...       gpx   \n1275      20191030_120453_hiking_wikiloclostrackers_gpx       gpx   \n1296      20200402_155032_hiking_wikiloclostrackers_gpx       gpx   \n1264  20190831_173643_motorcycling_wikiloclostracker...       gpx   \n1094  20180324_085123_motorcycling_wikiloclostracker...       gpx   \n\n             date      activity                  source  \n1301  20200509_10       running           endomondo_gpx  \n1300  20200509_10       running           endomondo_gpx  \n1299  20200509_10        hiking           endomondo_gpx  \n794   20151208_08     undefined           endomondo_tcx  \n759   20150831_17       running           endomondo_tcx  \n...           ...           ...                     ...  \n1180  20181011_06  motorcycling  wikiloclostrackers_gpx  \n1275  20191030_12        hiking  wikiloclostrackers_gpx  \n1296  20200402_15        hiking  wikiloclostrackers_gpx  \n1264  20190831_17  motorcycling  wikiloclostrackers_gpx  \n1094  20180324_08  motorcycling  wikiloclostrackers_gpx  \n\n[1302 rows x 6 columns]",
      "text/html": "<div>\n<style scoped>\n    .dataframe tbody tr th:only-of-type {\n        vertical-align: middle;\n    }\n\n    .dataframe tbody tr th {\n        vertical-align: top;\n    }\n\n    .dataframe thead th {\n        text-align: right;\n    }\n</style>\n<table border=\"1\" class=\"dataframe\">\n  <thead>\n    <tr style=\"text-align: right;\">\n      <th></th>\n      <th>file_name</th>\n      <th>name</th>\n      <th>file_type</th>\n      <th>date</th>\n      <th>activity</th>\n      <th>source</th>\n    </tr>\n  </thead>\n  <tbody>\n    <tr>\n      <th>1301</th>\n      <td>20200509_105517_running_endomondo_gpx.gpx</td>\n      <td>20200509_105517_running_endomondo_gpx</td>\n      <td>gpx</td>\n      <td>20200509_10</td>\n      <td>running</td>\n      <td>endomondo_gpx</td>\n    </tr>\n    <tr>\n      <th>1300</th>\n      <td>20200509_105516_running_endomondo_gpx.gpx</td>\n      <td>20200509_105516_running_endomondo_gpx</td>\n      <td>gpx</td>\n      <td>20200509_10</td>\n      <td>running</td>\n      <td>endomondo_gpx</td>\n    </tr>\n    <tr>\n      <th>1299</th>\n      <td>20200509_105516_hiking_endomondo_gpx.gpx</td>\n      <td>20200509_105516_hiking_endomondo_gpx</td>\n      <td>gpx</td>\n      <td>20200509_10</td>\n      <td>hiking</td>\n      <td>endomondo_gpx</td>\n    </tr>\n    <tr>\n      <th>794</th>\n      <td>20151208_084242_undefined_endomondo_tcx.tcx</td>\n      <td>20151208_084242_undefined_endomondo_tcx</td>\n      <td>tcx</td>\n      <td>20151208_08</td>\n      <td>undefined</td>\n      <td>endomondo_tcx</td>\n    </tr>\n    <tr>\n      <th>759</th>\n      <td>20150831_172016_running_endomondo_tcx.tcx</td>\n      <td>20150831_172016_running_endomondo_tcx</td>\n      <td>tcx</td>\n      <td>20150831_17</td>\n      <td>running</td>\n      <td>endomondo_tcx</td>\n    </tr>\n    <tr>\n      <th>...</th>\n      <td>...</td>\n      <td>...</td>\n      <td>...</td>\n      <td>...</td>\n      <td>...</td>\n      <td>...</td>\n    </tr>\n    <tr>\n      <th>1180</th>\n      <td>20181011_063725_motorcycling_wikiloclostracker...</td>\n      <td>20181011_063725_motorcycling_wikiloclostracker...</td>\n      <td>gpx</td>\n      <td>20181011_06</td>\n      <td>motorcycling</td>\n      <td>wikiloclostrackers_gpx</td>\n    </tr>\n    <tr>\n      <th>1275</th>\n      <td>20191030_120453_hiking_wikiloclostrackers_gpx.gpx</td>\n      <td>20191030_120453_hiking_wikiloclostrackers_gpx</td>\n      <td>gpx</td>\n      <td>20191030_12</td>\n      <td>hiking</td>\n      <td>wikiloclostrackers_gpx</td>\n    </tr>\n    <tr>\n      <th>1296</th>\n      <td>20200402_155032_hiking_wikiloclostrackers_gpx.gpx</td>\n      <td>20200402_155032_hiking_wikiloclostrackers_gpx</td>\n      <td>gpx</td>\n      <td>20200402_15</td>\n      <td>hiking</td>\n      <td>wikiloclostrackers_gpx</td>\n    </tr>\n    <tr>\n      <th>1264</th>\n      <td>20190831_173643_motorcycling_wikiloclostracker...</td>\n      <td>20190831_173643_motorcycling_wikiloclostracker...</td>\n      <td>gpx</td>\n      <td>20190831_17</td>\n      <td>motorcycling</td>\n      <td>wikiloclostrackers_gpx</td>\n    </tr>\n    <tr>\n      <th>1094</th>\n      <td>20180324_085123_motorcycling_wikiloclostracker...</td>\n      <td>20180324_085123_motorcycling_wikiloclostracker...</td>\n      <td>gpx</td>\n      <td>20180324_08</td>\n      <td>motorcycling</td>\n      <td>wikiloclostrackers_gpx</td>\n    </tr>\n  </tbody>\n</table>\n<p>1302 rows × 6 columns</p>\n</div>"
     },
     "metadata": {},
     "execution_count": 51
    }
   ],
   "source": [
    "df"
   ]
  },
  {
   "cell_type": "code",
   "execution_count": 52,
   "metadata": {},
   "outputs": [],
   "source": [
    "date_source = df[['date','source']].groupby(['date'])['source'].apply(','.join).reset_index().rename(columns={'source':'source_combinations'})"
   ]
  },
  {
   "cell_type": "code",
   "execution_count": 53,
   "metadata": {},
   "outputs": [
    {
     "output_type": "execute_result",
     "data": {
      "text/plain": "                                                    date\nsource_combinations                                     \nendomondo_tcx,strava_tcx                             305\nwikiloc_gpx                                           45\ngarmin_tcx,strava_tcx                                 41\ngarmin_tcx                                            35\nmytracks_kml,strava_gpx                               35\noruxmaps_gpx,strava_gpx                               33\nwikilocbuddies_gpx                                    30\noruxmaps_gpx,strava_gpx,wikiloc_gpx                   25\nstrava_gpx                                            17\nendomondo_tcx                                         15\ngarmin_tcx,strava_tcx,wikiloc_gpx                     13\nstrava_gpx,wikiloc_gpx                                13\ngarmin_tcx,wikiloc_gpx                                11\noruxmaps_gpx                                           8\noruxmaps_gpx,wikiloc_gpx                               7\nmytracks_gpx,strava_gpx                                6\nmytracks_gpx,strava_gpx,wikiloc_gpx                    6\noruxmaps_kml                                           5\nmytracks_kml                                           5\nmytracks_gpx                                           4\nwikiloclostrackers_gpx                                 4\ngarmin_tcx,mytracks_gpx,strava_gpx,wikiloc_gpx         3\noruxmaps_gpx,strava_gpx,wikiloc_gpx,wikilocbudd...     2\noziexplorer_gpx                                        2\nwikiloc_gpx,wikiloclostrackers_gpx                     2\nmytracks_kml,strava_gpx,wikiloc_gpx                    2\nendomondo_tcx,endomondo_tcx                            2\nendomondo_tcx,strava_tcx,wikiloc_gpx                   2\nendomondo_tcx,strava_tcx,wikilocbuddies_gpx            2\noruxmaps_gpx,oziexplorer_gpx,oziexplorer_plt,st...     1\noruxmaps_gpx,oziexplorer_gpx,oziexplorer_plt,st...     1\nendomondo_tcx,endomondo_tcx,endomondo_tcx              1\nwikiloc_gpx,wikiloc_gpx                                1\nendomondo_tcx,oruxmaps_gpx,strava_tcx,wikiloc_gpx      1\noziexplorer_gpx,oziexplorer_plt,wikiloc_gpx            1\noziexplorer_gpx,oziexplorer_plt                        1\ngarmin_tcx,mytracks_gpx                                1\ngarmin_tcx,mytracks_gpx,strava_tcx                     1\noruxmaps_gpx,wikilocbuddies_gpx                        1\ngarmin_tcx,mytracks_gpx,wikiloc_gpx                    1\noruxmaps_gpx,strava_gpx,wikilocbuddies_gpx             1\nmytracks_gpx,mytracks_kml,wikiloc_gpx                  1\nmytracks_gpx,wikiloc_gpx                               1\nmytracks_kml,wikiloc_gpx                               1\noruxmaps_gpx,oziexplorer_gpx,strava_gpx,wikiloc...     1\nendomondo_gpx,endomondo_gpx,endomondo_gpx              1",
      "text/html": "<div>\n<style scoped>\n    .dataframe tbody tr th:only-of-type {\n        vertical-align: middle;\n    }\n\n    .dataframe tbody tr th {\n        vertical-align: top;\n    }\n\n    .dataframe thead th {\n        text-align: right;\n    }\n</style>\n<table border=\"1\" class=\"dataframe\">\n  <thead>\n    <tr style=\"text-align: right;\">\n      <th></th>\n      <th>date</th>\n    </tr>\n    <tr>\n      <th>source_combinations</th>\n      <th></th>\n    </tr>\n  </thead>\n  <tbody>\n    <tr>\n      <th>endomondo_tcx,strava_tcx</th>\n      <td>305</td>\n    </tr>\n    <tr>\n      <th>wikiloc_gpx</th>\n      <td>45</td>\n    </tr>\n    <tr>\n      <th>garmin_tcx,strava_tcx</th>\n      <td>41</td>\n    </tr>\n    <tr>\n      <th>garmin_tcx</th>\n      <td>35</td>\n    </tr>\n    <tr>\n      <th>mytracks_kml,strava_gpx</th>\n      <td>35</td>\n    </tr>\n    <tr>\n      <th>oruxmaps_gpx,strava_gpx</th>\n      <td>33</td>\n    </tr>\n    <tr>\n      <th>wikilocbuddies_gpx</th>\n      <td>30</td>\n    </tr>\n    <tr>\n      <th>oruxmaps_gpx,strava_gpx,wikiloc_gpx</th>\n      <td>25</td>\n    </tr>\n    <tr>\n      <th>strava_gpx</th>\n      <td>17</td>\n    </tr>\n    <tr>\n      <th>endomondo_tcx</th>\n      <td>15</td>\n    </tr>\n    <tr>\n      <th>garmin_tcx,strava_tcx,wikiloc_gpx</th>\n      <td>13</td>\n    </tr>\n    <tr>\n      <th>strava_gpx,wikiloc_gpx</th>\n      <td>13</td>\n    </tr>\n    <tr>\n      <th>garmin_tcx,wikiloc_gpx</th>\n      <td>11</td>\n    </tr>\n    <tr>\n      <th>oruxmaps_gpx</th>\n      <td>8</td>\n    </tr>\n    <tr>\n      <th>oruxmaps_gpx,wikiloc_gpx</th>\n      <td>7</td>\n    </tr>\n    <tr>\n      <th>mytracks_gpx,strava_gpx</th>\n      <td>6</td>\n    </tr>\n    <tr>\n      <th>mytracks_gpx,strava_gpx,wikiloc_gpx</th>\n      <td>6</td>\n    </tr>\n    <tr>\n      <th>oruxmaps_kml</th>\n      <td>5</td>\n    </tr>\n    <tr>\n      <th>mytracks_kml</th>\n      <td>5</td>\n    </tr>\n    <tr>\n      <th>mytracks_gpx</th>\n      <td>4</td>\n    </tr>\n    <tr>\n      <th>wikiloclostrackers_gpx</th>\n      <td>4</td>\n    </tr>\n    <tr>\n      <th>garmin_tcx,mytracks_gpx,strava_gpx,wikiloc_gpx</th>\n      <td>3</td>\n    </tr>\n    <tr>\n      <th>oruxmaps_gpx,strava_gpx,wikiloc_gpx,wikilocbuddies_gpx</th>\n      <td>2</td>\n    </tr>\n    <tr>\n      <th>oziexplorer_gpx</th>\n      <td>2</td>\n    </tr>\n    <tr>\n      <th>wikiloc_gpx,wikiloclostrackers_gpx</th>\n      <td>2</td>\n    </tr>\n    <tr>\n      <th>mytracks_kml,strava_gpx,wikiloc_gpx</th>\n      <td>2</td>\n    </tr>\n    <tr>\n      <th>endomondo_tcx,endomondo_tcx</th>\n      <td>2</td>\n    </tr>\n    <tr>\n      <th>endomondo_tcx,strava_tcx,wikiloc_gpx</th>\n      <td>2</td>\n    </tr>\n    <tr>\n      <th>endomondo_tcx,strava_tcx,wikilocbuddies_gpx</th>\n      <td>2</td>\n    </tr>\n    <tr>\n      <th>oruxmaps_gpx,oziexplorer_gpx,oziexplorer_plt,strava_gpx,strava_gpx,wikiloc_gpx</th>\n      <td>1</td>\n    </tr>\n    <tr>\n      <th>oruxmaps_gpx,oziexplorer_gpx,oziexplorer_plt,strava_gpx,wikiloc_gpx</th>\n      <td>1</td>\n    </tr>\n    <tr>\n      <th>endomondo_tcx,endomondo_tcx,endomondo_tcx</th>\n      <td>1</td>\n    </tr>\n    <tr>\n      <th>wikiloc_gpx,wikiloc_gpx</th>\n      <td>1</td>\n    </tr>\n    <tr>\n      <th>endomondo_tcx,oruxmaps_gpx,strava_tcx,wikiloc_gpx</th>\n      <td>1</td>\n    </tr>\n    <tr>\n      <th>oziexplorer_gpx,oziexplorer_plt,wikiloc_gpx</th>\n      <td>1</td>\n    </tr>\n    <tr>\n      <th>oziexplorer_gpx,oziexplorer_plt</th>\n      <td>1</td>\n    </tr>\n    <tr>\n      <th>garmin_tcx,mytracks_gpx</th>\n      <td>1</td>\n    </tr>\n    <tr>\n      <th>garmin_tcx,mytracks_gpx,strava_tcx</th>\n      <td>1</td>\n    </tr>\n    <tr>\n      <th>oruxmaps_gpx,wikilocbuddies_gpx</th>\n      <td>1</td>\n    </tr>\n    <tr>\n      <th>garmin_tcx,mytracks_gpx,wikiloc_gpx</th>\n      <td>1</td>\n    </tr>\n    <tr>\n      <th>oruxmaps_gpx,strava_gpx,wikilocbuddies_gpx</th>\n      <td>1</td>\n    </tr>\n    <tr>\n      <th>mytracks_gpx,mytracks_kml,wikiloc_gpx</th>\n      <td>1</td>\n    </tr>\n    <tr>\n      <th>mytracks_gpx,wikiloc_gpx</th>\n      <td>1</td>\n    </tr>\n    <tr>\n      <th>mytracks_kml,wikiloc_gpx</th>\n      <td>1</td>\n    </tr>\n    <tr>\n      <th>oruxmaps_gpx,oziexplorer_gpx,strava_gpx,wikiloc_gpx</th>\n      <td>1</td>\n    </tr>\n    <tr>\n      <th>endomondo_gpx,endomondo_gpx,endomondo_gpx</th>\n      <td>1</td>\n    </tr>\n  </tbody>\n</table>\n</div>"
     },
     "metadata": {},
     "execution_count": 53
    }
   ],
   "source": [
    "combinations = date_source.groupby('source_combinations').count().sort_values('date', ascending = False)\n",
    "combinations"
   ]
  },
  {
   "cell_type": "code",
   "execution_count": 54,
   "metadata": {},
   "outputs": [
    {
     "output_type": "execute_result",
     "data": {
      "text/plain": "697"
     },
     "metadata": {},
     "execution_count": 54
    }
   ],
   "source": [
    "combinations.date.sum()"
   ]
  },
  {
   "cell_type": "code",
   "execution_count": 55,
   "metadata": {},
   "outputs": [],
   "source": [
    "date_source.loc[date_source.source_combinations == 'strava_tcx', 'source'] = 'strava_tcx'\n",
    "date_source.loc[date_source.source_combinations == 'wikiloc_gpx', 'source'] = 'wikiloc_gpx'\n",
    "date_source.loc[date_source.source_combinations == 'wikilocbuddies_gpx', 'source'] = 'wikilocbuddies_gpx'\n",
    "date_source.loc[date_source.source_combinations == 'garmin_tcx,strava_tcx', 'source'] = 'strava_tcx'\n",
    "date_source.loc[date_source.source_combinations == 'garmin_tcx', 'source'] = 'garmin_tcx'\n",
    "date_source.loc[date_source.source_combinations == 'mytracks_kml', 'source'] = 'mytracks_kml'\n",
    "date_source.loc[date_source.source_combinations == 'oruxmaps_gpx,strava_gpx', 'source'] = 'strava_gpx'\n",
    "date_source.loc[date_source.source_combinations == 'oruxmaps_gpx,strava_gpx,wikiloc_gpx', 'source'] = 'strava_gpx'\n",
    "date_source.loc[date_source.source_combinations == 'oruxmaps_gpx', 'source'] = 'oruxmaps_gpx'\n",
    "date_source.loc[date_source.source_combinations == 'mytracks_gpx,strava_gpx', 'source'] = 'strava_gpx'\n",
    "date_source.loc[date_source.source_combinations == 'mytracks_gpx,strava_gpx,wikiloc_gpx', 'source'] = 'strava_gpx'\n",
    "date_source.loc[date_source.source_combinations == 'oruxmaps_gpx,wikiloc_gpx', 'source'] = 'wikiloc_gpx'\n",
    "date_source.loc[date_source.source_combinations == 'mytracks_gpx', 'source'] = 'mytracks_gpx'\n",
    "date_source.loc[date_source.source_combinations == 'oruxmaps_kml', 'source'] = 'oruxmaps_kml'\n",
    "date_source.loc[date_source.source_combinations == 'strava_gpx,wikiloc_gpx', 'source'] = 'strava_gpx'\n",
    "date_source.loc[date_source.source_combinations == 'mytracks_kml,wikiloc_gpx', 'source'] = 'wikiloc_gpx'\n",
    "date_source.loc[date_source.source_combinations == 'garmin_tcx,wikiloc_gpx', 'source'] = 'wikiloc_gpx'\n",
    "date_source.loc[date_source.source_combinations == 'oruxmaps_gpx,oziexplorer_gpx,strava_gpx,wikiloc_gpx', 'source'] = 'strava_gpx'\n",
    "date_source.loc[date_source.source_combinations == 'oziexplorer_gpx', 'source'] = 'oziexplorer_gpx'\n",
    "date_source.loc[date_source.source_combinations == 'garmin_tcx,strava_tcx,wikiloc_gpx', 'source'] = 'strava_tcx'\n",
    "date_source.loc[date_source.source_combinations == 'strava_tcx,wikiloc_gpx', 'source'] = 'strava_tcx'\n",
    "date_source.loc[date_source.source_combinations == 'strava_tcx,oruxmaps_gpx,wikiloc_gpx', 'source'] = 'strava_tcx'\n",
    "date_source.loc[date_source.source_combinations == 'mytracks_gpx,wikiloc_gpx', 'source'] = 'wikiloc_gpx'\n",
    "date_source.loc[date_source.source_combinations == 'mytracks_gpx,mytracks_kml,wikiloc_gpx', 'source'] = 'wikiloc_gpx'\n",
    "date_source.loc[date_source.source_combinations == 'oziexplorer_gpx,strava_gpx', 'source'] = 'strava_gpx'\n",
    "date_source.loc[date_source.source_combinations == 'oziexplorer_gpx,strava_gpx,wikiloc_gpx', 'source'] = 'strava_gpx'\n",
    "date_source.loc[date_source.source_combinations == 'oziexplorer_gpx,wikiloc_gpx', 'source'] = 'wikiloc_gpx'\n",
    "date_source.loc[date_source.source_combinations == 'oruxmaps_gpx,oziexplorer_gpx,strava_gpx,strava_gpx,wikiloc_gpx', 'source'] = 'strava_gpx'\n",
    "date_source.loc[date_source.source_combinations == 'wikiloc_gpx,wikiloc_gpx', 'source'] = 'wikiloc_gpx'\n",
    "date_source.loc[date_source.source_combinations == 'garmin_tcx,mytracks_gpx,strava_tcx', 'source'] = 'strava_tcx'\n",
    "date_source.loc[date_source.source_combinations == 'garmin_tcx,mytracks_gpx,wikiloc_gpx', 'source'] = 'wikiloc_gpx'\n",
    "date_source.loc[date_source.source_combinations == 'garmin_tcx,mytracks_gpx', 'source'] = 'garmin_tcx'\n",
    "date_source.loc[date_source.source_combinations == 'garmin_tcx,mytracks_gpx,strava_gpx,wikiloc_gpx', 'source'] = 'strava_gpx'\n",
    "date_source.loc[date_source.source_combinations == 'oruxmaps_gpx,strava_tcx,wikiloc_gpx', 'source'] = 'strava_tcx'\n",
    "date_source.loc[date_source.source_combinations == 'strava_gpx', 'source'] = 'strava_gpx'\n",
    "date_source.loc[date_source.source_combinations == 'mytracks_kml,strava_gpx,wikiloc_gpx', 'source'] = 'strava_gpx'\n",
    "date_source.loc[date_source.source_combinations == 'mytracks_kml,strava_gpx', 'source'] = 'strava_gpx'\n",
    "date_source.loc[date_source.source_combinations == 'mytracks_gpx,strava_gpx,wikiloc_gpx', 'source'] = 'strava_gpx'\n",
    "date_source.loc[date_source.source_combinations == 'wikiloclostrackers_gpx', 'source'] = 'wikiloclostrackers_gpx'\n",
    "date_source.loc[date_source.source_combinations == 'wikiloc_gpx,wikiloclostrackers_gpx', 'source'] = 'wikiloclostrackers_gpx'\n",
    "date_source.loc[date_source.source_combinations == 'oruxmaps_gpx,oziexplorer_gpx,oziexplorer_plt,strava_gpx,wikiloc_gpx', 'source'] = 'strava_gpx'\n",
    "date_source.loc[date_source.source_combinations == 'oziexplorer_gpx,oziexplorer_plt', 'source'] = 'oziexplorer_gpx'\n",
    "date_source.loc[date_source.source_combinations == 'oziexplorer_gpx,oziexplorer_plt,wikiloc_gpx', 'source'] = 'wikiloc_gpx'\n",
    "date_source.loc[date_source.source_combinations == 'oruxmaps_gpx,oziexplorer_gpx,oziexplorer_plt,strava_gpx,strava_gpx,wikiloc_gpx', 'source'] = 'strava_gpx'\n",
    "date_source.loc[date_source.source_combinations == 'oruxmaps_gpx,strava_gpx,wikilocbuddies_gpx', 'source'] = 'strava_gpx'\n",
    "date_source.loc[date_source.source_combinations == 'oruxmaps_gpx,strava_gpx,wikiloc_gpx,wikilocbuddies_gpx', 'source'] = 'strava_gpx'\n",
    "date_source.loc[date_source.source_combinations == 'oruxmaps_gpx,wikilocbuddies_gpx', 'source'] = 'wikilocbuddies_gpx'\n",
    "date_source.loc[date_source.source_combinations == 'strava_tcx,wikilocbuddies_gpx', 'source'] = 'strava_tcx'\n",
    "date_source.loc[date_source.source_combinations == 'endomondo_tcx,strava_tcx', 'source'] = 'strava_tcx'\n",
    "date_source.loc[date_source.source_combinations == 'endomondo_tcx,strava_tcx,wikilocbuddies_gpx', 'source'] = 'strava_tcx'\n",
    "date_source.loc[date_source.source_combinations == 'endomondo_tcx,oruxmaps_gpx,strava_tcx,wikiloc_gpx', 'source'] = 'strava_tcx'\n",
    "date_source.loc[date_source.source_combinations == 'endomondo_tcx,strava_tcx,wikiloc_gpx', 'source'] = 'strava_tcx'\n",
    "date_source.loc[date_source.source_combinations == 'endomondo_tcx,endomondo_tcx', 'source'] = 'endomondo_tcx'\n",
    "date_source.loc[date_source.source_combinations == 'endomondo_tcx', 'source'] = 'endomondo_tcx'\n",
    "date_source.loc[date_source.source_combinations == 'endomondo_tcx,endomondo_tcx,endomondo_tcx', 'source'] = 'endomondo_tcx'\n",
    "date_source.loc[date_source.source_combinations == 'endomondo_gpx,endomondo_gpx,endomondo_gpx', 'source'] = 'endomondo_gpx'"
   ]
  },
  {
   "cell_type": "code",
   "execution_count": 56,
   "metadata": {},
   "outputs": [
    {
     "output_type": "execute_result",
     "data": {
      "text/plain": "True"
     },
     "metadata": {},
     "execution_count": 56
    }
   ],
   "source": [
    "date_source[date_source.source.isna()].shape[0] == 0\n",
    "#date_source[date_source.source.isna()].source_combinations.unique()"
   ]
  },
  {
   "cell_type": "code",
   "execution_count": 57,
   "metadata": {},
   "outputs": [],
   "source": [
    "date_source = date_source[['date','source']]\n",
    "date_source['delete'] = False"
   ]
  },
  {
   "cell_type": "code",
   "execution_count": 58,
   "metadata": {},
   "outputs": [],
   "source": [
    "df = df.merge(date_source, on = ['date','source'], how = 'left')"
   ]
  },
  {
   "cell_type": "code",
   "execution_count": 59,
   "metadata": {},
   "outputs": [],
   "source": [
    "df.loc[df.delete.isna(),'delete'] = True"
   ]
  },
  {
   "cell_type": "code",
   "execution_count": 60,
   "metadata": {},
   "outputs": [
    {
     "output_type": "execute_result",
     "data": {
      "text/plain": "(705, 7)"
     },
     "metadata": {},
     "execution_count": 60
    }
   ],
   "source": [
    "df[df.delete == False].shape"
   ]
  },
  {
   "cell_type": "code",
   "execution_count": 61,
   "metadata": {},
   "outputs": [],
   "source": [
    "files_to_delete = list(df[df.delete == True]['file_name'])"
   ]
  },
  {
   "cell_type": "code",
   "execution_count": 62,
   "metadata": {
    "tags": [
     "outputPrepend",
     "outputPrepend"
    ]
   },
   "outputs": [
    {
     "output_type": "stream",
     "name": "stdout",
     "text": ".tcx\n20141019_082256_running_endomondo_tcx.tcx\n20141023_155200_running_endomondo_tcx.tcx\n20141026_070344_undefined_endomondo_tcx.tcx\n20150111_083337_undefined_endomondo_tcx.tcx\n20150117_082037_undefined_endomondo_tcx.tcx\n20150215_084156_undefined_endomondo_tcx.tcx\n20150218_105344_biking_endomondo_tcx.tcx\n20150222_170441_running_endomondo_tcx.tcx\n20150301_091321_undefined_endomondo_tcx.tcx\n20150307_100329_undefined_endomondo_tcx.tcx\n20140923_170206_running_endomondo_tcx.tcx\n20160630_173353_running_endomondo_tcx.tcx\n20140918_174410_running_endomondo_tcx.tcx\n20140525_171928_running_endomondo_tcx.tcx\n20131116_181932_running_endomondo_tcx.tcx\n20131119_185001_running_endomondo_tcx.tcx\n20131121_163328_running_endomondo_tcx.tcx\n20131123_102933_running_endomondo_tcx.tcx\n20131125_190031_running_endomondo_tcx.tcx\n20131127_183622_running_endomondo_tcx.tcx\n20131130_103429_running_endomondo_tcx.tcx\n20131202_185556_running_endomondo_tcx.tcx\n20131204_185215_running_endomondo_tcx.tcx\n20131207_093625_running_endomondo_tcx.tcx\n20131215_080107_running_endomondo_tcx.tcx\n20131217_182506_running_endomondo_tcx.tcx\n20131219_181045_running_endomondo_tcx.tcx\n20131226_091621_running_endomondo_tcx.tcx\n20140109_183114_running_endomondo_tcx.tcx\n20140112_101159_running_endomondo_tcx.tcx\n20140601_092438_undefined_endomondo_tcx.tcx\n20160702_183013_running_endomondo_tcx.tcx\n20160704_052714_running_endomondo_tcx.tcx\n20160709_073355_undefined_endomondo_tcx.tcx\n20180225_094049_running_endomondo_tcx.tcx\n20180227_191909_running_endomondo_tcx.tcx\n20180301_193637_running_endomondo_tcx.tcx\n20180304_090526_running_endomondo_tcx.tcx\n20180406_173524_running_endomondo_tcx.tcx\n20180410_180653_running_endomondo_tcx.tcx\n20180418_101451_running_endomondo_tcx.tcx\n20180421_110013_running_endomondo_tcx.tcx\n20180424_173232_running_endomondo_tcx.tcx\n20180426_183000_running_endomondo_tcx.tcx\n20180429_075944_running_endomondo_tcx.tcx\n20180508_060604_running_endomondo_tcx.tcx\n20180520_105406_running_endomondo_tcx.tcx\n20180521_104008_running_endomondo_tcx.tcx\n20180524_175302_running_endomondo_tcx.tcx\n20180530_180040_running_endomondo_tcx.tcx\n20180601_152233_undefined_endomondo_tcx.tcx\n20180222_191226_undefined_endomondo_tcx.tcx\n20180603_073439_undefined_endomondo_tcx.tcx\n20180211_074933_running_endomondo_tcx.tcx\n20180203_112250_running_endomondo_tcx.tcx\n20171025_173030_undefined_endomondo_tcx.tcx\n20171028_081507_undefined_endomondo_tcx.tcx\n20171101_180317_running_endomondo_tcx.tcx\n20171104_094203_undefined_endomondo_tcx.tcx\n20171109_192202_running_endomondo_tcx.tcx\n20171115_192236_running_endomondo_tcx.tcx\n20171119_073457_undefined_endomondo_tcx.tcx\n20171202_101023_undefined_endomondo_tcx.tcx\n20171219_191823_running_endomondo_tcx.tcx\n20171223_115241_running_endomondo_tcx.tcx\n20171228_113231_running_endomondo_tcx.tcx\n20171231_162934_running_endomondo_tcx.tcx\n20180106_102741_running_endomondo_tcx.tcx\n20180114_112842_running_endomondo_tcx.tcx\n20180121_090223_running_endomondo_tcx.tcx\n20180128_070506_undefined_endomondo_tcx.tcx\n20180131_192444_running_endomondo_tcx.tcx\n20180207_192601_running_endomondo_tcx.tcx\n20171008_102256_running_endomondo_tcx.tcx\n20180606_174435_running_endomondo_tcx.tcx\n20180610_091643_undefined_endomondo_tcx.tcx\n20180915_072039_undefined_endomondo_tcx.tcx\n20180928_164739_running_endomondo_tcx.tcx\n20181010_171532_running_endomondo_tcx.tcx\n20181015_181629_running_endomondo_tcx.tcx\n20181021_073009_running_endomondo_tcx.tcx\n20181025_180928_running_endomondo_tcx.tcx\n20181102_090218_undefined_endomondo_tcx.tcx\n20181124_160123_running_endomondo_tcx.tcx\n20181217_160510_running_endomondo_tcx.tcx\n20181220_115250_running_endomondo_tcx.tcx\n20181222_090520_undefined_endomondo_tcx.tcx\n20181224_160054_running_endomondo_tcx.tcx\n20190113_121232_running_endomondo_tcx.tcx\n20190216_112208_undefined_endomondo_tcx.tcx\n20190327_185213_running_endomondo_tcx.tcx\n20190814_173355_running_endomondo_tcx.tcx\n20180830_182648_running_endomondo_tcx.tcx\n20180608_174658_running_endomondo_tcx.tcx\n20180826_181220_running_endomondo_tcx.tcx\n20180818_173315_running_endomondo_tcx.tcx\n20180612_175730_running_endomondo_tcx.tcx\n20180615_143229_running_endomondo_tcx.tcx\n20180616_092907_undefined_endomondo_tcx.tcx\n20180623_082223_running_endomondo_tcx.tcx\n20180626_054922_running_endomondo_tcx.tcx\n20180629_172714_running_endomondo_tcx.tcx\n20180702_180223_running_endomondo_tcx.tcx\n20180704_180456_running_endomondo_tcx.tcx\n20180707_091952_undefined_endomondo_tcx.tcx\n20180709_160720_running_endomondo_tcx.tcx\n20180711_180314_running_endomondo_tcx.tcx\n20180714_184231_running_endomondo_tcx.tcx\n20180721_180858_running_endomondo_tcx.tcx\n20180723_180705_running_endomondo_tcx.tcx\n20180726_182613_running_endomondo_tcx.tcx\n20180728_181737_running_endomondo_tcx.tcx\n20180817_071636_undefined_endomondo_tcx.tcx\n20180824_175342_running_endomondo_tcx.tcx\n20130822_172028_running_endomondo_tcx.tcx\n20171006_174057_running_endomondo_tcx.tcx\n20170922_060411_running_endomondo_tcx.tcx\n20170302_184725_running_endomondo_tcx.tcx\n20170305_095749_undefined_endomondo_tcx.tcx\n20170318_105100_undefined_endomondo_tcx.tcx\n20170409_120655_running_endomondo_tcx.tcx\n20170422_075903_undefined_endomondo_tcx.tcx\n20170430_072743_running_endomondo_tcx.tcx\n20170504_173907_running_endomondo_tcx.tcx\n20170506_080106_undefined_endomondo_tcx.tcx\n20170507_115338_running_endomondo_tcx.tcx\n20170511_164115_running_endomondo_tcx.tcx\n20170514_082848_running_endomondo_tcx.tcx\n20170521_095605_running_endomondo_tcx.tcx\n20170523_173238_running_endomondo_tcx.tcx\n20170526_055841_running_endomondo_tcx.tcx\n20170528_063155_running_endomondo_tcx.tcx\n20170602_134911_running_endomondo_tcx.tcx\n20170603_073105_undefined_endomondo_tcx.tcx\n20170226_134615_running_endomondo_tcx.tcx\n20170606_175810_running_endomondo_tcx.tcx\n20170225_103158_undefined_endomondo_tcx.tcx\n20161231_164615_running_endomondo_tcx.tcx\n20160711_174844_running_endomondo_tcx.tcx\n20160716_071633_undefined_endomondo_tcx.tcx\n20160730_060824_undefined_endomondo_tcx.tcx\n20160821_182259_running_endomondo_tcx.tcx\n20160827_163541_running_endomondo_tcx.tcx\n20160905_175253_running_endomondo_tcx.tcx\n20160911_070231_running_endomondo_tcx.tcx\n20160921_174842_running_endomondo_tcx.tcx\n20160925_073124_running_endomondo_tcx.tcx\n20161003_171904_running_endomondo_tcx.tcx\n20161101_114328_undefined_endomondo_tcx.tcx\n20161113_094238_undefined_endomondo_tcx.tcx\n20161124_190115_running_endomondo_tcx.tcx\n20161208_081120_undefined_endomondo_tcx.tcx\n20161218_084306_undefined_endomondo_tcx.tcx\n20161226_104245_running_endomondo_tcx.tcx\n20161229_112020_running_endomondo_tcx.tcx\n20170219_104447_undefined_endomondo_tcx.tcx\n20171003_060944_running_endomondo_tcx.tcx\n20170609_054121_running_endomondo_tcx.tcx\n20170613_171856_running_endomondo_tcx.tcx\n20170810_183533_running_endomondo_tcx.tcx\n20170812_100732_running_endomondo_tcx.tcx\n20170812_135119_running_endomondo_tcx.tcx\n20170815_073533_running_endomondo_tcx.tcx\n20170817_182800_running_endomondo_tcx.tcx\n20170818_180126_running_endomondo_tcx.tcx\n20170820_111921_running_endomondo_tcx.tcx\n20170821_184218_running_endomondo_tcx.tcx\n20170827_173219_running_endomondo_tcx.tcx\n20170829_175921_running_endomondo_tcx.tcx\n20170831_181354_running_endomondo_tcx.tcx\n20170902_163458_running_endomondo_tcx.tcx\n20170909_062308_undefined_endomondo_tcx.tcx\n20170911_105503_biking_endomondo_tcx.tcx\n20170916_071411_undefined_endomondo_tcx.tcx\n20170921_061048_running_endomondo_tcx.tcx\n20170809_080237_undefined_endomondo_tcx.tcx\n20170610_084412_undefined_endomondo_tcx.tcx\n20170807_081146_running_endomondo_tcx.tcx\n20170802_174656_running_endomondo_tcx.tcx\n20170617_082631_undefined_endomondo_tcx.tcx\n20170618_063329_running_endomondo_tcx.tcx\n20170627_054556_running_endomondo_tcx.tcx\n20170629_054055_running_endomondo_tcx.tcx\n20170701_181243_running_endomondo_tcx.tcx\n20170703_175853_running_endomondo_tcx.tcx\n20170706_181920_running_endomondo_tcx.tcx\n20170711_174330_running_endomondo_tcx.tcx\n20170714_145530_undefined_endomondo_tcx.tcx\n20170716_070055_running_endomondo_tcx.tcx\n20170719_054733_running_endomondo_tcx.tcx\n20170721_180037_running_endomondo_tcx.tcx\n20170724_055211_running_endomondo_tcx.tcx\n20170728_153238_undefined_endomondo_tcx.tcx\n20170729_180312_running_endomondo_tcx.tcx\n20170804_161728_running_endomondo_tcx.tcx\n20130820_180817_running_endomondo_tcx.tcx\n20110122_085705_biking_garmin_tcx.tcx\n20100930_072932_biking_garmin_tcx.tcx\n20100925_083027_biking_garmin_tcx.tcx\n20100922_170454_biking_garmin_tcx.tcx\n20100922_070219_biking_garmin_tcx.tcx\n20100916_171211_biking_garmin_tcx.tcx\n20100916_081031_biking_garmin_tcx.tcx\n20100904_103342_biking_garmin_tcx.tcx\n20100902_155843_biking_garmin_tcx.tcx\n20100930_164722_biking_garmin_tcx.tcx\n20100902_092743_biking_garmin_tcx.tcx\n20100728_060633_biking_garmin_tcx.tcx\n20100726_162034_biking_garmin_tcx.tcx\n20100726_055355_biking_garmin_tcx.tcx\n20100613_070901_biking_garmin_tcx.tcx\n20100531_161706_biking_garmin_tcx.tcx\n20100531_060110_biking_garmin_tcx.tcx\n20100515_172915_biking_garmin_tcx.tcx\n20100515_160217_biking_garmin_tcx.tcx\n20100424_071948_biking_garmin_tcx.tcx\n20100728_163301_biking_garmin_tcx.tcx\n20101002_082052_biking_garmin_tcx.tcx\n20101003_060036_biking_garmin_tcx.tcx\n20101006_070237_biking_garmin_tcx.tcx\n20110723_062011_biking_garmin_tcx.tcx\n20110611_073334_biking_garmin_tcx.tcx\n20110507_052439_biking_garmin_tcx.tcx\n20110501_090523_biking_garmin_tcx.tcx\n20110402_092259_biking_garmin_tcx.tcx\n20110319_080208_biking_garmin_tcx.tcx\n20110212_091449_biking_garmin_tcx.tcx\n20110115_122818_biking_garmin_tcx.tcx\n20101218_075705_biking_garmin_tcx.tcx\n20101214_192332_running_garmin_tcx.tcx\n20101211_080730_biking_garmin_tcx.tcx\n20101014_062209_biking_garmin_tcx.tcx\n20101008_155330_biking_garmin_tcx.tcx\n20101008_072312_biking_garmin_tcx.tcx\n20101006_161808_biking_garmin_tcx.tcx\n20100410_074117_biking_garmin_tcx.tcx\n20100404_101931_biking_garmin_tcx.tcx\n20100914_170413_biking_garmin_tcx.tcx\n20100330_080229_biking_garmin_tcx.tcx\n20091004_120154_biking_garmin_tcx.tcx\n20090927_082238_biking_garmin_tcx.tcx\n20090919_102802_biking_garmin_tcx.tcx\n20090911_102506_biking_garmin_tcx.tcx\n20090822_110029_biking_garmin_tcx.tcx\n20100403_102851_biking_garmin_tcx.tcx\n20090807_073520_biking_garmin_tcx.tcx\n20090607_061807_biking_garmin_tcx.tcx\n20090516_064517_biking_garmin_tcx.tcx\n20090502_071131_biking_garmin_tcx.tcx\n20090405_150044_biking_garmin_tcx.tcx\n20090405_135738_biking_garmin_tcx.tcx\n20090326_084006_biking_garmin_tcx.tcx\n20091012_101902_biking_garmin_tcx.tcx\n20091017_152448_biking_garmin_tcx.tcx\n20091025_081618_biking_garmin_tcx.tcx\n20100328_074527_biking_garmin_tcx.tcx\n20100313_085338_biking_garmin_tcx.tcx\n20100307_112118_biking_garmin_tcx.tcx\n20100214_083134_biking_garmin_tcx.tcx\n20091024_072844_biking_garmin_tcx.tcx\n20100205_105213_biking_garmin_tcx.tcx\n20100130_085753_biking_garmin_tcx.tcx\n20100110_074218_biking_garmin_tcx.tcx\n20091025_104713_biking_garmin_tcx.tcx\n20091121_072738_biking_garmin_tcx.tcx\n20091220_095756_biking_garmin_tcx.tcx\n20110405_162835_undefined_mytracks_gpx.gpx\n20110417_111325_undefined_mytracks_gpx.gpx\n20110420_075455_undefined_mytracks_gpx.gpx\n20101218_075806_undefined_mytracks_gpx.gpx\n20110430_100211_undefined_mytracks_gpx.gpx\n20110501_090328_undefined_mytracks_gpx.gpx\n20110405_073917_undefined_mytracks_gpx.gpx\n20110421_070443_undefined_mytracks_gpx.gpx\n20130802_145208_undefined_mytracks_gpx.gpx\n20110320_104606_undefined_mytracks_gpx.gpx\n20110402_090151_undefined_mytracks_gpx.gpx\n20100820_093144_undefined_mytracks_gpx.gpx\n20100810_084643_undefined_mytracks_gpx.gpx\n20110122_085652_undefined_mytracks_gpx.gpx\n20101211_080857_undefined_mytracks_gpx.gpx\n20110214_182909_undefined_mytracks_gpx.gpx\n20100803_090835_undefined_mytracks_gpx.gpx\n20110220_090335_undefined_mytracks_gpx.gpx\n20110227_113301_undefined_mytracks_gpx.gpx\n20110313_112633_undefined_mytracks_gpx.gpx\n20140115_192312_running_mytracks_kml.gpx\n20130803_161707_undefined_mytracks_kml.gpx\n20130812_181641_running_mytracks_kml.gpx\n20130814_173219_running_mytracks_kml.gpx\n20130816_180021_running_mytracks_kml.gpx\n20130818_183813_running_mytracks_kml.gpx\n20140117_181320_running_mytracks_kml.gpx\n20140304_180022_hiking_mytracks_kml.gpx\n20140130_185104_running_mytracks_kml.gpx\n20140203_184139_running_mytracks_kml.gpx\n20140207_175614_hiking_mytracks_kml.gpx\n20140209_180628_hiking_mytracks_kml.gpx\n20140301_101656_hiking_mytracks_kml.gpx\n20140315_084554_running_mytracks_kml.gpx\n20140126_090025_running_mytracks_kml.gpx\n20130802_145208_undefined_mytracks_kml.gpx\n20130513_174345_running_mytracks_kml.gpx\n20130604_170950_running_mytracks_kml.gpx\n20130628_172259_running_mytracks_kml.gpx\n20130722_090252_undefined_mytracks_kml.gpx\n20130530_172356_running_mytracks_kml.gpx\n20130606_175817_running_mytracks_kml.gpx\n20130610_161931_running_mytracks_kml.gpx\n20130612_174235_running_mytracks_kml.gpx\n20130620_175427_running_mytracks_kml.gpx\n20130526_181024_running_mytracks_kml.gpx\n20130613_165340_running_mytracks_kml.gpx\n20130523_173418_running_mytracks_kml.gpx\n20130624_184358_running_mytracks_kml.gpx\n20130618_185954_running_mytracks_kml.gpx\n20130616_185128_running_mytracks_kml.gpx\n20130626_183247_running_mytracks_kml.gpx\n20130630_080523_hiking_mytracks_kml.gpx\n20130331_093008_hiking_mytracks_kml.gpx\n20130521_171346_running_mytracks_kml.gpx\n20130722_130640_undefined_mytracks_kml.gpx\n20130731_181634_undefined_mytracks_kml.gpx\n20130502_153934_running_mytracks_kml.gpx\n20130330_170226_hiking_mytracks_kml.gpx\n20120805_092547_undefined_oruxmaps_gpx.gpx\n20120728_084514_undefined_oruxmaps_gpx.gpx\n20120208_085947_undefined_oruxmaps_gpx.gpx\n20111210_111307_undefined_oruxmaps_gpx.gpx\n20120721_073922_undefined_oruxmaps_gpx.gpx\n20120209_080852_undefined_oruxmaps_gpx.gpx\n20140601_092438_undefined_oruxmaps_gpx.gpx\n20120701_063004_undefined_oruxmaps_gpx.gpx\n20120209_174943_undefined_oruxmaps_gpx.gpx\n20120407_093504_undefined_oruxmaps_gpx.gpx\n20120406_095006_undefined_oruxmaps_gpx.gpx\n20120213_083330_undefined_oruxmaps_gpx.gpx\n20120329_154325_undefined_oruxmaps_gpx.gpx\n20140614_075857_undefined_oruxmaps_gpx.gpx\n20120207_174929_undefined_oruxmaps_gpx.gpx\n20120807_094020_undefined_oruxmaps_gpx.gpx\n20120811_050855_undefined_oruxmaps_gpx.gpx\n20120126_075158_undefined_oruxmaps_gpx.gpx\n20120126_180313_undefined_oruxmaps_gpx.gpx\n20121124_083805_undefined_oruxmaps_gpx.gpx\n20121222_094700_undefined_oruxmaps_gpx.gpx\n20121110_083822_undefined_oruxmaps_gpx.gpx\n20121007_053028_undefined_oruxmaps_gpx.gpx\n20120129_081903_undefined_oruxmaps_gpx.gpx\n20120915_071338_undefined_oruxmaps_gpx.gpx\n20120908_081024_undefined_oruxmaps_gpx.gpx\n20120115_094951_undefined_oruxmaps_gpx.gpx\n20130310_090510_undefined_oruxmaps_gpx.gpx\n20120129_125848_undefined_oruxmaps_gpx.gpx\n20120201_082015_undefined_oruxmaps_gpx.gpx\n20120329_060507_undefined_oruxmaps_gpx.gpx\n20120819_045021_undefined_oruxmaps_gpx.gpx\n20120201_172200_undefined_oruxmaps_gpx.gpx\n20120205_085812_undefined_oruxmaps_gpx.gpx\n20120207_081408_undefined_oruxmaps_gpx.gpx\n20131102_103635_undefined_oruxmaps_gpx.gpx\n20120213_183410_undefined_oruxmaps_gpx.gpx\n20120302_173539_undefined_oruxmaps_gpx.gpx\n20120327_165913_undefined_oruxmaps_gpx.gpx\n20140906_083808_undefined_oruxmaps_gpx.gpx\n20120228_085026_undefined_oruxmaps_gpx.gpx\n20140921_064417_undefined_oruxmaps_gpx.gpx\n20120229_082837_undefined_oruxmaps_gpx.gpx\n20120229_183531_undefined_oruxmaps_gpx.gpx\n20111029_091711_undefined_oruxmaps_gpx.gpx\n20110514_061858_undefined_oruxmaps_gpx.gpx\n20110515_103946_undefined_oruxmaps_gpx.gpx\n20120301_172954_undefined_oruxmaps_gpx.gpx\n20111016_093632_undefined_oruxmaps_gpx.gpx\n20120302_091020_undefined_oruxmaps_gpx.gpx\n20110710_073711_undefined_oruxmaps_gpx.gpx\n20110917_182007_undefined_oruxmaps_gpx.gpx\n20110716_091654_undefined_oruxmaps_gpx.gpx\n20110721_184708_undefined_oruxmaps_gpx.gpx\n20120301_100026_undefined_oruxmaps_gpx.gpx\n20140810_075433_undefined_oruxmaps_gpx.gpx\n20120228_184604_undefined_oruxmaps_gpx.gpx\n20120320_085246_undefined_oruxmaps_gpx.gpx\n20140622_094538_undefined_oruxmaps_gpx.gpx\n20120218_084114_undefined_oruxmaps_gpx.gpx\n20120216_080850_undefined_oruxmaps_gpx.gpx\n20120317_091517_undefined_oruxmaps_gpx.gpx\n20120320_174354_undefined_oruxmaps_gpx.gpx\n20120311_093948_undefined_oruxmaps_gpx.gpx\n20120321_074914_undefined_oruxmaps_gpx.gpx\n20120216_180855_undefined_oruxmaps_gpx.gpx\n20120215_142543_undefined_oruxmaps_gpx.gpx\n20120325_070646_undefined_oruxmaps_gpx.gpx\n20140621_082506_undefined_oruxmaps_gpx.gpx\n20120327_075240_undefined_oruxmaps_gpx.gpx\n20120304_073942_undefined_oruxmaps_gpx.gpx\n20120215_083455_undefined_oruxmaps_gpx.gpx\n20140623_091107_undefined_oruxmaps_gpx.gpx\n20120908_081000_undefined_oziexplorer_gpx.gpx\n20120814_164745_undefined_oziexplorer_gpx.gpx\n20120811_050855_undefined_oziexplorer_gpx.gpx\n20120819_045021_undefined_oziexplorer_gpx.gpx\n20120811_050855_hiking_oziexplorer_plt.gpx\n20120814_164745_rowing_oziexplorer_plt.gpx\n20120812_154831_hiking_oziexplorer_plt.gpx\n20120908_081000_hiking_oziexplorer_plt.gpx\n20110515_103946_hiking_wikiloc_gpx.gpx\n20110507_052440_hiking_wikiloc_gpx.gpx\n20110716_091654_hiking_wikiloc_gpx.gpx\n20130803_161707_hiking_wikiloc_gpx.gpx\n20150810_081837_hiking_wikiloc_gpx.gpx\n20090502_071145_biking_wikiloc_gpx.gpx\n20090326_084006_biking_wikiloc_gpx.gpx\n20120819_045021_hiking_wikiloc_gpx.gpx\n20130731_181634_hiking_wikiloc_gpx.gpx\n20190628_202506_running_wikiloc_gpx.gpx\n20190703_201717_running_wikiloc_gpx.gpx\n20190712_201309_running_wikiloc_gpx.gpx\n20190718_195645_running_wikiloc_gpx.gpx\n20190724_200031_running_wikiloc_gpx.gpx\n20120304_073942_biking_wikiloc_gpx.gpx\n20100810_084643_hiking_wikiloc_gpx.gpx\n20110710_073711_hiking_wikiloc_gpx.gpx\n20190620_191328_running_wikiloc_gpx.gpx\n20190517_174355_running_wikiloc_gpx.gpx\n20111016_093632_hiking_wikiloc_gpx.gpx\n20120908_081000_hiking_wikiloc_gpx.gpx\n20190530_185506_running_wikiloc_gpx.gpx\n20190607_165817_running_wikiloc_gpx.gpx\n20140921_064417_hiking_wikiloc_gpx.gpx\n20120728_084514_hiking_wikiloc_gpx.gpx\n20110430_100211_biking_wikiloc_gpx.gpx\n20101002_082053_biking_wikiloc_gpx.gpx\n20120407_093504_hiking_wikiloc_gpx.gpx\n20200201_091400_biking_wikiloc_gpx.gpx\n20180324_085123_motorcycling_wikiloc_gpx.gpx\n20120807_094020_hiking_wikiloc_gpx.gpx\n20091025_104713_hiking_wikiloc_gpx.gpx\n20091017_152449_hiking_wikiloc_gpx.gpx\n20120406_095006_hiking_wikiloc_gpx.gpx\n20101218_075806_biking_wikiloc_gpx.gpx\n20100307_112438_hiking_wikiloc_gpx.gpx\n20101008_155331_biking_wikiloc_gpx.gpx\n20121124_083805_biking_wikiloc_gpx.gpx\n20100110_074219_hiking_wikiloc_gpx.gpx\n20200111_101836_biking_wikiloc_gpx.gpx\n20141026_070344_hiking_wikiloc_gpx.gpx\n20120721_073922_hiking_wikiloc_gpx.gpx\n20110721_184708_running_wikiloc_gpx.gpx\n20200125_103326_hiking_wikiloc_gpx.gpx\n20101211_080739_biking_wikiloc_gpx.gpx\n20120701_063004_biking_wikiloc_gpx.gpx\n20121222_094700_biking_wikiloc_gpx.gpx\n20121110_083353_biking_wikiloc_gpx.gpx\n20131102_103635_hiking_wikiloc_gpx.gpx\n20191030_120453_hiking_wikiloc_gpx.gpx\n20120325_070646_biking_wikiloc_gpx.gpx\n20110417_111325_hiking_wikiloc_gpx.gpx\n20120320_174354_biking_wikiloc_gpx.gpx\n20110420_075455_biking_wikiloc_gpx.gpx\n20140906_083808_hiking_wikiloc_gpx.gpx\n20120915_071338_biking_wikiloc_gpx.gpx\n20090516_064527_biking_wikiloc_gpx.gpx\n20140614_075857_hiking_wikiloc_gpx.gpx\n20110220_090335_hiking_wikiloc_gpx.gpx\n20110227_113301_biking_wikiloc_gpx.gpx\n20091004_120155_hiking_wikiloc_gpx.gpx\n20120129_081903_biking_wikiloc_gpx.gpx\n20120115_094951_biking_wikiloc_gpx.gpx\n20090927_082239_hiking_wikiloc_gpx.gpx\n20121007_053028_running_wikiloc_gpx.gpx\n20120811_050855_hiking_wikiloc_gpx.gpx\n20090919_102804_hiking_wikiloc_gpx.gpx\n20110917_182007_hiking_wikiloc_gpx.gpx\n20110402_090151_biking_wikiloc_gpx.gpx\n20140601_092438_hiking_wikiloc_gpx.gpx\n20111210_111307_hiking_wikiloc_gpx.gpx\n20190817_122155_running_wikiloc_gpx.gpx\n20120701_064747_biking_wikilocbuddies_gpx.gpx\n20131204_185215_running_wikilocbuddies_gpx.gpx\n20170909_062308_biking_wikilocbuddies_gpx.gpx\n20120915_071320_biking_wikilocbuddies_gpx.gpx\n20120218_084114_biking_wikilocbuddies_gpx.gpx\n"
    }
   ],
   "source": [
    "for l in files_to_delete:\n",
    "    print(l)\n",
    "    os.remove(folder_path_in + l)"
   ]
  },
  {
   "cell_type": "code",
   "execution_count": null,
   "metadata": {
    "tags": [
     "outputPrepend",
     "outputPrepend",
     "outputPrepend",
     "outputPrepend",
     "outputPrepend",
     "outputPrepend",
     "outputPrepend",
     "outputPrepend",
     "outputPrepend",
     "outputPrepend",
     "outputPrepend",
     "outputPrepend"
    ]
   },
   "outputs": [],
   "source": [
    "for l in files_to_delete:\n",
    "\n",
    "    print(l)\n",
    "    \n",
    "    doc = open(folder_path_in + '/' + l, \"r\").read()\n",
    "\n",
    "    old_name = l.split('.')[0]\n",
    "    new_name = l.split('.')[0] + '_DELETE'\n",
    "\n",
    "    if('endomondo_gpx' in l): doc = doc.replace('<trk>    <name>' + old_name + '</name>', '<trk>    <name>' + new_name + '</name>')\n",
    "    elif('endomondo_tcx' in l): doc = doc.replace('<Id>' + old_name + '</Id>', '<Id>' + new_name + '</Id>')\n",
    "    elif('garmin_tcx' in l): doc = doc.replace('<Id>' + old_name + '</Id>', '<Id>' + new_name + '</Id>')\n",
    "    elif('mytracks_gpx' in l): doc = doc.replace('<trk>\\n<name>' + old_name + '</name>', '<trk>\\n<name>' + new_name + '</name>')\n",
    "    elif('mytracks_kml' in l): doc = doc.replace('<trk>\\n    <name>' + old_name + '</name>', '<trk>\\n    <name>' + new_name + '</name>')\n",
    "    elif('oruxmaps_gpx' in l): doc = doc.replace('<trk>\\n<name>' + old_name + '</name>', '<trk>\\n<name>' + new_name + '</name>')\n",
    "    elif('oruxmaps_kml' in l): doc = doc.replace('<trk>\\n    <name>' + old_name + '</name>', '<trk>\\n    <name>' + new_name + '</name>')\n",
    "    elif('oziexplorer_gpx' in l): doc = doc.replace('<trk>\\n <name>' + old_name + '</name>', '<trk>\\n <name>' + new_name + '</name>')\n",
    "    elif('oziexplorer_plt' in l): doc = doc.replace('<trk>\\n    <name>' + old_name + '</name>', '<trk>\\n    <name>' + new_name + '</name>')\n",
    "    elif('strava_gpx' in l):\n",
    "        if('StravaGPX' in doc): doc = doc.replace('<name>' + old_name + '</name>', '<name>' + new_name + '</name>')\n",
    "        elif('Wikiloc' in doc): doc = doc.replace('<trk>\\n    <name>' + old_name + '</name>', '<trk>\\n    <name>' + new_name + '</name>')\n",
    "        elif('My Tracks' in doc): doc = doc.replace('<trk>\\n<name>' + old_name + '</name>', '<trk>\\n<name>' + new_name + '</name>')\n",
    "        elif('<text>OruxMaps</text>' in doc): doc = doc.replace('<trk>\\n<name>' + old_name + '</name>', '<trk>\\n<name>' + new_name + '</name>')\n",
    "        elif('OziExplorer' in doc): doc = doc.replace('<trk>\\n <name>' + old_name + '</name>', '<trk>\\n <name>' + new_name + '</name>')\n",
    "        elif('GpsiesTrack' in doc): doc = doc.replace('<trk>\\n    <name>' + old_name + '</name>', '<trk>\\n    <name>' + new_name + '</name>')\n",
    "        elif('GPSBabel' in doc): doc = doc.replace('<trk>\\n    <name>' + old_name + '</name>', '<trk>\\n    <name>' + new_name + '</name>')\n",
    "        else: print('Error')\n",
    "    elif('strava_tcx' in l):\n",
    "        if('</Id>\\n' in doc): doc = doc.replace('<Id>' + old_name + '</Id>', '<Id>' + new_name + '</Id>')\n",
    "        else: doc = doc.replace('<Id>' + old_name + '</Id>', '<Id>' + new_name + '</Id>')\n",
    "    elif('wikiloc_gpx' in l): doc = doc.replace('<trk>\\n    <name>' + old_name + '</name>', '<trk>\\n    <name>' + new_name + '</name>')\n",
    "    elif('wikilocbuddies_gpx' in l): doc = doc.replace('<trk><name>' + old_name + '</name>', '<trk>\\n    <name>' + new_name + '</name>')\n",
    "    elif('wikiloclostrackers_gpx' in l): doc = doc.replace('<trk>\\n    <name>' + old_name + '</name>', '<trk>\\n    <name>' + new_name + '</name>')\n",
    "    else: print('Error')\n",
    "\n",
    "    text_file = open(folder_path_out + l, \"w\")\n",
    "    text_file.write(doc)\n",
    "    text_file.close()\n",
    "\n",
    "    os.rename(folder_path_in + l, folder_path_in + new_name + '.' + l.split('.')[1])"
   ]
  },
  {
   "cell_type": "code",
   "execution_count": null,
   "metadata": {},
   "outputs": [],
   "source": [
    "df_tracks = df_.copy()\n",
    "df_tracks = df_tracks.rename(columns={0: \"day\", 1: \"time\", 2: \"activity\", 3: \"source\", 4: \"file_type\"})\n",
    "df_tracks['date_time'] = pd.to_datetime(df_tracks.day + ' ' + df_tracks.time, format = '%Y%m%d %H%M%S')\n",
    "df_tracks['name'] = df_tracks.day + '_' + df_tracks.time + '_' + df_tracks.activity + '_' +\tdf_tracks.source + '_' + df_tracks.file_type\n",
    "df_merge = df_tracks.merge(df_tracks, on = 'day')\n",
    "df_merge['delta_time'] = abs((df_merge.date_time_x - df_merge.date_time_y).astype('timedelta64[s]')/3600)\n",
    "#df_merge['delta_time_hours'] = abs((df_merge.date_time_x - df_merge.date_time_y).astype('timedelta64[h]'))"
   ]
  },
  {
   "cell_type": "code",
   "execution_count": null,
   "metadata": {},
   "outputs": [],
   "source": [
    "df_merge"
   ]
  },
  {
   "cell_type": "code",
   "execution_count": null,
   "metadata": {},
   "outputs": [],
   "source": [
    "checklist = []\n",
    "indexes_to_drop = []\n",
    "\n",
    "for index, row in df_merge.iterrows():\n",
    "    check_string = row['name_x'] + row['name_y']\n",
    "    check_string_rev = row['name_y'] + row['name_x']\n",
    "    if (check_string or check_string_rev) in checklist:\n",
    "        indexes_to_drop.append(index)\n",
    "    else:\n",
    "        pass\n",
    "    checklist.append(check_string)\n",
    "    checklist.append(check_string_rev)\n",
    "\n",
    "df_merge = df_merge.drop(df_merge.index[indexes_to_drop])"
   ]
  },
  {
   "cell_type": "code",
   "execution_count": null,
   "metadata": {},
   "outputs": [],
   "source": [
    "df_merge[df_merge.delta_time != 0].hist(column='delta_time', bins = 100)"
   ]
  },
  {
   "cell_type": "code",
   "execution_count": null,
   "metadata": {},
   "outputs": [],
   "source": [
    "df_merge[df_merge.delta_time < 3]"
   ]
  },
  {
   "cell_type": "code",
   "execution_count": null,
   "metadata": {},
   "outputs": [],
   "source": [
    "n_hours = 2\n",
    "n_minutes = 15\n",
    "for n_minutes in range(60):\n",
    "    print(df_merge[(df_merge.delta_time_sec > n_hours*3600-n_minutes*60) & (df_merge.delta_time_sec < n_hours*3600+n_minutes*60)].shape[0])"
   ]
  },
  {
   "cell_type": "markdown",
   "metadata": {},
   "source": [
    "# Black list"
   ]
  },
  {
   "cell_type": "markdown",
   "metadata": {},
   "source": [
    "## to delete"
   ]
  },
  {
   "cell_type": "code",
   "execution_count": 63,
   "metadata": {},
   "outputs": [],
   "source": [
    "#doc = open('/Users/polmartisanahuja/Desktop/to_delete.gpx', \"r\").read()\n",
    "#name_list_to_delete = re.findall('<name>(.*?)</name>', doc)\n",
    "name_list_to_delete = [\n",
    "'20091011_103250_biking_garmin_tcx.tcx',\n",
    "'20091207_110743_biking_garmin_tcx.tcx',\n",
    "'20100328_102708_biking_garmin_tcx.tcx',\n",
    "'20100925_114332_biking_garmin_tcx.tcx',\n",
    "'20101205_120423_undefined_mytracks_gpx.gpx',\n",
    "'20110421_070443_train_wikiloc_gpx.gpx',\n",
    "'20111015_092002_undefined_oruxmaps_gpx.gpx',\n",
    "'20120810_130309_undefined_oziexplorer_gpx.gpx',\n",
    "'20120812_154831_hiking_oziexplorer_gpx.gpx',\n",
    "'20121124_093800_undefined_oruxmaps_kml.gpx',\n",
    "'20121216_102406_undefined_oruxmaps_gpx.gpx',\n",
    "'20121216_112300_undefined_oruxmaps_kml.gpx',\n",
    "'20121222_104600_biking_oruxmaps_kml.gpx',\n",
    "'20130528_173524_undefined_mytracks_kml.gpx',\n",
    "'20140209_180628_hiking_strava_gpx.gpx',\n",
    "'20140304_180022_hiking_strava_gpx.gpx',\n",
    "'20140605_141206_undefined_mytracks_kml.gpx',\n",
    "'20150523_080341_biking_strava_tcx.tcx',\n",
    "'20160221_085612_biking_strava_tcx.tcx',\n",
    "'20191029_191816_hiking_wikiloc_gpx.gpx']"
   ]
  },
  {
   "cell_type": "code",
   "execution_count": 64,
   "metadata": {},
   "outputs": [],
   "source": [
    "folder_path_in = '/Volumes/Media/Tracks/Library_clean/other/'\n",
    "folder_path_tracks = '/Volumes/Media/Tracks/Library_clean/'"
   ]
  },
  {
   "cell_type": "code",
   "execution_count": 65,
   "metadata": {},
   "outputs": [
    {
     "output_type": "stream",
     "name": "stdout",
     "text": "20091011_103250_biking_garmin_tcx.tcx\n20091207_110743_biking_garmin_tcx.tcx\n20100328_102708_biking_garmin_tcx.tcx\n20100925_114332_biking_garmin_tcx.tcx\n20101205_120423_undefined_mytracks_gpx.gpx\n20110421_070443_train_wikiloc_gpx.gpx\n20111015_092002_undefined_oruxmaps_gpx.gpx\n20120810_130309_undefined_oziexplorer_gpx.gpx\n20120812_154831_hiking_oziexplorer_gpx.gpx\n20121124_093800_undefined_oruxmaps_kml.gpx\n20121216_102406_undefined_oruxmaps_gpx.gpx\n20121216_112300_undefined_oruxmaps_kml.gpx\n20121222_104600_biking_oruxmaps_kml.gpx\n20130528_173524_undefined_mytracks_kml.gpx\n20140209_180628_hiking_strava_gpx.gpx\n20140304_180022_hiking_strava_gpx.gpx\n20140605_141206_undefined_mytracks_kml.gpx\n20150523_080341_biking_strava_tcx.tcx\n20160221_085612_biking_strava_tcx.tcx\n20191029_191816_hiking_wikiloc_gpx.gpx\n"
    }
   ],
   "source": [
    "for l in name_list_to_delete:\n",
    "    print(l)\n",
    "    os.rename(folder_path_in + l, folder_path_tracks + 'to_delete/' + l)"
   ]
  },
  {
   "cell_type": "markdown",
   "metadata": {},
   "source": [
    "## to repair"
   ]
  },
  {
   "cell_type": "code",
   "execution_count": 66,
   "metadata": {},
   "outputs": [],
   "source": [
    "#doc = open('/Users/polmartisanahuja/Desktop/to_repair.gpx', \"r\").read()\n",
    "#name_list_to_repair = re.findall('<name>(.*?)</name>', doc)\n",
    "name_list_to_repair = [\n",
    "'20090405_135738_biking_strava_tcx.tcx',\n",
    "'20090405_150044_biking_strava_tcx.tcx',\n",
    "'20090816_091348_biking_garmin_tcx.tcx',\n",
    "'20090820_094723_biking_garmin_tcx.tcx',\n",
    "'20090905_100819_biking_garmin_tcx.tcx',\n",
    "'20090911_102506_hiking_strava_tcx.tcx',\n",
    "'20100515_160217_hiking_strava_tcx.tcx',\n",
    "'20100515_172915_hiking_strava_tcx.tcx',\n",
    "'20100914_070941_biking_garmin_tcx.tcx',\n",
    "'20111113_100451_undefined_oruxmaps_gpx.gpx',\n",
    "'20130901_090139_hiking_strava_tcx.tcx',\n",
    "'20150111_083337_biking_strava_tcx.tcx',\n",
    "'20150307_124029_hiking_strava_tcx.tcx',\n",
    "'20151208_084242_biking_strava_tcx.tcx',\n",
    "'20170617_082631_hiking_strava_tcx.tcx',\n",
    "'20190817_085644_hiking_wikiloc_gpx.gpx',\n",
    "'20191031_095250_hiking_wikiloc_gpx.gpx',\n",
    "'20191101_100636_hiking_wikiloc_gpx.gpx',\n",
    "'20191102_105540_hiking_wikiloc_gpx.gpx']"
   ]
  },
  {
   "cell_type": "code",
   "execution_count": 67,
   "metadata": {},
   "outputs": [
    {
     "output_type": "stream",
     "name": "stdout",
     "text": "20090405_135738_biking_strava_tcx.tcx\n20090405_150044_biking_strava_tcx.tcx\n20090816_091348_biking_garmin_tcx.tcx\n20090820_094723_biking_garmin_tcx.tcx\n20090905_100819_biking_garmin_tcx.tcx\n20090911_102506_hiking_strava_tcx.tcx\n20100515_160217_hiking_strava_tcx.tcx\n20100515_172915_hiking_strava_tcx.tcx\n20100914_070941_biking_garmin_tcx.tcx\n20111113_100451_undefined_oruxmaps_gpx.gpx\n20130901_090139_hiking_strava_tcx.tcx\n20150111_083337_biking_strava_tcx.tcx\n20150307_124029_hiking_strava_tcx.tcx\n20151208_084242_biking_strava_tcx.tcx\n20170617_082631_hiking_strava_tcx.tcx\n20190817_085644_hiking_wikiloc_gpx.gpx\n20191031_095250_hiking_wikiloc_gpx.gpx\n20191101_100636_hiking_wikiloc_gpx.gpx\n20191102_105540_hiking_wikiloc_gpx.gpx\n"
    }
   ],
   "source": [
    "for l in name_list_to_repair:\n",
    "    print(l)\n",
    "    os.rename(folder_path_in + l, folder_path_tracks + 'to_repair/' + l)"
   ]
  },
  {
   "cell_type": "markdown",
   "metadata": {},
   "source": [
    "## repeated"
   ]
  },
  {
   "cell_type": "code",
   "execution_count": 68,
   "metadata": {},
   "outputs": [],
   "source": [
    "#doc = open('/Users/polmartisanahuja/Desktop/repeated.gpx', \"r\").read()\n",
    "#name_list_repeated = re.findall('<name>(.*?)</name>', doc)\n",
    "name_list_repeated = [\n",
    "'20120213_083330_biking_strava_gpx.gpx',\n",
    "'20120720_162023_undefined_oziexplorer_gpx.gpx',\n",
    "'20120802_124400_hiking_wikiloc_gpx.gpx',\n",
    "'20121115_180700_biking_oruxmaps_kml.gpx',\n",
    "'20140614_095800_hiking_oruxmaps_kml.gpx'] "
   ]
  },
  {
   "cell_type": "code",
   "execution_count": 69,
   "metadata": {},
   "outputs": [
    {
     "output_type": "stream",
     "name": "stdout",
     "text": "20120213_083330_biking_strava_gpx.gpx\n20120720_162023_undefined_oziexplorer_gpx.gpx\n20120802_124400_hiking_wikiloc_gpx.gpx\n20121115_180700_biking_oruxmaps_kml.gpx\n20140614_095800_hiking_oruxmaps_kml.gpx\n"
    }
   ],
   "source": [
    "for l in name_list_repeated:\n",
    "    print(l)\n",
    "    os.rename(folder_path_in + l, folder_path_tracks + 'repeated/' + l)"
   ]
  },
  {
   "cell_type": "code",
   "execution_count": 70,
   "metadata": {},
   "outputs": [],
   "source": [
    "name_list_other = [\n",
    "'20090325_075150_biking_garmin_tcx.tcx',\n",
    "'20090325_210549_biking_garmin_tcx.tcx',\n",
    "'20090328_174522_biking_garmin_tcx.tcx',\n",
    "'20090512_050557_biking_garmin_tcx.tcx',\n",
    "'20090819_092005_biking_garmin_tcx.tcx',\n",
    "'20090819_142116_biking_garmin_tcx.tcx',\n",
    "'20090821_175705_biking_garmin_tcx.tcx',\n",
    "'20090822_110030_sledge_wikiloc_gpx.gpx',\n",
    "'20090925_073416_biking_garmin_tcx.tcx',\n",
    "'20091010_092412_biking_garmin_tcx.tcx',\n",
    "'20091010_221532_biking_garmin_tcx.tcx',\n",
    "'20091025_081619_flying_wikiloc_gpx.gpx',\n",
    "'20091122_065306_biking_garmin_tcx.tcx',\n",
    "'20091128_142834_biking_garmin_tcx.tcx',\n",
    "'20091207_130518_biking_garmin_tcx.tcx',\n",
    "'20091227_130918_biking_garmin_tcx.tcx',\n",
    "'20091229_114847_biking_garmin_tcx.tcx',\n",
    "'20100131_111600_biking_garmin_tcx.tcx',\n",
    "'20100204_101537_biking_garmin_tcx.tcx',\n",
    "'20100205_105213_driving_wikiloc_gpx.gpx',\n",
    "'20100206_150543_biking_garmin_tcx.tcx',\n",
    "'20100403_102852_driving_wikiloc_gpx.gpx',\n",
    "'20100404_101932_driving_wikiloc_gpx.gpx',\n",
    "'20100527_171448_motorcycling_garmin_tcx.tcx',\n",
    "'20101016_103631_undefined_mytracks_gpx.gpx',\n",
    "'20101121_095609_undefined_mytracks_gpx.gpx',\n",
    "'20110114_163153_biking_garmin_tcx.tcx',\n",
    "'20110115_085602_biking_garmin_tcx.tcx',\n",
    "'20110115_122819_driving_wikiloc_gpx.gpx',\n",
    "'20110116_110017_biking_garmin_tcx.tcx',\n",
    "'20110116_183852_biking_garmin_tcx.tcx',\n",
    "'20110214_182637_biking_garmin_tcx.tcx',\n",
    "'20110313_112633_hiking_strava_gpx.gpx',\n",
    "'20110313_145610_undefined_mytracks_gpx.gpx',\n",
    "'20110320_104606_hiking_strava_gpx.gpx',\n",
    "'20110611_073335_train_wikiloc_gpx.gpx',\n",
    "'20110627_091457_biking_garmin_tcx.tcx',\n",
    "'20111029_091711_paragliding_wikiloc_gpx.gpx',\n",
    "'20111206_113716_undefined_oruxmaps_gpx.gpx',\n",
    "'20120123_175321_undefined_oruxmaps_gpx.gpx',\n",
    "'20120211_092429_undefined_oruxmaps_gpx.gpx',\n",
    "'20120321_074914_train_wikiloc_gpx.gpx',\n",
    "'20120814_164745_rowing_wikiloc_gpx.gpx',\n",
    "'20130722_090252_kayaking_wikiloc_gpx.gpx',\n",
    "'20130922_114903_undefined_mytracks_kml.gpx',\n",
    "'20140326_120049_undefined_mytracks_kml.gpx',\n",
    "'20140517_144424_undefined_mytracks_kml.gpx',\n",
    "'20141231_143632_snowshoeing_wikilocbuddies_gpx.gpx',\n",
    "'20170225_103158_skiing_strava_tcx.tcx'\n",
    "]"
   ]
  },
  {
   "cell_type": "markdown",
   "metadata": {},
   "source": [
    "# lostrackers"
   ]
  },
  {
   "cell_type": "markdown",
   "metadata": {},
   "source": [
    "## trekking"
   ]
  },
  {
   "cell_type": "code",
   "execution_count": 71,
   "metadata": {},
   "outputs": [],
   "source": [
    "file_list = [f for f in os.listdir(folder_path_in) if 'hiking' in f and 'wikiloclostrackers' in f and f not in name_list_other]\n",
    "file_list = file_list + ['20160808_084742_hiking_wikiloc_gpx.gpx', '20190912_200120_hiking_wikiloc_gpx.gpx']"
   ]
  },
  {
   "cell_type": "code",
   "execution_count": 72,
   "metadata": {},
   "outputs": [
    {
     "output_type": "stream",
     "name": "stdout",
     "text": "20191030_120453_hiking_wikiloclostrackers_gpx.gpx\n20200402_155032_hiking_wikiloclostrackers_gpx.gpx\n20160808_084742_hiking_wikiloc_gpx.gpx\n20190912_200120_hiking_wikiloc_gpx.gpx\n"
    }
   ],
   "source": [
    "for l in file_list:\n",
    "    print(l)\n",
    "    os.rename(folder_path_in + l, folder_path_tracks + 'lostrackers/hiking/' + l)"
   ]
  },
  {
   "cell_type": "markdown",
   "metadata": {},
   "source": [
    "## motorcycling"
   ]
  },
  {
   "cell_type": "code",
   "execution_count": 73,
   "metadata": {},
   "outputs": [],
   "source": [
    "file_list = [f for f in os.listdir(folder_path_in) if 'motorcycling' in f and 'wikiloclostrackers' in f and f not in name_list_other]\n",
    "file_list = file_list + ['20180825_114136_motorcycling_wikiloc_gpx.gpx']"
   ]
  },
  {
   "cell_type": "code",
   "execution_count": 74,
   "metadata": {},
   "outputs": [
    {
     "output_type": "stream",
     "name": "stdout",
     "text": "20180324_085123_motorcycling_wikiloclostrackers_gpx.gpx\n20180908_092111_motorcycling_wikiloclostrackers_gpx.gpx\n20181011_063725_motorcycling_wikiloclostrackers_gpx.gpx\n20190831_173643_motorcycling_wikiloclostrackers_gpx.gpx\n20180825_114136_motorcycling_wikiloc_gpx.gpx\n"
    }
   ],
   "source": [
    "for l in file_list:\n",
    "    print(l)\n",
    "    os.rename(folder_path_in + l, folder_path_tracks + 'lostrackers/motorcycling/' + l)"
   ]
  },
  {
   "cell_type": "markdown",
   "metadata": {},
   "source": [
    "# polmartisanahuja"
   ]
  },
  {
   "cell_type": "markdown",
   "metadata": {},
   "source": [
    "## biking"
   ]
  },
  {
   "cell_type": "code",
   "execution_count": 75,
   "metadata": {},
   "outputs": [],
   "source": [
    "#doc = open('/Users/polmartisanahuja/Desktop/other.gpx', \"r\").read()\n",
    "#name_list_other = re.findall('<name>(.*?)</name>', doc)"
   ]
  },
  {
   "cell_type": "code",
   "execution_count": 76,
   "metadata": {},
   "outputs": [],
   "source": [
    "file_list = [f for f in os.listdir(folder_path_in) if 'biking' in f and f not in name_list_other]"
   ]
  },
  {
   "cell_type": "code",
   "execution_count": 77,
   "metadata": {},
   "outputs": [
    {
     "output_type": "stream",
     "name": "stdout",
     "text": "20090326_084006_biking_strava_tcx.tcx\n20090502_071131_biking_strava_tcx.tcx\n20090516_064517_biking_strava_tcx.tcx\n20090601_093505_biking_wikilocbuddies_gpx.gpx\n20090607_061807_biking_strava_tcx.tcx\n20090607_081813_biking_wikilocbuddies_gpx.gpx\n20090807_073520_biking_strava_tcx.tcx\n20090807_093535_biking_wikilocbuddies_gpx.gpx\n20091024_072844_biking_strava_tcx.tcx\n20091024_092845_biking_wikilocbuddies_gpx.gpx\n20100130_085753_biking_strava_tcx.tcx\n20100214_083134_biking_strava_tcx.tcx\n20100214_093134_biking_wikilocbuddies_gpx.gpx\n20100228_123012_biking_garmin_tcx.tcx\n20100313_085338_biking_strava_tcx.tcx\n20100313_095357_biking_wikilocbuddies_gpx.gpx\n20100328_074527_biking_strava_tcx.tcx\n20100330_080229_biking_strava_tcx.tcx\n20100410_074117_biking_strava_tcx.tcx\n20100410_094117_biking_wikilocbuddies_gpx.gpx\n20100424_071948_biking_strava_tcx.tcx\n20100424_091948_biking_wikilocbuddies_gpx.gpx\n20100531_060110_biking_strava_tcx.tcx\n20100531_161706_biking_strava_tcx.tcx\n20100613_070901_biking_strava_tcx.tcx\n20100613_090938_biking_wikilocbuddies_gpx.gpx\n20100726_055355_biking_strava_tcx.tcx\n20100726_162034_biking_strava_tcx.tcx\n20100728_060633_biking_strava_tcx.tcx\n20100728_163301_biking_strava_tcx.tcx\n20100902_092743_biking_strava_tcx.tcx\n20100902_155843_biking_strava_tcx.tcx\n20100904_103342_biking_strava_tcx.tcx\n20100914_170413_biking_strava_tcx.tcx\n20100916_081031_biking_strava_tcx.tcx\n20100916_171211_biking_strava_tcx.tcx\n20100922_070219_biking_strava_tcx.tcx\n20100922_170454_biking_strava_tcx.tcx\n20100925_083027_biking_strava_tcx.tcx\n20100930_072932_biking_strava_tcx.tcx\n20100930_164722_biking_strava_tcx.tcx\n20101002_082052_biking_strava_tcx.tcx\n20101006_070237_biking_strava_tcx.tcx\n20101006_161808_biking_strava_tcx.tcx\n20101008_072312_biking_strava_tcx.tcx\n20101008_155330_biking_strava_tcx.tcx\n20101014_062209_biking_strava_tcx.tcx\n20101211_080857_biking_strava_gpx.gpx\n20101211_090857_biking_wikilocbuddies_gpx.gpx\n20101218_075806_biking_strava_gpx.gpx\n20101218_085806_biking_wikilocbuddies_gpx.gpx\n20110122_085705_biking_strava_tcx.tcx\n20110122_095652_biking_wikilocbuddies_gpx.gpx\n20110227_113301_biking_strava_gpx.gpx\n20110402_090151_biking_strava_gpx.gpx\n20110405_073917_biking_strava_gpx.gpx\n20110405_162835_biking_strava_gpx.gpx\n20110420_075455_biking_strava_gpx.gpx\n20110430_100211_biking_strava_gpx.gpx\n20120115_094951_biking_strava_gpx.gpx\n20120126_075158_biking_strava_gpx.gpx\n20120126_180313_biking_strava_gpx.gpx\n20120129_081903_biking_strava_gpx.gpx\n20120129_091903_biking_wikilocbuddies_gpx.gpx\n20120129_125848_biking_strava_gpx.gpx\n20120201_082015_biking_strava_gpx.gpx\n20120201_172200_biking_strava_gpx.gpx\n20120205_085812_biking_strava_gpx.gpx\n20120207_081408_biking_strava_gpx.gpx\n20120207_174929_biking_strava_gpx.gpx\n20120209_080852_biking_strava_gpx.gpx\n20120209_174943_biking_strava_gpx.gpx\n20120213_183410_biking_strava_gpx.gpx\n20120215_083455_biking_strava_gpx.gpx\n20120215_142543_biking_strava_gpx.gpx\n20120216_080850_biking_strava_gpx.gpx\n20120216_180855_biking_strava_gpx.gpx\n20120218_084114_biking_strava_gpx.gpx\n20120220_182704_biking_oruxmaps_gpx.gpx\n20120228_085026_biking_strava_gpx.gpx\n20120228_184604_biking_strava_gpx.gpx\n20120229_082837_biking_strava_gpx.gpx\n20120229_183531_biking_strava_gpx.gpx\n20120301_100026_biking_strava_gpx.gpx\n20120301_172954_biking_strava_gpx.gpx\n20120302_091020_biking_strava_gpx.gpx\n20120302_173539_biking_strava_gpx.gpx\n20120304_073942_biking_strava_gpx.gpx\n20120320_085246_biking_strava_gpx.gpx\n20120320_174354_biking_strava_gpx.gpx\n20120325_070646_biking_strava_gpx.gpx\n20120327_075240_biking_strava_gpx.gpx\n20120327_165913_biking_strava_gpx.gpx\n20120329_060507_biking_strava_gpx.gpx\n20120329_154325_biking_strava_gpx.gpx\n20120609_071020_biking_wikilocbuddies_gpx.gpx\n20120701_063004_biking_strava_gpx.gpx\n20120729_071645_biking_wikilocbuddies_gpx.gpx\n20120915_071338_biking_strava_gpx.gpx\n20120924_080043_biking_wikilocbuddies_gpx.gpx\n20121110_083822_biking_strava_gpx.gpx\n20121124_083805_biking_strava_gpx.gpx\n20121222_084030_biking_wikilocbuddies_gpx.gpx\n20121222_094700_biking_strava_gpx.gpx\n20130923_161515_biking_strava_tcx.tcx\n20150215_084156_biking_strava_tcx.tcx\n20150218_105344_biking_strava_tcx.tcx\n20150301_091321_biking_strava_tcx.tcx\n20150315_074545_biking_strava_tcx.tcx\n20150620_083537_biking_strava_tcx.tcx\n20150705_162219_biking_strava_tcx.tcx\n20150718_080837_biking_strava_tcx.tcx\n20150816_094638_biking_strava_tcx.tcx\n20150819_090126_biking_endomondo_tcx.tcx\n20150905_144412_biking_strava_tcx.tcx\n20150926_081258_biking_strava_tcx.tcx\n20151018_082024_biking_strava_tcx.tcx\n20160131_092340_biking_strava_tcx.tcx\n20160409_100546_biking_strava_tcx.tcx\n20160709_073355_biking_strava_tcx.tcx\n20160716_071633_biking_strava_tcx.tcx\n20160730_060824_biking_strava_tcx.tcx\n20161113_094238_biking_strava_tcx.tcx\n20161208_081120_biking_strava_tcx.tcx\n20161218_084306_biking_strava_tcx.tcx\n20170318_105100_biking_strava_tcx.tcx\n20170422_075903_biking_strava_tcx.tcx\n20170506_080106_biking_strava_tcx.tcx\n20170603_073105_biking_strava_tcx.tcx\n20170603_092613_biking_wikilocbuddies_gpx.gpx\n20170714_145530_biking_strava_tcx.tcx\n20170728_153238_biking_strava_tcx.tcx\n20170809_080237_biking_strava_tcx.tcx\n20170909_062308_biking_strava_tcx.tcx\n20170911_105503_biking_strava_tcx.tcx\n20170916_071411_biking_strava_tcx.tcx\n20171028_081507_biking_strava_tcx.tcx\n20171104_094203_biking_strava_tcx.tcx\n20171119_073457_biking_strava_tcx.tcx\n20171202_101023_biking_strava_tcx.tcx\n20180218_083705_biking_wikilocbuddies_gpx.gpx\n20180222_191226_biking_strava_tcx.tcx\n20180601_152233_biking_strava_tcx.tcx\n20180603_073439_biking_strava_tcx.tcx\n20180610_091643_biking_strava_tcx.tcx\n20180707_091952_biking_strava_tcx.tcx\n20180817_071636_biking_strava_tcx.tcx\n20180915_072039_biking_strava_tcx.tcx\n20181102_090218_biking_strava_tcx.tcx\n20181222_090520_biking_strava_tcx.tcx\n20190302_084801_biking_wikilocbuddies_gpx.gpx\n20190302_095017_biking_wikiloc_gpx.gpx\n20190309_090635_biking_wikilocbuddies_gpx.gpx\n20190309_100636_biking_wikiloc_gpx.gpx\n20190310_090034_biking_wikilocbuddies_gpx.gpx\n20190310_100750_biking_wikiloc_gpx.gpx\n20190330_083944_biking_wikilocbuddies_gpx.gpx\n20190330_094629_biking_wikiloc_gpx.gpx\n20190424_192325_biking_wikiloc_gpx.gpx\n20190510_171727_biking_wikiloc_gpx.gpx\n20190522_192257_biking_wikiloc_gpx.gpx\n20190602_062215_biking_wikilocbuddies_gpx.gpx\n20190602_082500_biking_wikiloc_gpx.gpx\n20190612_192409_biking_wikiloc_gpx.gpx\n20190615_111532_biking_wikiloc_gpx.gpx\n20190616_090308_biking_wikiloc_gpx.gpx\n20190626_193721_biking_wikiloc_gpx.gpx\n20190710_192125_biking_wikiloc_gpx.gpx\n20190720_072358_biking_wikilocbuddies_gpx.gpx\n20190720_092353_biking_wikiloc_gpx.gpx\n20190726_180226_biking_wikiloc_gpx.gpx\n20191026_100222_biking_wikiloc_gpx.gpx\n20191214_093200_biking_strava_gpx.gpx\n20191226_081432_biking_strava_gpx.gpx\n20200101_083721_biking_strava_gpx.gpx\n20200111_101836_biking_strava_gpx.gpx\n20200201_091400_biking_strava_gpx.gpx\n20200223_095202_biking_strava_gpx.gpx\n"
    }
   ],
   "source": [
    "for l in file_list:\n",
    "    print(l)\n",
    "    os.rename(folder_path_in + l, folder_path_tracks + 'polmartisanahuja/biking/' + l)"
   ]
  },
  {
   "cell_type": "markdown",
   "metadata": {},
   "source": [
    "## running"
   ]
  },
  {
   "cell_type": "code",
   "execution_count": 78,
   "metadata": {},
   "outputs": [],
   "source": [
    "file_list = [f for f in os.listdir(folder_path_in) if 'running' in f and f not in name_list_other]"
   ]
  },
  {
   "cell_type": "code",
   "execution_count": 79,
   "metadata": {},
   "outputs": [
    {
     "output_type": "stream",
     "name": "stdout",
     "text": "20101214_192332_running_strava_tcx.tcx\n20110515_103946_running_strava_gpx.gpx\n20110721_184708_running_strava_gpx.gpx\n20121007_053028_running_strava_gpx.gpx\n20130502_153934_running_strava_gpx.gpx\n20130513_174345_running_strava_gpx.gpx\n20130521_171346_running_strava_gpx.gpx\n20130523_173418_running_strava_gpx.gpx\n20130526_181024_running_strava_gpx.gpx\n20130530_172356_running_strava_gpx.gpx\n20130604_170950_running_strava_gpx.gpx\n20130606_175817_running_strava_gpx.gpx\n20130610_161931_running_strava_gpx.gpx\n20130612_174235_running_strava_gpx.gpx\n20130613_165340_running_strava_gpx.gpx\n20130616_185128_running_strava_gpx.gpx\n20130618_185954_running_strava_gpx.gpx\n20130620_175427_running_strava_gpx.gpx\n20130624_184358_running_strava_gpx.gpx\n20130626_183247_running_strava_gpx.gpx\n20130628_172259_running_strava_gpx.gpx\n20130812_181641_running_strava_gpx.gpx\n20130814_173219_running_strava_gpx.gpx\n20130816_180021_running_strava_gpx.gpx\n20130818_183813_running_strava_gpx.gpx\n20130820_180817_running_strava_tcx.tcx\n20130822_172028_running_strava_tcx.tcx\n20130824_183507_running_strava_tcx.tcx\n20130826_181207_running_strava_tcx.tcx\n20130828_174825_running_strava_tcx.tcx\n20130830_180702_running_strava_tcx.tcx\n20130902_171638_running_strava_tcx.tcx\n20130904_182056_running_strava_tcx.tcx\n20130906_171701_running_strava_tcx.tcx\n20130909_164811_running_strava_tcx.tcx\n20130911_170326_running_strava_tcx.tcx\n20130913_173319_running_strava_tcx.tcx\n20130916_170247_running_strava_tcx.tcx\n20130918_170416_running_strava_tcx.tcx\n20130919_173218_running_strava_tcx.tcx\n20130920_173529_running_strava_tcx.tcx\n20130922_063509_running_strava_tcx.tcx\n20130925_173619_running_strava_tcx.tcx\n20130926_173737_running_strava_tcx.tcx\n20130927_162700_running_strava_tcx.tcx\n20130930_171631_running_strava_tcx.tcx\n20131002_170636_running_strava_tcx.tcx\n20131004_180415_running_strava_tcx.tcx\n20131006_184855_running_strava_tcx.tcx\n20131007_171741_running_strava_tcx.tcx\n20131008_173850_running_strava_tcx.tcx\n20131009_171120_running_strava_tcx.tcx\n20131010_165545_running_strava_tcx.tcx\n20131014_171928_running_strava_tcx.tcx\n20131017_170047_running_strava_tcx.tcx\n20131018_173646_running_strava_tcx.tcx\n20131021_155115_running_strava_tcx.tcx\n20131027_081501_running_strava_tcx.tcx\n20131030_172201_running_strava_tcx.tcx\n20131101_180951_running_strava_tcx.tcx\n20131106_175325_running_strava_tcx.tcx\n20131108_183207_running_strava_tcx.tcx\n20131110_180300_running_strava_tcx.tcx\n20131113_183410_running_strava_tcx.tcx\n20131115_183600_running_strava_tcx.tcx\n20131116_181932_running_strava_tcx.tcx\n20131119_185001_running_strava_tcx.tcx\n20131121_163328_running_strava_tcx.tcx\n20131123_102933_running_strava_tcx.tcx\n20131125_190031_running_strava_tcx.tcx\n20131127_183622_running_strava_tcx.tcx\n20131130_103429_running_strava_tcx.tcx\n20131130_195435_running_wikiloc_gpx.gpx\n20131202_185556_running_strava_tcx.tcx\n20131204_185215_running_strava_tcx.tcx\n20131207_093625_running_strava_tcx.tcx\n20131207_103631_running_wikilocbuddies_gpx.gpx\n20131215_080107_running_strava_tcx.tcx\n20131217_182506_running_strava_tcx.tcx\n20131219_181045_running_strava_tcx.tcx\n20131226_091621_running_strava_tcx.tcx\n20140109_183114_running_strava_tcx.tcx\n20140112_101159_running_strava_tcx.tcx\n20140115_192312_running_strava_gpx.gpx\n20140117_181320_running_strava_gpx.gpx\n20140126_090025_running_strava_gpx.gpx\n20140130_185104_running_strava_gpx.gpx\n20140203_184139_running_strava_gpx.gpx\n20140207_175614_running_strava_gpx.gpx\n20140301_101656_running_strava_gpx.gpx\n20140315_084554_running_strava_gpx.gpx\n20140525_171928_running_strava_tcx.tcx\n20140623_091107_running_strava_gpx.gpx\n20140918_174410_running_strava_tcx.tcx\n20140918_182839_running_oruxmaps_gpx.gpx\n20140923_170206_running_strava_tcx.tcx\n20141002_171001_running_strava_tcx.tcx\n20141009_171448_running_strava_tcx.tcx\n20141014_155351_running_strava_tcx.tcx\n20141016_154747_running_strava_tcx.tcx\n20141019_082256_running_strava_tcx.tcx\n20141023_155200_running_strava_tcx.tcx\n20150222_170441_running_strava_tcx.tcx\n20150329_085155_running_strava_tcx.tcx\n20150614_181634_running_strava_tcx.tcx\n20150628_181748_running_strava_tcx.tcx\n20150704_173336_running_strava_tcx.tcx\n20150712_172750_running_strava_tcx.tcx\n20150818_164036_running_strava_tcx.tcx\n20150823_170520_running_strava_tcx.tcx\n20150824_155505_running_strava_tcx.tcx\n20150831_172016_running_strava_tcx.tcx\n20150909_183053_running_strava_tcx.tcx\n20150915_182651_running_strava_tcx.tcx\n20151023_170158_running_strava_tcx.tcx\n20151101_114608_running_strava_tcx.tcx\n20151106_185341_running_strava_tcx.tcx\n20151113_181333_running_strava_tcx.tcx\n20151121_102705_running_strava_tcx.tcx\n20151126_190043_running_strava_tcx.tcx\n20151129_183524_running_strava_tcx.tcx\n20151204_192132_running_strava_tcx.tcx\n20151220_112815_running_strava_tcx.tcx\n20151231_180005_running_strava_tcx.tcx\n20160110_093002_running_strava_tcx.tcx\n20160128_185605_running_strava_tcx.tcx\n20160309_192112_running_strava_tcx.tcx\n20160403_153746_running_strava_tcx.tcx\n20160406_180538_running_strava_tcx.tcx\n20160416_174154_running_strava_tcx.tcx\n20160422_181827_running_strava_tcx.tcx\n20160502_181533_running_strava_tcx.tcx\n20160523_190323_running_strava_tcx.tcx\n20160526_181809_running_strava_tcx.tcx\n20160529_183410_running_strava_tcx.tcx\n20160603_054143_running_strava_tcx.tcx\n20160605_070028_running_strava_tcx.tcx\n20160607_184358_running_strava_tcx.tcx\n20160614_184142_running_strava_tcx.tcx\n20160619_070711_running_strava_tcx.tcx\n20160620_183327_running_strava_tcx.tcx\n20160624_064134_running_strava_tcx.tcx\n20160626_063112_running_strava_tcx.tcx\n20160628_185119_running_strava_tcx.tcx\n20160630_173353_running_strava_tcx.tcx\n20160702_183013_running_strava_tcx.tcx\n20160704_052714_running_strava_tcx.tcx\n20160711_174844_running_strava_tcx.tcx\n20160821_182259_running_strava_tcx.tcx\n20160827_163541_running_strava_tcx.tcx\n20160905_175253_running_strava_tcx.tcx\n20160911_070231_running_strava_tcx.tcx\n20160921_174842_running_strava_tcx.tcx\n20160925_073124_running_strava_tcx.tcx\n20161003_171904_running_strava_tcx.tcx\n20161124_190115_running_strava_tcx.tcx\n20161226_104245_running_strava_tcx.tcx\n20161229_112020_running_strava_tcx.tcx\n20161231_164615_running_strava_tcx.tcx\n20170226_134615_running_strava_tcx.tcx\n20170302_184725_running_strava_tcx.tcx\n20170409_120655_running_strava_tcx.tcx\n20170430_072743_running_strava_tcx.tcx\n20170504_173907_running_strava_tcx.tcx\n20170507_115338_running_strava_tcx.tcx\n20170511_164115_running_strava_tcx.tcx\n20170514_082848_running_strava_tcx.tcx\n20170521_095605_running_strava_tcx.tcx\n20170523_173238_running_strava_tcx.tcx\n20170526_055841_running_strava_tcx.tcx\n20170528_063155_running_strava_tcx.tcx\n20170602_134911_running_strava_tcx.tcx\n20170606_175810_running_strava_tcx.tcx\n20170609_054121_running_strava_tcx.tcx\n20170613_171856_running_strava_tcx.tcx\n20170618_063329_running_strava_tcx.tcx\n20170625_083932_running_endomondo_tcx.tcx\n20170627_054556_running_strava_tcx.tcx\n20170629_054055_running_strava_tcx.tcx\n20170701_181243_running_strava_tcx.tcx\n20170703_175853_running_strava_tcx.tcx\n20170706_181920_running_strava_tcx.tcx\n20170711_174330_running_strava_tcx.tcx\n20170716_070055_running_strava_tcx.tcx\n20170719_054733_running_strava_tcx.tcx\n20170721_180037_running_strava_tcx.tcx\n20170724_055211_running_strava_tcx.tcx\n20170729_180312_running_strava_tcx.tcx\n20170802_174656_running_strava_tcx.tcx\n20170804_161728_running_strava_tcx.tcx\n20170807_081146_running_strava_tcx.tcx\n20170810_183533_running_strava_tcx.tcx\n20170812_100732_running_strava_tcx.tcx\n20170812_135119_running_strava_tcx.tcx\n20170815_073533_running_strava_tcx.tcx\n20170817_182800_running_strava_tcx.tcx\n20170818_180126_running_strava_tcx.tcx\n20170820_111921_running_strava_tcx.tcx\n20170821_184218_running_strava_tcx.tcx\n20170827_173219_running_strava_tcx.tcx\n20170829_175921_running_strava_tcx.tcx\n20170831_181354_running_strava_tcx.tcx\n20170902_163458_running_strava_tcx.tcx\n20170921_061048_running_strava_tcx.tcx\n20170922_060411_running_strava_tcx.tcx\n20171003_060944_running_strava_tcx.tcx\n20171006_174057_running_strava_tcx.tcx\n20171008_102256_running_strava_tcx.tcx\n20171101_180317_running_strava_tcx.tcx\n20171109_192202_running_strava_tcx.tcx\n20171115_192236_running_strava_tcx.tcx\n20171219_191823_running_strava_tcx.tcx\n20171223_115241_running_strava_tcx.tcx\n20171228_113231_running_strava_tcx.tcx\n20171231_162934_running_strava_tcx.tcx\n20180106_102741_running_strava_tcx.tcx\n20180114_112842_running_strava_tcx.tcx\n20180121_090223_running_strava_tcx.tcx\n20180131_192444_running_strava_tcx.tcx\n20180203_112250_running_strava_tcx.tcx\n20180207_192601_running_strava_tcx.tcx\n20180211_074933_running_strava_tcx.tcx\n20180225_094049_running_strava_tcx.tcx\n20180227_191909_running_strava_tcx.tcx\n20180301_193637_running_strava_tcx.tcx\n20180304_090526_running_strava_tcx.tcx\n20180406_173524_running_strava_tcx.tcx\n20180410_180653_running_strava_tcx.tcx\n20180418_101451_running_strava_tcx.tcx\n20180421_110013_running_strava_tcx.tcx\n20180424_173232_running_strava_tcx.tcx\n20180426_183000_running_strava_tcx.tcx\n20180429_075944_running_strava_tcx.tcx\n20180508_060604_running_strava_tcx.tcx\n20180520_105406_running_strava_tcx.tcx\n20180521_104008_running_strava_tcx.tcx\n20180524_175302_running_strava_tcx.tcx\n20180530_180040_running_strava_tcx.tcx\n20180606_174435_running_strava_tcx.tcx\n20180608_174658_running_strava_tcx.tcx\n20180612_175730_running_strava_tcx.tcx\n20180615_143229_running_strava_tcx.tcx\n20180623_082223_running_strava_tcx.tcx\n20180626_054922_running_strava_tcx.tcx\n20180629_172714_running_strava_tcx.tcx\n20180702_180223_running_strava_tcx.tcx\n20180704_180456_running_strava_tcx.tcx\n20180709_160720_running_strava_tcx.tcx\n20180711_180314_running_strava_tcx.tcx\n20180714_184231_running_strava_tcx.tcx\n20180721_180858_running_strava_tcx.tcx\n20180723_180705_running_strava_tcx.tcx\n20180726_182613_running_strava_tcx.tcx\n20180728_181737_running_strava_tcx.tcx\n20180818_173315_running_strava_tcx.tcx\n20180824_175342_running_strava_tcx.tcx\n20180826_181220_running_strava_tcx.tcx\n20180830_182648_running_strava_tcx.tcx\n20180928_164739_running_strava_tcx.tcx\n20181005_175947_running_endomondo_tcx.tcx\n20181010_171532_running_strava_tcx.tcx\n20181015_181629_running_strava_tcx.tcx\n20181021_073009_running_strava_tcx.tcx\n20181025_180928_running_strava_tcx.tcx\n20181124_160123_running_strava_tcx.tcx\n20181217_160510_running_strava_tcx.tcx\n20181220_115250_running_strava_tcx.tcx\n20181224_160054_running_strava_tcx.tcx\n20190113_121232_running_strava_tcx.tcx\n20190327_185213_running_strava_tcx.tcx\n20190517_174355_running_strava_gpx.gpx\n20190530_185506_running_strava_gpx.gpx\n20190607_165817_running_strava_gpx.gpx\n20190620_191328_running_strava_gpx.gpx\n20190628_202506_running_strava_gpx.gpx\n20190703_201717_running_strava_gpx.gpx\n20190712_201309_running_strava_gpx.gpx\n20190718_195645_running_strava_gpx.gpx\n20190724_200031_running_strava_gpx.gpx\n20190814_173355_running_strava_tcx.tcx\n20190817_122155_running_strava_gpx.gpx\n20190822_173119_running_strava_gpx.gpx\n20190825_174701_running_strava_gpx.gpx\n20190828_173650_running_strava_gpx.gpx\n20190901_172730_running_strava_gpx.gpx\n20191001_165716_running_strava_gpx.gpx\n20191013_165047_running_strava_gpx.gpx\n20191017_172302_running_strava_gpx.gpx\n20191022_190539_running_strava_gpx.gpx\n20191205_135548_running_strava_gpx.gpx\n20200216_115846_running_strava_gpx.gpx\n20200222_084303_running_strava_gpx.gpx\n20200222_131410_running_wikiloc_gpx.gpx\n20200222_131441_running_wikiloc_gpx.gpx\n20200503_064527_running_strava_gpx.gpx\n20200505_180733_running_strava_gpx.gpx\n20200509_105516_running_endomondo_gpx.gpx\n20200509_105517_running_endomondo_gpx.gpx\n"
    }
   ],
   "source": [
    "for l in file_list:\n",
    "    print(l)\n",
    "    os.rename(folder_path_in + l, folder_path_tracks + 'polmartisanahuja/running/' + l)"
   ]
  },
  {
   "cell_type": "markdown",
   "metadata": {},
   "source": [
    "## hiking"
   ]
  },
  {
   "cell_type": "code",
   "execution_count": 80,
   "metadata": {},
   "outputs": [],
   "source": [
    "file_list = [f for f in os.listdir(folder_path_in) if 'hiking' in f and f not in name_list_other]"
   ]
  },
  {
   "cell_type": "code",
   "execution_count": 81,
   "metadata": {},
   "outputs": [
    {
     "output_type": "stream",
     "name": "stdout",
     "text": "20090919_102802_hiking_strava_tcx.tcx\n20090927_082238_hiking_strava_tcx.tcx\n20091004_120154_hiking_strava_tcx.tcx\n20091012_101902_hiking_strava_tcx.tcx\n20091017_152448_hiking_strava_tcx.tcx\n20091025_104713_hiking_strava_tcx.tcx\n20091220_095756_hiking_strava_tcx.tcx\n20100110_074218_hiking_strava_tcx.tcx\n20100307_112118_hiking_strava_tcx.tcx\n20100803_090835_hiking_strava_gpx.gpx\n20100810_084643_hiking_strava_gpx.gpx\n20100820_093144_hiking_strava_gpx.gpx\n20101003_060036_hiking_strava_tcx.tcx\n20110220_090335_hiking_strava_gpx.gpx\n20110417_111325_hiking_strava_gpx.gpx\n20110507_052439_hiking_strava_tcx.tcx\n20110521_180044_hiking_garmin_tcx.tcx\n20110710_073711_hiking_strava_gpx.gpx\n20110716_091654_hiking_strava_gpx.gpx\n20110917_182007_hiking_strava_gpx.gpx\n20111016_093632_hiking_strava_gpx.gpx\n20111210_111307_hiking_strava_gpx.gpx\n20120311_093948_hiking_strava_gpx.gpx\n20120406_095006_hiking_strava_gpx.gpx\n20120407_093504_hiking_strava_gpx.gpx\n20120721_073922_hiking_strava_gpx.gpx\n20120728_084514_hiking_strava_gpx.gpx\n20120807_094020_hiking_strava_gpx.gpx\n20120811_050855_hiking_strava_gpx.gpx\n20120819_045021_hiking_strava_gpx.gpx\n20120908_081000_hiking_strava_gpx.gpx\n20120908_081024_hiking_strava_gpx.gpx\n20120923_074456_hiking_wikilocbuddies_gpx.gpx\n20130310_090500_hiking_wikilocbuddies_gpx.gpx\n20130330_170226_hiking_strava_gpx.gpx\n20130331_093008_hiking_strava_gpx.gpx\n20130630_080523_hiking_strava_gpx.gpx\n20130722_130640_hiking_strava_gpx.gpx\n20130731_181634_hiking_strava_gpx.gpx\n20130803_161707_hiking_strava_gpx.gpx\n20131019_095109_hiking_strava_tcx.tcx\n20131102_103635_hiking_strava_gpx.gpx\n20140601_092438_hiking_strava_tcx.tcx\n20140614_075857_hiking_strava_gpx.gpx\n20140621_082506_hiking_strava_gpx.gpx\n20140622_094538_hiking_strava_gpx.gpx\n20140810_075433_hiking_wikiloc_gpx.gpx\n20140906_083808_hiking_strava_gpx.gpx\n20140921_064417_hiking_strava_gpx.gpx\n20141011_080526_hiking_strava_tcx.tcx\n20141011_131429_hiking_strava_tcx.tcx\n20141026_070344_hiking_strava_tcx.tcx\n20150103_090232_hiking_wikilocbuddies_gpx.gpx\n20150117_082037_hiking_strava_tcx.tcx\n20150307_100329_hiking_strava_tcx.tcx\n20150809_083705_hiking_strava_tcx.tcx\n20150810_081837_hiking_strava_tcx.tcx\n20150811_072040_hiking_strava_tcx.tcx\n20150812_073122_hiking_strava_tcx.tcx\n20150813_090501_hiking_strava_tcx.tcx\n20150814_075129_hiking_strava_tcx.tcx\n20150817_085811_hiking_strava_tcx.tcx\n20150820_083627_hiking_wikiloc_gpx.gpx\n20150825_175006_hiking_strava_tcx.tcx\n20150913_084600_hiking_strava_tcx.tcx\n20150913_104619_hiking_wikiloc_gpx.gpx\n20151011_101419_hiking_wikiloc_gpx.gpx\n20151206_083202_hiking_strava_tcx.tcx\n20160410_163930_hiking_strava_tcx.tcx\n20160516_162826_hiking_strava_tcx.tcx\n20160625_120256_hiking_wikiloc_gpx.gpx\n20161101_114328_hiking_strava_tcx.tcx\n20170219_104447_hiking_strava_tcx.tcx\n20170305_095749_hiking_strava_tcx.tcx\n20170610_084412_hiking_strava_tcx.tcx\n20171025_173030_hiking_strava_tcx.tcx\n20180128_070506_hiking_strava_tcx.tcx\n20180616_092907_hiking_strava_tcx.tcx\n20190216_112208_hiking_strava_tcx.tcx\n20190406_123310_hiking_wikiloc_gpx.gpx\n20190414_101726_hiking_wikiloc_gpx.gpx\n20190526_085254_hiking_wikiloc_gpx.gpx\n20190605_192537_hiking_wikiloc_gpx.gpx\n20190704_190036_hiking_wikiloc_gpx.gpx\n20190728_120029_hiking_wikiloc_gpx.gpx\n20190831_204316_hiking_wikiloc_gpx.gpx\n20200125_103326_hiking_strava_gpx.gpx\n20200509_105516_hiking_endomondo_gpx.gpx\n"
    }
   ],
   "source": [
    "for l in file_list:\n",
    "    print(l)\n",
    "    os.rename(folder_path_in + l, folder_path_tracks + 'polmartisanahuja/hiking/' + l)"
   ]
  },
  {
   "cell_type": "markdown",
   "metadata": {},
   "source": [
    "## motorcycling"
   ]
  },
  {
   "cell_type": "code",
   "execution_count": 82,
   "metadata": {},
   "outputs": [],
   "source": [
    "file_list = [f for f in os.listdir(folder_path_in) if 'motorcycling' in f and f not in name_list_other]"
   ]
  },
  {
   "cell_type": "code",
   "execution_count": 83,
   "metadata": {},
   "outputs": [
    {
     "output_type": "stream",
     "name": "stdout",
     "text": "20091121_072738_motorcycling_wikiloc_gpx.gpx\n20110212_091524_motorcycling_wikiloc_gpx.gpx\n20110219_093542_motorcycling_garmin_tcx.tcx\n20110319_080239_motorcycling_wikiloc_gpx.gpx\n20110501_090523_motorcycling_wikiloc_gpx.gpx\n20110514_061858_motorcycling_wikiloc_gpx.gpx\n20110723_062035_motorcycling_wikiloc_gpx.gpx\n20120208_085947_motorcycling_wikiloc_gpx.gpx\n20120317_091517_motorcycling_wikiloc_gpx.gpx\n20120805_092547_motorcycling_wikiloc_gpx.gpx\n20130802_145208_motorcycling_wikiloc_gpx.gpx\n20190512_103531_motorcycling_wikiloc_gpx.gpx\n20190528_191635_motorcycling_wikiloc_gpx.gpx\n20190608_131050_motorcycling_wikiloc_gpx.gpx\n20190706_092628_motorcycling_wikiloc_gpx.gpx\n20190716_191315_motorcycling_wikiloc_gpx.gpx\n20190803_104739_motorcycling_wikiloc_gpx.gpx\n20191206_121812_motorcycling_wikiloc_gpx.gpx\n20200202_104950_motorcycling_wikiloc_gpx.gpx\n"
    }
   ],
   "source": [
    "for l in file_list:\n",
    "    print(l)\n",
    "    os.rename(folder_path_in + l, folder_path_tracks + 'polmartisanahuja/motorcycling/' + l)"
   ]
  },
  {
   "cell_type": "code",
   "execution_count": null,
   "metadata": {},
   "outputs": [],
   "source": []
  },
  {
   "cell_type": "code",
   "execution_count": null,
   "metadata": {},
   "outputs": [],
   "source": []
  }
 ],
 "metadata": {
  "language_info": {
   "codemirror_mode": {
    "name": "ipython",
    "version": 3
   },
   "file_extension": ".py",
   "mimetype": "text/x-python",
   "name": "python",
   "nbconvert_exporter": "python",
   "pygments_lexer": "ipython3",
   "version": "3.7.4-final"
  },
  "orig_nbformat": 2,
  "kernelspec": {
   "name": "python3",
   "display_name": "Python 3"
  }
 },
 "nbformat": 4,
 "nbformat_minor": 2
}