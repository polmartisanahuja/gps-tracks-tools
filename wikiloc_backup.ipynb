{
 "cells": [
  {
   "cell_type": "code",
   "execution_count": null,
   "metadata": {},
   "outputs": [],
   "source": [
    "from selenium import webdriver\n",
    "import time\n",
    "import re\n",
    "import os\n",
    "from credentials import *"
   ]
  },
  {
   "cell_type": "code",
   "execution_count": null,
   "metadata": {},
   "outputs": [],
   "source": [
    "driver = webdriver.Chrome()"
   ]
  },
  {
   "cell_type": "code",
   "execution_count": null,
   "metadata": {},
   "outputs": [],
   "source": [
    "url = \"https://es.wikiloc.com/wikiloc/start.do\"\n",
    "driver.get(url)"
   ]
  },
  {
   "cell_type": "code",
   "execution_count": null,
   "metadata": {},
   "outputs": [],
   "source": [
    "account = 'wikiloc_polmartisanahuja'\n",
    "#account = 'wikiloc_lostrackers'\n",
    "\n",
    "driver.find_element_by_name('email').send_keys(credentials_dic[account]['user'])\n",
    "driver.find_element_by_name('password').send_keys(credentials_dic[account]['password'])\n",
    "driver.find_element_by_id('submit-button').click()"
   ]
  },
  {
   "cell_type": "code",
   "execution_count": null,
   "metadata": {},
   "outputs": [],
   "source": [
    "# Buddies\n",
    "\n",
    "url = \"https://es.wikiloc.com/wikiloc/user.do?id=53518&event=trails\"\n",
    "driver.get(url)\n",
    "\n",
    "id_list = []\n",
    "name_list = []\n",
    "\n",
    "while True:\n",
    "    el = driver.find_element_by_xpath(\"//*[@class=\\\"trail-list\\\"]\")\n",
    "    html_string = el.get_attribute('innerHTML')\n",
    "    id_list += re.findall('-([0-9]+)\\\" title=', html_string)\n",
    "    name_list += [l.split('/')[3] for l in re.findall('/(.*?)-[0-9]*\\\" title=', html_string)]\n",
    "    if(driver.find_elements_by_class_name('next') == []): break\n",
    "    driver.find_element_by_xpath(\"//*[@class=\\\"next\\\"]\").click()\n",
    "    time.sleep(1) "
   ]
  },
  {
   "cell_type": "code",
   "execution_count": null,
   "metadata": {},
   "outputs": [],
   "source": [
    "# My trails\n",
    "\n",
    "# url = \"https://es.wikiloc.com/wikiloc/spatialArtifacts.do\"\n",
    "# driver.get(url)\n",
    "\n",
    "# id_list = []\n",
    "# name_list = []\n",
    "# while True:\n",
    "#     el = driver.find_element_by_xpath(\"//*[@id=\\\"candidates\\\"]/div[1]/ul\")\n",
    "#     html_string = el.get_attribute('innerHTML')\n",
    "#     id_list += re.findall('EndHighlightCandidate\\((.*?)\\,true', html_string)\n",
    "#     name_list += [s.rsplit('/', 1)[-1] for s in re.findall('/(.*?)-[0-9]', html_string)]\n",
    "#     if(driver.find_elements_by_id('page_next') == []): break\n",
    "#     driver.find_element_by_xpath(\"//*[@id=\\\"page_next\\\"]\").click()\n",
    "#     time.sleep(1) "
   ]
  },
  {
   "cell_type": "code",
   "execution_count": null,
   "metadata": {},
   "outputs": [],
   "source": [
    "name_list"
   ]
  },
  {
   "cell_type": "code",
   "execution_count": null,
   "metadata": {},
   "outputs": [],
   "source": [
    "id_list"
   ]
  },
  {
   "cell_type": "code",
   "execution_count": null,
   "metadata": {},
   "outputs": [],
   "source": [
    "#id_list = list(set(id_list))"
   ]
  },
  {
   "cell_type": "code",
   "execution_count": null,
   "metadata": {},
   "outputs": [],
   "source": [
    "len(id_list)"
   ]
  },
  {
   "cell_type": "code",
   "execution_count": null,
   "metadata": {},
   "outputs": [],
   "source": [
    "len(name_list)"
   ]
  },
  {
   "cell_type": "code",
   "execution_count": null,
   "metadata": {},
   "outputs": [],
   "source": [
    "dictionary = dict(zip(id_list, name_list))"
   ]
  },
  {
   "cell_type": "code",
   "execution_count": null,
   "metadata": {},
   "outputs": [],
   "source": [
    "len(dictionary)"
   ]
  },
  {
   "cell_type": "code",
   "execution_count": null,
   "metadata": {},
   "outputs": [],
   "source": [
    "#id_list = id_list[id_list.index(l)+1:]"
   ]
  },
  {
   "cell_type": "code",
   "execution_count": null,
   "metadata": {},
   "outputs": [],
   "source": [
    "downloaded_files_list_1 = ['is_different']\n",
    "downloaded_files_list_2 = os.listdir(\"/Users/polmartisanahuja/Downloads/\")\n",
    "downloaded_files_list_2 = [i.replace('.gpx', '') for i in downloaded_files_list_2 if not i.startswith('.')]"
   ]
  },
  {
   "cell_type": "code",
   "execution_count": null,
   "metadata": {},
   "outputs": [],
   "source": [
    "while len(dictionary) != 0:\n",
    "    \n",
    "    if(downloaded_files_list_1 == downloaded_files_list_2): \n",
    "        print(\"Recaptcha :(\")\n",
    "        break\n",
    "        \n",
    "    dictionary = {key:val for key, val in dictionary.items() if val not in downloaded_files_list_2}\n",
    "    key, value = dictionary.popitem()\n",
    "    print(\"{}:{}\".format(key, value))\n",
    "    \n",
    "    url = 'https://es.wikiloc.com/wikiloc/download.do?id=' + key\n",
    "    driver.get(url)\n",
    "    time.sleep(2) \n",
    "    \n",
    "    driver.find_element_by_xpath(\"//*[@id=\\\"download-box\\\"]/div/div[2]/ul/li[2]\").click()\n",
    "    time.sleep(2)\n",
    "    \n",
    "    if(driver.find_elements_by_xpath(\"//*[@id=\\\"as_gpx\\\"]/div[2]/div[2]/label/input\") != []):\n",
    "        driver.find_element_by_xpath(\"//*[@id=\\\"as_gpx\\\"]/div[2]/div[2]/label/input\").click()\n",
    "    time.sleep(2)\n",
    "    \n",
    "    driver.find_element_by_xpath(\"//*[@id=\\\"btn-download-file\\\"]\").click()\n",
    "    time.sleep(2)\n",
    "    \n",
    "    downloaded_files_list_1 = downloaded_files_list_2\n",
    "    downloaded_files_list_2 = os.listdir(\"/Users/polmartisanahuja/Downloads/\")\n",
    "    downloaded_files_list_2 = [i.replace('.gpx', '') for i in downloaded_files_list_2 if not i.startswith('.')]"
   ]
  },
  {
   "cell_type": "code",
   "execution_count": null,
   "metadata": {},
   "outputs": [],
   "source": []
  }
 ],
 "metadata": {
  "kernelspec": {
   "display_name": "Python 3",
   "language": "python",
   "name": "python3"
  },
  "language_info": {
   "codemirror_mode": {
    "name": "ipython",
    "version": 3
   },
   "file_extension": ".py",
   "mimetype": "text/x-python",
   "name": "python",
   "nbconvert_exporter": "python",
   "pygments_lexer": "ipython3",
   "version": "3.7.4-final"
  }
 },
 "nbformat": 4,
 "nbformat_minor": 4
}