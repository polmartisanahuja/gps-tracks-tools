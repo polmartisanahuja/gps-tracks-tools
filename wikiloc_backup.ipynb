{
 "cells": [
  {
   "cell_type": "code",
   "execution_count": 67,
   "metadata": {},
   "outputs": [],
   "source": [
    "from selenium import webdriver\n",
    "import time\n",
    "import re\n",
    "import os\n",
    "from credentials import *"
   ]
  },
  {
   "cell_type": "code",
   "execution_count": 68,
   "metadata": {},
   "outputs": [],
   "source": [
    "driver = webdriver.Chrome()"
   ]
  },
  {
   "cell_type": "code",
   "execution_count": 69,
   "metadata": {},
   "outputs": [],
   "source": [
    "url = \"https://es.wikiloc.com/wikiloc/start.do\"\n",
    "driver.get(url)"
   ]
  },
  {
   "cell_type": "code",
   "execution_count": 70,
   "metadata": {},
   "outputs": [],
   "source": [
    "account = 'wikiloc_polmartisanahuja'\n",
    "#account = 'wikiloc_lostrackers'\n",
    "\n",
    "driver.find_element_by_name('email').send_keys(credentials_dic[account]['user'])\n",
    "driver.find_element_by_name('password').send_keys(credentials_dic[account]['password'])\n",
    "driver.find_element_by_id('submit-button').click()"
   ]
  },
  {
   "cell_type": "code",
   "execution_count": 71,
   "metadata": {},
   "outputs": [],
   "source": [
    "# Buddies\n",
    "\n",
    "# url = \"https://es.wikiloc.com/wikiloc/user.do?id=53518&event=trails\"\n",
    "# driver.get(url)\n",
    "\n",
    "# id_list = []\n",
    "# name_list = []\n",
    "\n",
    "# while True:\n",
    "#     el = driver.find_element_by_xpath(\"//*[@class=\\\"trail-list\\\"]\")\n",
    "#     html_string = el.get_attribute('innerHTML')\n",
    "#     id_list += re.findall('-([0-9]+)\\\" title=', html_string)\n",
    "#     name_list += [l.split('/')[3] for l in re.findall('/(.*?)-[0-9]*\\\" title=', html_string)]\n",
    "#     if(driver.find_elements_by_class_name('next') == []): break\n",
    "#     driver.find_element_by_xpath(\"//*[@class=\\\"next\\\"]\").click()\n",
    "#     time.sleep(1) "
   ]
  },
  {
   "cell_type": "code",
   "execution_count": 72,
   "metadata": {},
   "outputs": [],
   "source": [
    "# My trails\n",
    "\n",
    "url = \"https://es.wikiloc.com/wikiloc/spatialArtifacts.do\"\n",
    "driver.get(url)\n",
    "\n",
    "id_list = []\n",
    "name_list = []\n",
    "while True:\n",
    "    el = driver.find_element_by_xpath(\"//*[@id=\\\"candidates\\\"]/div[1]/ul\")\n",
    "    html_string = el.get_attribute('innerHTML')\n",
    "    id_list += re.findall('EndHighlightCandidate\\((.*?)\\,true', html_string)\n",
    "    name_list += [s.rsplit('/', 1)[-1] for s in re.findall('/(.*?)-[0-9]', html_string)]\n",
    "    if(driver.find_elements_by_id('page_next') == []): break\n",
    "    driver.find_element_by_xpath(\"//*[@id=\\\"page_next\\\"]\").click()\n",
    "    time.sleep(1) "
   ]
  },
  {
   "cell_type": "code",
   "execution_count": 73,
   "metadata": {},
   "outputs": [
    {
     "output_type": "execute_result",
     "data": {
      "text/plain": "['sant-cugat-del-valles-tibidabo',\n 'sant-cugat-tibidabo-original',\n 'trialeras-y-senderos-de-can-gordi-sant-medir-can-cerda-can-coll-y-la-torre-negra-desde-sant-cugat',\n 'sant-cugat-can-coll-can-cuias-turo-den-segarra-can-cata-vista-rica-can-borrell',\n 'olesa-de-montserrat-igualada-castetallat-marganell-vacarisses',\n 'sant-cugat-papiol-muntanyes-de-lordal-castellbisbal-rubi',\n 'subida-a-santa-magdalena-de-montserrat-desde-collbato',\n 'sant-cugat-del-valles-turo-de-mataric',\n 'pedals-den-serrallonga',\n 'pedals-den-serrallonga',\n 'pedals-den-serrallonga',\n 'spatialArtifacts.do?event=setCurrentSpatialArtifact&amp;id=51400795\" title=\"Hacer \\'Sant Cugat - GR',\n 'sant-cugat-gr',\n 'collserola-serra-de-marina',\n 'media-luna-sant-cugat',\n 'sant-cugat-la-salut-castellvi-vallvidrera-sant-medir',\n 'olesa-de-montserrat-sant-pere-sacama-creu-de-saba-cim-de-la-creueta',\n 'sant-cugat-font-de-lermeta-can-borrell-pi-den-xandri',\n 'la-ruta-del-churro-sant-cugat-cerdanyola-torrent-de-sant-iscle-serra-den-fotja-can-coll',\n 'sant-cugat-serra-den-ferrer-riera-de-sant-medir',\n 'sant-cugat-trialeras-de-las-sierras-de-sant-medir-y-sant-vicenc',\n 'los-tres-torrentes-el-de-la-torre-negra-el-de-la-fuente-del-ermeta-y-el-de-can-gordi',\n 'vilafranca-del-penedes-mazinger-z',\n 'terrassa-rellinars-terrassa',\n 'turons-de-la-serra-de-collcardus',\n 'collserola-oeste-desde-sant-cugat-del-valles',\n 'graus-vilas-del-turbon',\n 'ulldemolins-prades',\n 'la-morera-de-montsant-ulldemolins',\n 'prades-siurana',\n 'siurana-morera-de-montsant',\n 'vuelta-a-collserola-version',\n 'pisac',\n 'subida-nocturna-a-la-mola-para-cenar-en-el-restaurante',\n 'graus-pantano-de-barasona',\n 'graus-ermita-de-san-pedro',\n 'castellar-del-valles-sant-llorenc-savall-calders-moia-caldes-de-montbui',\n 'panta-de-sau-tavertet-cingles-de-tavertet',\n 'barcelona-can-coll-can-borrell-sant-medir',\n 'vuelta-norte-a-sant-cugat-del-valles',\n 'sabadell-sant-llorenc-savall',\n 'sant-cugat-del-valles-sant-medir-por-la-sierra-de-sant-medir',\n 'sant-cugat-del-valles-molins-de-rei-tibidabo-horta-cerdanyola',\n 'la-vuelta-sincrotronica-sant-cugat-del-valles-sincrotron-alba',\n 'sant-cugat-del-valles-can-codonyers-can-coll-tibidabo-can-gener-con-bastantes-trialeras',\n 'sant-cugat-del-valles-ca-la-iaia-coll-destenalles',\n 'sant-cugat-del-valles-pi-den-xandri-hipica-severino-club-de-golf',\n 'sant-cugat-del-valles-can-coll-can-borrell',\n 'hemisferio-norte-de-sant-cugat-del-valles',\n 'sant-cugat-del-valles-tibidabo-por-la-trialera-del-acueducto',\n 'sant-cugat-del-valles-sant-medir',\n 'refugi-de-malniu-bolvir',\n 'bolvir-refugi-de-malniu',\n 'sant-cugat-del-valles-can-coll-tibidabo',\n 'parque-del-garraf-sitges',\n 'sant-cugat-del-valles-la-del-cocodrilo',\n 'sant-cugat-del-valles-can-jane',\n 'sant-cugat-del-valles-sierra-de-marina',\n 'cal-codonyers-y-can-castello',\n 'arrabassada-carretera-de-cerdanyola-a-horta',\n 'la-mola-sant-llorenc-del-munt',\n 'sant-cugat-del-valles-tibidabo',\n 'sant-cugat-del-valles-cerdanyola-del-valles',\n 'sant-cugat-del-valles-cerdanyola-vallvidrera-molins-de-rey',\n 'sant-cugat-del-valles-can-barata-sant-quirze-del-valles-bellaterra',\n 'collserola-per-torre-baro',\n 'las-dos-laderas-de-vallvidrera-ft-el-tibidabo',\n 'subida-a-sant-jeroni-de-montserrat-desde-el-monasterio-y-vuelta-por-sant-juan',\n 'vuelta-por-collserola',\n 'la-ruta-prohibida-sant-cugat-castellbisbal-ullastrell-can-sola-rubi-sant-cugat',\n 'sant-cugat-la-floresta-coll-de-can-mallol-molins-de-rei-papiol-puig-madrona-sant-cugat',\n 'ruta-de-los',\n 'ruta-en-moto-desde-roma-a-barcelona',\n 'ruta-en-moto-por-andalucia-desde-barcelona',\n 'cami-de-cavalls-ciutadella-mao-part-sud',\n 'volta-al-moncau',\n 'queralbs-nuria',\n 'mura-turo-dels-ducs-puig-de-la-balma',\n 'subida-al-turbon-desde-vilas-del-turbon',\n 'cami-de-ronda-sant-feliu-de-guixols-lescala',\n '6a-caminada-popular-cims-dels-tres-turons',\n 'caminada-canalda',\n 'la-mola-per-morral-del-drac-i-baixada-per-la-canal-del-mico',\n 'ruta-del-cares-picos-de-europa',\n 'circular-coll-destenalles-mura',\n 'volta-per-la-carena-dels-emprius',\n 'cursa-de-muntanya-de-terrassa',\n 'volta-per-can-bogunya',\n 'ruta-dels-volcans',\n 'cursa-de-st-jaume',\n 'subida-al-ros-desde-el-castillo-de-san-lluis',\n 'arenys-de-mar-terrassa',\n 'subida-a-la-mola-por-cavall-bernat',\n 'congost-de-mont-rebei',\n 'viladecavalls-mas-mimo',\n 'terrassa-olesa',\n 'volta-per-lobac',\n 'xxiv-marxa-popular-termes-darenys-de-munt',\n 'periferica-a-montserrat',\n 'pujada-al-pic-del-canigo-des-del-refugi-dels-cortalets',\n 'vuelta-a-traves-de-los-valles-de-benas-creguenya-corones-y-vallibierna',\n 'rafting-por-el-rio-esera',\n 'ruta-de-los-ibones',\n 'benasque-cerler-benasque',\n 'terrassa-benasque-en-moto',\n 'castellar-montserrat',\n 'pujada-a-miranda-de-santa-magdalena-de-montserrat',\n 'periferica-a-la-mola',\n 'casa-de-lobac-amb-baixada-per-la-pineda',\n 'terrassa-roda-de-bara',\n 'coll-destenalles-moncau-la-mola',\n 'castellsapera-coll-del-correu-coll-de-tres-creus',\n 'hospital-de-sang-serra-de-lobac',\n 'ruta-dentrenament-sant-miquel-de-gonteres',\n '2na-ronda-nocturna-canyamars',\n 'pujada-al-castell-dels-lladres',\n 'vol-desde-liri-castejon-de-sos',\n 'gorges-de-caranca',\n 'baixada-del-ripoll-besos',\n 'casa-ifae-en-moto',\n 'terrassa-mura',\n 'cami-moliner',\n 'terrassa-moia',\n 'terrassa-uab-per-st-quirze-en-bici',\n 'casa-ifae-en-fgc',\n '1a-bicicletada-popular-canyamars',\n 'graus-ermita-de-st-pedro',\n 'graus-ermita-de-los-templarios',\n 'baixada-perdiguero',\n 'periferica-a-collserola',\n 'pujada-a-la-mola-per-la-cara-nord',\n 'volta-per-ca-namat',\n 'ruta-de-les-masies-de-viladecavalls',\n 'mura-el-puig-de-la-balma',\n 'caus-casa-de-lobac-pedritxes-versio-curta',\n 'casa-st-pol',\n 'abocador-de-coll-cardus',\n 'ruta-de-les-masies-de-viladecavalls-versio-curta',\n 'volta-can-candi',\n 'volta-a-collserola',\n 'tobotronc',\n 'sta-maria-de-montnegre',\n 'trencacames-per-st-llorenc-i-lobac',\n 'montserrat-per-can-macana',\n 'turo-de-la-barromina',\n 'vol-sabadell-montserrat',\n 'pujada-tradicional-a-lamola',\n 'terrassa-prats-de-llucanes',\n 'pujada-a-st-geroni-de-montserrat-des-de-monistrol',\n 'vuelta-a-la-caldera-de-taburiente-lapalma',\n 'pujada-a-la-creu-de-pedracastell-canet',\n 'graus-grustan-pano',\n 'castell-de-fantova-amb-tornada-per-isabena',\n 'caus-casa-de-lobac-pedritxes-versio-llarga',\n 'terrassa-uab-per-can-barata-en-bici',\n 'volta-terrassa-sabadell',\n 'lausanne-berne-luzern',\n 'terrassa-gallifa',\n 'terrassa-calders-manresa-montserrat-terrassa',\n 'castellar-gallifa-sant-feliu-caldes-castellar',\n 'marato-de-collserola-desde-sant-cugat',\n 'tren-dels-llacs',\n 'terrassa-castellar-balsareny-manresa-terrassa']"
     },
     "metadata": {},
     "execution_count": 73
    }
   ],
   "source": [
    "name_list"
   ]
  },
  {
   "cell_type": "code",
   "execution_count": 74,
   "metadata": {},
   "outputs": [
    {
     "output_type": "execute_result",
     "data": {
      "text/plain": "['52972944',\n '52908789',\n '52807308',\n '52475950',\n '52224339',\n '52102909',\n '52045891',\n '52012863',\n '51914888',\n '51853203',\n '51764431',\n '51400795',\n '51329655',\n '51236414',\n '51148987',\n '51023227',\n '50457987',\n '50376594',\n '50128544',\n '49555450',\n '49443810',\n '46186712',\n '46149921',\n '45867664',\n '45378106',\n '44183892',\n '43143793',\n '43112162',\n '43066816',\n '43066185',\n '42857356',\n '41195956',\n '40737959',\n '40073528',\n '40065551',\n '39425181',\n '39207650',\n '39127184',\n '39062294',\n '38883587',\n '38833539',\n '38762748',\n '38602095',\n '38539422',\n '38372137',\n '38326384',\n '38295656',\n '38124458',\n '38066993',\n '37833833',\n '37667756',\n '37631993',\n '37536373',\n '37372462',\n '37322108',\n '37271390',\n '37153233',\n '37031636',\n '36964456',\n '36866565',\n '36744834',\n '36546707',\n '36346627',\n '36279071',\n '35638624',\n '35221284',\n '34941512',\n '34693191',\n '33970695',\n '33916124',\n '33663823',\n '27955754',\n '23677921',\n '14416920',\n '13793190',\n '11057747',\n '10787537',\n '10541715',\n '10489494',\n '8123759',\n '7845404',\n '7760206',\n '7574117',\n '7082763',\n '6986990',\n '5797581',\n '5707930',\n '5555651',\n '5513574',\n '4961790',\n '4952600',\n '4944297',\n '4893372',\n '3771145',\n '3645842',\n '3602625',\n '3450200',\n '3349056',\n '3329231',\n '3228163',\n '3201600',\n '3188102',\n '3170913',\n '3162614',\n '3149533',\n '3136193',\n '3109831',\n '3024393',\n '2944233',\n '2944230',\n '2944226',\n '2944224',\n '2944221',\n '2944193',\n '2944183',\n '2944181',\n '2944176',\n '2944164',\n '2944142',\n '2944127',\n '2944092',\n '2944012',\n '2944007',\n '2944002',\n '2943995',\n '2943986',\n '2943962',\n '2943946',\n '2943934',\n '2943924',\n '2943922',\n '2943914',\n '2943891',\n '2943889',\n '2943860',\n '2943850',\n '2943519',\n '2943512',\n '2943505',\n '2943496',\n '2943489',\n '2943481',\n '2943443',\n '2943434',\n '2943421',\n '2943418',\n '2943415',\n '2943401',\n '2943394',\n '2943383',\n '2943362',\n '2943355',\n '2940112',\n '2940099',\n '2940083',\n '2940071',\n '2940063',\n '2940047',\n '2940043',\n '2940039',\n '2940031',\n '2940019']"
     },
     "metadata": {},
     "execution_count": 74
    }
   ],
   "source": [
    "id_list"
   ]
  },
  {
   "cell_type": "code",
   "execution_count": 75,
   "metadata": {},
   "outputs": [],
   "source": [
    "#id_list = list(set(id_list))"
   ]
  },
  {
   "cell_type": "code",
   "execution_count": 76,
   "metadata": {},
   "outputs": [
    {
     "output_type": "execute_result",
     "data": {
      "text/plain": "162"
     },
     "metadata": {},
     "execution_count": 76
    }
   ],
   "source": [
    "len(id_list)"
   ]
  },
  {
   "cell_type": "code",
   "execution_count": 77,
   "metadata": {},
   "outputs": [
    {
     "output_type": "execute_result",
     "data": {
      "text/plain": "163"
     },
     "metadata": {},
     "execution_count": 77
    }
   ],
   "source": [
    "len(name_list)"
   ]
  },
  {
   "cell_type": "code",
   "execution_count": 78,
   "metadata": {},
   "outputs": [],
   "source": [
    "dictionary = dict(zip(id_list, name_list))"
   ]
  },
  {
   "cell_type": "code",
   "execution_count": 79,
   "metadata": {},
   "outputs": [
    {
     "output_type": "execute_result",
     "data": {
      "text/plain": "162"
     },
     "metadata": {},
     "execution_count": 79
    }
   ],
   "source": [
    "len(dictionary)"
   ]
  },
  {
   "cell_type": "code",
   "execution_count": 80,
   "metadata": {},
   "outputs": [],
   "source": [
    "#id_list = id_list[id_list.index(l)+1:]"
   ]
  },
  {
   "cell_type": "code",
   "execution_count": 89,
   "metadata": {},
   "outputs": [],
   "source": [
    "downloaded_files_list_1 = ['is_different']\n",
    "downloaded_files_list_2 = os.listdir(\"/Users/polmartisanahuja/Downloads/\")\n",
    "downloaded_files_list_2 = [i.replace('.gpx', '') for i in downloaded_files_list_2 if not i.startswith('.')]"
   ]
  },
  {
   "cell_type": "code",
   "execution_count": 90,
   "metadata": {
    "tags": []
   },
   "outputs": [
    {
     "output_type": "stream",
     "name": "stdout",
     "text": "34693191:subida-a-sant-jeroni-de-montserrat-desde-el-monasterio-y-vuelta-por-sant-juan\n35638624:sant-cugat-del-valles-can-barata-sant-quirze-del-valles-bellaterra\n38295656:sant-cugat-del-valles-pi-den-xandri-hipica-severino-club-de-golf\n38372137:sant-cugat-del-valles-can-codonyers-can-coll-tibidabo-can-gener-con-bastantes-trialeras\n38539422:la-vuelta-sincrotronica-sant-cugat-del-valles-sincrotron-alba\n38602095:sant-cugat-del-valles-molins-de-rei-tibidabo-horta-cerdanyola\n39127184:panta-de-sau-tavertet-cingles-de-tavertet\n39207650:castellar-del-valles-sant-llorenc-savall-calders-moia-caldes-de-montbui\n41195956:vuelta-a-collserola-version\n46186712:los-tres-torrentes-el-de-la-torre-negra-el-de-la-fuente-del-ermeta-y-el-de-can-gordi\n49443810:sant-cugat-trialeras-de-las-sierras-de-sant-medir-y-sant-vicenc\n50128544:la-ruta-del-churro-sant-cugat-cerdanyola-torrent-de-sant-iscle-serra-den-fotja-can-coll\n50457987:olesa-de-montserrat-sant-pere-sacama-creu-de-saba-cim-de-la-creueta\n51329655:sant-cugat-gr\n51400795:spatialArtifacts.do?event=setCurrentSpatialArtifact&amp;id=51400795\" title=\"Hacer 'Sant Cugat - GR\n52224339:olesa-de-montserrat-igualada-castetallat-marganell-vacarisses\n52475950:sant-cugat-can-coll-can-cuias-turo-den-segarra-can-cata-vista-rica-can-borrell\n52807308:trialeras-y-senderos-de-can-gordi-sant-medir-can-cerda-can-coll-y-la-torre-negra-desde-sant-cugat\n"
    }
   ],
   "source": [
    "while len(dictionary) != 0:\n",
    "    \n",
    "    if(downloaded_files_list_1 == downloaded_files_list_2): \n",
    "        print(\"Recaptcha :(\")\n",
    "        break\n",
    "        \n",
    "    dictionary = {key:val for key, val in dictionary.items() if val not in downloaded_files_list_2}\n",
    "    key, value = dictionary.popitem()\n",
    "    print(\"{}:{}\".format(key, value))\n",
    "    \n",
    "    url = 'https://es.wikiloc.com/wikiloc/download.do?id=' + key\n",
    "    driver.get(url)\n",
    "    time.sleep(2) \n",
    "    \n",
    "    driver.find_element_by_xpath(\"//*[@id=\\\"download-box\\\"]/div/div[2]/ul/li[2]\").click()\n",
    "    time.sleep(2)\n",
    "    \n",
    "    if(driver.find_elements_by_xpath(\"//*[@id=\\\"as_gpx\\\"]/div[2]/div[2]/label/input\") != []):\n",
    "        driver.find_element_by_xpath(\"//*[@id=\\\"as_gpx\\\"]/div[2]/div[2]/label/input\").click()\n",
    "    time.sleep(2)\n",
    "    \n",
    "    driver.find_element_by_xpath(\"//*[@id=\\\"btn-download-file\\\"]\").click()\n",
    "    time.sleep(2)\n",
    "    \n",
    "    downloaded_files_list_1 = downloaded_files_list_2\n",
    "    downloaded_files_list_2 = os.listdir(\"/Users/polmartisanahuja/Downloads/\")\n",
    "    downloaded_files_list_2 = [i.replace('.gpx', '') for i in downloaded_files_list_2 if not i.startswith('.')]"
   ]
  }
 ],
 "metadata": {
  "kernelspec": {
   "display_name": "Python 3",
   "language": "python",
   "name": "python3"
  },
  "language_info": {
   "codemirror_mode": {
    "name": "ipython",
    "version": 3
   },
   "file_extension": ".py",
   "mimetype": "text/x-python",
   "name": "python",
   "nbconvert_exporter": "python",
   "pygments_lexer": "ipython3",
   "version": "3.7.4-final"
  }
 },
 "nbformat": 4,
 "nbformat_minor": 4
}